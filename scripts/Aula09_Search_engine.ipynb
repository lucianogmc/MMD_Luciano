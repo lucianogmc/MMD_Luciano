{
 "metadata": {
  "name": ""
 },
 "nbformat": 3,
 "nbformat_minor": 0,
 "worksheets": [
  {
   "cells": [
    {
     "cell_type": "markdown",
     "metadata": {},
     "source": [
      "Mestrado em Modelagem Matematica da Informacao\n",
      "Master Program - Mathematical Modeling of Information\n",
      "\n",
      "Disciplina: Modelagem e Mineracao de Dados\n",
      "\n",
      "Course: Data Mining and Modeling\n",
      "\n",
      "Professor: Renato Rocha Souza\n",
      "\n",
      "Topic: Search and ranking (class #8)\n",
      "\n",
      "Information on the Python Packages used:\n",
      "\n",
      "http://docs.python.org/library/sqlite3.html\n",
      "\n",
      "http://www.crummy.com/software/BeautifulSoup/\n",
      "\n",
      "http://docs.python.org/library/urlparse.html\n",
      "\n",
      "http://docs.python.org/library/re.html\n",
      "\n",
      "http://nltk.org/"
     ]
    },
    {
     "cell_type": "code",
     "collapsed": false,
     "input": [
      "import urllib2\n",
      "import re\n",
      "import nltk\n",
      "from bs4 import BeautifulSoup\n",
      "from urlparse import urljoin\n",
      "from sqlite3 import dbapi2 as sqlite"
     ],
     "language": "python",
     "metadata": {},
     "outputs": [],
     "prompt_number": 15
    },
    {
     "cell_type": "markdown",
     "metadata": {},
     "source": [
      "Specifying the path to the files"
     ]
    },
    {
     "cell_type": "code",
     "collapsed": false,
     "input": [
      "outputs = \"/home/rsouza/Dropbox/Renato/ModMinDados/outputs/\"\n",
      "\n",
      "dbfile = u\"searchindex.sqlite\"\n",
      "db = (outputs+dbfile)\n",
      "\n",
      "stoplist_en = nltk.corpus.stopwords.words('english')\n",
      "stoplist_pt = nltk.corpus.stopwords.words('portuguese')\n",
      "ignorewords = stoplist_en + stoplist_pt"
     ],
     "language": "python",
     "metadata": {},
     "outputs": [],
     "prompt_number": 16
    },
    {
     "cell_type": "markdown",
     "metadata": {},
     "source": [
      "First block of classes and functions: crawling"
     ]
    },
    {
     "cell_type": "code",
     "collapsed": false,
     "input": [
      "class crawler:\n",
      "    def __init__(self,dbname):\n",
      "        self.con=sqlite.connect(dbname)\n",
      "        \n",
      "    def __del__(self):\n",
      "        self.con.close()\n",
      "\n",
      "    def dbcommit(self):\n",
      "        self.con.commit()\n",
      "\n",
      "    def createindextables(self):\n",
      "        self.con.execute(u'create table if not exists urllist(url)')\n",
      "        self.con.execute(u'create table if not exists wordlist(word)')\n",
      "        self.con.execute(u'create table if not exists wordlocation(urlid,wordid,location)')\n",
      "        self.con.execute(u'create table if not exists link(fromid integer,toid integer)')\n",
      "        self.con.execute(u'create table if not exists linkwords(wordid,linkid)')\n",
      "        self.con.execute(u'create index if not exists wordidx on wordlist(word)')\n",
      "        self.con.execute(u'create index if not exists urlidx on urllist(url)')\n",
      "        self.con.execute(u'create index if not exists wordurlidx on wordlocation(wordid)')\n",
      "        self.con.execute(u'create index if not exists urltoidx on link(toid)')\n",
      "        self.con.execute(u'create index if not exists urlfromidx on link(fromid)')\n",
      "        self.dbcommit()\n",
      "\n",
      "    def getentryid(self, table, field, value, createnew=True):\n",
      "        '''Add page id to the database, if not present'''\n",
      "        q = u\"select rowid from {} where {}='{}'\"\n",
      "        cursor = self.con.execute(q.format(table,field,value))\n",
      "        result = cursor.fetchone()\n",
      "        if result == None:\n",
      "            q = u\"insert into {} ({}) values ('{}')\"\n",
      "            cursor = self.con.execute(q.format(table,field,value))\n",
      "            return cursor.lastrowid\n",
      "        else:\n",
      "            return result[0] \n",
      "\n",
      "    def addtoindex(self,url,sopa):\n",
      "        '''Add url to the index if not there'''\n",
      "        if self.isindexed(url): \n",
      "            print(u'Page {} already indexed...'.format(url))\n",
      "            return\n",
      "        print(u'Indexing: {}'.format(url))\n",
      "        text = self.gettextonly(sopa)\n",
      "        words = self.separatewords(text)\n",
      "        urlid = self.getentryid('urllist', 'url', url)\n",
      "        for i in range(len(words)):\n",
      "            word = words[i]\n",
      "            if word in ignorewords: \n",
      "                continue\n",
      "            wordid = self.getentryid('wordlist','word',word)\n",
      "            q = u\"insert into wordlocation (urlid,wordid,location) values ({},{},{})\"\n",
      "            self.con.execute(q.format(urlid,wordid,i))\n",
      "                            \n",
      "    def gettextonly(self,soup):\n",
      "        '''Extract raw text from html page'''\n",
      "        v = soup.string\n",
      "        if v == None:   \n",
      "            c = soup.contents\n",
      "            resulttext = ''\n",
      "            for t in c:\n",
      "                subtext = self.gettextonly(t)\n",
      "                resulttext += subtext+'\\n'\n",
      "            return resulttext\n",
      "        else:\n",
      "            return v.strip()\n",
      "\n",
      "    def separatewords(self,text):\n",
      "        '''splits the sentences by the non alpha characters\n",
      "        and converts all words to lowercase'''\n",
      "        splitter = re.compile('\\\\W*', flags=re.U)\n",
      "        return [s.lower() for s in splitter.split(text) if s != '']\n",
      "        \n",
      "    def isindexed(self,url):\n",
      "        '''Verify whether url is already indexed'''\n",
      "        q = u\"select rowid from urllist where url='{}'\"\n",
      "        u = self.con.execute(q.format(url)).fetchone()\n",
      "        if u != None:\n",
      "            q = u\"select * from wordlocation where urlid={}\"\n",
      "            v = self.con.execute(q.format(u[0])).fetchone()\n",
      "            if v != None:\n",
      "                return True\n",
      "        return False\n",
      "        \n",
      "    def addlinkref(self,urlFrom,urlTo,linkText):\n",
      "        '''Add a link between two pages'''\n",
      "        words = self.separatewords(linkText)\n",
      "        fromid = self.getentryid(u'urllist',u'url', urlFrom)\n",
      "        toid = self.getentryid(u'urllist',u'url', urlTo)\n",
      "        if fromid == toid:\n",
      "            return\n",
      "        q = u\"insert into link(fromid,toid) values ({},{})\"\n",
      "        cursor = self.con.execute(q.format(fromid,toid))\n",
      "        linkid = cursor.lastrowid\n",
      "        for word in words:\n",
      "            if word in ignorewords: \n",
      "                continue\n",
      "            wordid = self.getentryid(u'wordlist',u'word', word)\n",
      "            q = u\"insert into linkwords(linkid,wordid) values ({},{})\"\n",
      "            self.con.execute(q.format(linkid,wordid))\n",
      "    \n",
      "    def crawl(self,pages,depth=1):\n",
      "        '''Starts indexing seed page(s), goes indexing all pages following\n",
      "        breadth first, until the desired depth'''\n",
      "        print(u'Seed URL(s)')        \n",
      "        for p in pages: print(p)\n",
      "        print(u'\\nIndexing from seed with depth of {}\\n'.format(depth))\n",
      "        for i in range(depth+1):\n",
      "            newpages = {}\n",
      "            for page in pages:\n",
      "                try:\n",
      "                    c = urllib2.urlopen(page)\n",
      "                except:\n",
      "                    print(u'Could not access page: {}'.format(page))\n",
      "                    continue\n",
      "                try:\n",
      "                    p = c.read()\n",
      "                    soup = BeautifulSoup(p)\n",
      "                    self.addtoindex(page,soup)\n",
      "                    links = soup(u'a')\n",
      "                    for link in links:\n",
      "                        if (u'href' in dict(link.attrs)):\n",
      "                            url = urljoin(page,link[u'href'])\n",
      "                            if url.find(u\"'\") != -1:\n",
      "                                continue\n",
      "                            url = url.split(u'#')[0]  #Keeps base url\n",
      "                            if url[0:4] == u'http' and not self.isindexed(url):\n",
      "                                newpages[url] = 1\n",
      "                            linkText = self.gettextonly(link)\n",
      "                            self.addlinkref(page,url,linkText)\n",
      "                    self.dbcommit()\n",
      "                except:\n",
      "                    print(u\"Could not parse page {}\".format(page))\n",
      "                    raise\n",
      "            self.dbcommit()\n",
      "            pages = newpages\n",
      "\n",
      "    def calculatepagerank(self,iterations=20):\n",
      "        '''Initialize each url with pagerank = 1, and iterates until\n",
      "        it reaches the limit. Calculates pagerank with damping factor'''\n",
      "        self.con.execute(u'drop table if exists pagerank')\n",
      "        self.dbcommit()\n",
      "        self.con.execute(u'create table pagerank(urlid primary key,score)')\n",
      "        for (urlid,) in self.con.execute(u'select rowid from urllist'):\n",
      "            q = u'insert into pagerank(urlid,score) values ({},1.0)'\n",
      "            self.con.execute(q.format(urlid))\n",
      "        self.dbcommit()\n",
      "        for i in range(iterations):\n",
      "            print(u\"Iteration {}\".format(i))\n",
      "            for (urlid,) in self.con.execute(u'select rowid from urllist'):\n",
      "                pr = 0.15\n",
      "                q1 = u'select distinct fromid from link where toid = {}'\n",
      "                for (linker,) in self.con.execute(q1.format(urlid)):\n",
      "                    q2 = u'select score from pagerank where urlid = {}'\n",
      "                    linkingpr = self.con.execute(q2.format(linker)).fetchone()[0]\n",
      "                    q3 = u'select count(*) from link where fromid = {}'\n",
      "                    linkingcount = self.con.execute(q3.format(linker)).fetchone()[0]\n",
      "                    pr += 0.85 * (linkingpr/linkingcount)\n",
      "                q4 = u'update pagerank set score = {} where urlid = {}'\n",
      "                self.con.execute(q4.format(pr,urlid))\n",
      "            self.dbcommit()"
     ],
     "language": "python",
     "metadata": {},
     "outputs": [],
     "prompt_number": 17
    },
    {
     "cell_type": "markdown",
     "metadata": {},
     "source": [
      "Second block of classes and functions: searching"
     ]
    },
    {
     "cell_type": "code",
     "collapsed": false,
     "input": [
      "class searcher:\n",
      "    def __init__(self,dbname):\n",
      "        self.con=sqlite.connect(dbname)\n",
      "\n",
      "    def __del__(self):\n",
      "        self.con.close()\n",
      "\n",
      "    def getmatchrows(self,q):\n",
      "        fieldlist=u'w0.urlid'\n",
      "        tablelist=u''  \n",
      "        clauselist=u''\n",
      "        wordids=[]\n",
      "        words=q.split(u' ')  \n",
      "        tablenumber=0\n",
      "        for word in words:\n",
      "            q = u\"select rowid from wordlist where word='{}'\"\n",
      "            wordrow = self.con.execute(q.format(word)).fetchone()\n",
      "            if wordrow != None:\n",
      "                wordid = wordrow[0]\n",
      "                wordids.append(wordid)\n",
      "                if tablenumber > 0:\n",
      "                    tablelist += u','\n",
      "                    clauselist += u' and '\n",
      "                    clauselist += u'w{}.urlid=w{}.urlid and '.format(tablenumber-1,tablenumber)\n",
      "                fieldlist += u',w{}.location'.format(tablenumber)\n",
      "                tablelist += u'wordlocation w{}'.format(tablenumber)   \n",
      "                clauselist += u'w{}.wordid={}'.format(tablenumber,wordid)\n",
      "                tablenumber += 1\n",
      "        fullquery = u'select {} from {} where {}'.format(fieldlist,tablelist,clauselist)\n",
      "        cursor = self.con.execute(fullquery)\n",
      "        rows = [row for row in cursor]\n",
      "        return rows, wordids\n",
      "\n",
      "    def getscoredlist(self,rows,wordids):\n",
      "        totalscores = dict([(row[0],0) for row in rows])\n",
      "        weights=[(1.0,self.frequencyscore(rows)),\n",
      "                 (1.0,self.locationscore(rows)), \n",
      "                 (1.0,self.distancescore(rows)),\n",
      "                 (1.0,self.inboundlinkscore(rows)),\n",
      "                 #(1.0,self.linktextscore(rows,wordids)),\n",
      "                 (1.0,self.pagerankscore(rows))]\n",
      "        for (weight,scores) in weights:\n",
      "            for url in totalscores:\n",
      "                totalscores[url] += weight*scores[url]\n",
      "        return totalscores\n",
      "\n",
      "    def geturlname(self,id):\n",
      "        q = u\"select url from urllist where rowid = {}\"\n",
      "        return self.con.execute(q.format(id)).fetchone()[0]\n",
      "\n",
      "    def query(self,q):\n",
      "        try:\n",
      "            rows,wordids = self.getmatchrows(q)\n",
      "        except:\n",
      "            print(u'No results in the database...')\n",
      "            return\n",
      "        scores = self.getscoredlist(rows,wordids)\n",
      "        rankedscores = [(score,url) for (url,score) in scores.items()]\n",
      "        rankedscores.sort()\n",
      "        rankedscores.reverse()\n",
      "        print(u'\\nResultados para busca por {}:'.format(q))\n",
      "        for (score,urlid) in rankedscores[0:10]:\n",
      "            print(u'{}\\t{}'.format(score, self.geturlname(urlid)))\n",
      "        return wordids,[r[1] for r in rankedscores[0:10]]\n",
      "\n",
      "    def normalizescores(self,scores,smallIsBetter=0):\n",
      "        vsmall=0.00001 # Avoiding division by zero\n",
      "        if smallIsBetter:\n",
      "            minscore = min(scores.values())\n",
      "            return dict([(u,float(minscore)/max(vsmall,l)) for (u,l) in scores.items()])\n",
      "        else:\n",
      "            maxscore = max(scores.values())\n",
      "            if maxscore == 0:\n",
      "                maxscore = vsmall\n",
      "            return dict([(u,float(c)/maxscore) for (u,c) in scores.items()])\n",
      "\n",
      "    def frequencyscore(self,rows):\n",
      "        counts = dict([(row[0],0) for row in rows])\n",
      "        for row in rows:\n",
      "            counts[row[0]] += 1\n",
      "        return self.normalizescores(counts)\n",
      "\n",
      "    def locationscore(self,rows):\n",
      "        locations = dict([(row[0],1000000) for row in rows])\n",
      "        for row in rows:\n",
      "            loc = sum(row[1:])\n",
      "            if loc < locations[row[0]]:\n",
      "                locations[row[0]] = loc\n",
      "        return self.normalizescores(locations,smallIsBetter=1)\n",
      "\n",
      "    def distancescore(self,rows):\n",
      "        if len(rows[0]) <= 2: \n",
      "            return dict([(row[0],1.0) for row in rows])\n",
      "        mindistance = dict([(row[0],1000000) for row in rows])\n",
      "        for row in rows:\n",
      "            dist = sum([abs(row[i]-row[i-1]) for i in range(1,len(row))])\n",
      "            if dist < mindistance[row[0]]:\n",
      "                mindistance[row[0]]=dist\n",
      "        return self.normalizescores(mindistance,smallIsBetter=1)\n",
      "\n",
      "    def inboundlinkscore(self,rows):\n",
      "        uniqueurls = dict([(row[0],1) for row in rows])\n",
      "        q = u'select count(*) from link where toid = {}'\n",
      "        inboundcount = dict([(u,self.con.execute(q.format(u)).fetchone()[0]) for u in uniqueurls])   \n",
      "        return self.normalizescores(inboundcount)\n",
      "\n",
      "    def linktextscore(self,rows,wordids):\n",
      "        linkscores = dict([(row[0],0) for row in rows])\n",
      "        for wordid in wordids:\n",
      "            q = u'select link.fromid,link.toid from linkwords,'\n",
      "            q += u'link where wordid={} and linkwords.linkid=link.rowid'\n",
      "            cursor = self.con.execute(q.format(wordid))\n",
      "            for (fromid,toid) in cursor:\n",
      "                if toid in linkscores:\n",
      "                    q = u'select score from pagerank where urlid={}'\n",
      "                    pr=self.con.execute(q.format(fromid)).fetchone()[0]\n",
      "                    linkscores[toid] += pr\n",
      "        maxscore = max(linkscores.values())\n",
      "        normalizedscores = dict([(u,float(l)/maxscore) for (u,l) in linkscores.items()])\n",
      "        return normalizedscores\n",
      "\n",
      "    def pagerankscore(self,rows):\n",
      "        q = u'select score from pagerank where urlid={}'\n",
      "        pageranks=dict([(row[0],self.con.execute(q.format(row[0])).fetchone()[0]) for row in rows])\n",
      "        maxrank = max(pageranks.values())\n",
      "        normalizedscores = dict([(u,float(l)/maxrank) for (u,l) in pageranks.items()])\n",
      "        return normalizedscores"
     ],
     "language": "python",
     "metadata": {},
     "outputs": [],
     "prompt_number": 18
    },
    {
     "cell_type": "markdown",
     "metadata": {},
     "source": [
      "Defining seed pages"
     ]
    },
    {
     "cell_type": "code",
     "collapsed": false,
     "input": [
      "seed1 = [u'http://kiwitobes.com/wiki/Categorical_list_of_programming_languages.html']\n",
      "seed2 = [u'http://www.oglobo.com/']\n",
      "seed3 = [u'http://emap.fgv.br/']"
     ],
     "language": "python",
     "metadata": {},
     "outputs": [],
     "prompt_number": 19
    },
    {
     "cell_type": "markdown",
     "metadata": {},
     "source": [
      "Instantiating the crawler"
     ]
    },
    {
     "cell_type": "code",
     "collapsed": false,
     "input": [
      "crawl = crawler(db)"
     ],
     "language": "python",
     "metadata": {},
     "outputs": [],
     "prompt_number": 20
    },
    {
     "cell_type": "markdown",
     "metadata": {},
     "source": [
      "Creating tables - needed only in the first time"
     ]
    },
    {
     "cell_type": "code",
     "collapsed": false,
     "input": [
      "crawl.createindextables()"
     ],
     "language": "python",
     "metadata": {},
     "outputs": [],
     "prompt_number": 21
    },
    {
     "cell_type": "markdown",
     "metadata": {},
     "source": [
      "Crawling to a specific depth level"
     ]
    },
    {
     "cell_type": "code",
     "collapsed": false,
     "input": [
      "crawl.crawl(seed1,1)"
     ],
     "language": "python",
     "metadata": {},
     "outputs": [
      {
       "output_type": "stream",
       "stream": "stdout",
       "text": [
        "Seed URL(s)\n",
        "http://kiwitobes.com/wiki/Categorical_list_of_programming_languages.html\n",
        "\n",
        "Indexing from seed with depth of 1\n",
        "\n",
        "Indexing: http://kiwitobes.com/wiki/Categorical_list_of_programming_languages.html"
       ]
      },
      {
       "output_type": "stream",
       "stream": "stderr",
       "text": [
        "-c:47: UnicodeWarning: Unicode equal comparison failed to convert both arguments to Unicode - interpreting them as being unequal\n",
        "-c:94: UnicodeWarning: Unicode equal comparison failed to convert both arguments to Unicode - interpreting them as being unequal\n"
       ]
      },
      {
       "output_type": "stream",
       "stream": "stdout",
       "text": [
        "\n",
        "Indexing: http://kiwitobes.com/wiki/Mainframe_computer.html"
       ]
      },
      {
       "output_type": "stream",
       "stream": "stdout",
       "text": [
        "\n",
        "Indexing: http://kiwitobes.com/wiki/F-Script_programming_language.html"
       ]
      },
      {
       "output_type": "stream",
       "stream": "stdout",
       "text": [
        "\n",
        "Could not access page: http://kiwitobes.com/wiki/List_%28computing%29.html"
       ]
      },
      {
       "output_type": "stream",
       "stream": "stdout",
       "text": [
        "\n",
        "Indexing: http://kiwitobes.com/wiki/Opal_programming_language.html"
       ]
      },
      {
       "output_type": "stream",
       "stream": "stdout",
       "text": [
        "\n",
        "Indexing: http://kiwitobes.com/wiki/Synchronous_programming_language.html"
       ]
      },
      {
       "output_type": "stream",
       "stream": "stdout",
       "text": [
        "\n",
        "Indexing: http://kiwitobes.com/wiki/Intel_8008.html"
       ]
      },
      {
       "output_type": "stream",
       "stream": "stdout",
       "text": [
        "\n",
        "Indexing: http://kiwitobes.com/wiki/The_Third_Manifesto.html"
       ]
      },
      {
       "output_type": "stream",
       "stream": "stdout",
       "text": [
        "\n",
        "Indexing: http://kiwitobes.com/wiki/Computer_program.html"
       ]
      },
      {
       "output_type": "stream",
       "stream": "stdout",
       "text": [
        "\n",
        "Indexing: http://kiwitobes.com/wiki/Indentation.html"
       ]
      },
      {
       "output_type": "stream",
       "stream": "stdout",
       "text": [
        "\n",
        "Indexing: http://kiwitobes.com/wiki/Oz_programming_language.html"
       ]
      },
      {
       "output_type": "stream",
       "stream": "stdout",
       "text": [
        "\n",
        "Indexing: http://kiwitobes.com/wiki/Common_Language_Runtime.html"
       ]
      },
      {
       "output_type": "stream",
       "stream": "stdout",
       "text": [
        "\n",
        "Indexing: http://kiwitobes.com/wiki/Agilent_VEE.html"
       ]
      },
      {
       "output_type": "stream",
       "stream": "stdout",
       "text": [
        "\n",
        "Indexing: http://kiwitobes.com/wiki/PDP-8.html"
       ]
      },
      {
       "output_type": "stream",
       "stream": "stdout",
       "text": [
        "\n",
        "Indexing: http://kiwitobes.com/wiki/Data-structured_language.html"
       ]
      },
      {
       "output_type": "stream",
       "stream": "stdout",
       "text": [
        "\n",
        "Indexing: http://kiwitobes.com/wiki/Ocaml.html"
       ]
      },
      {
       "output_type": "stream",
       "stream": "stdout",
       "text": [
        "\n",
        "Indexing: http://kiwitobes.com/wiki/Hewlett-Packard.html"
       ]
      },
      {
       "output_type": "stream",
       "stream": "stdout",
       "text": [
        "\n",
        "Indexing: http://kiwitobes.com/wiki/Klingon_language.html"
       ]
      },
      {
       "output_type": "stream",
       "stream": "stdout",
       "text": [
        "\n",
        "Indexing: http://kiwitobes.com/wiki/Befunge.html"
       ]
      },
      {
       "output_type": "stream",
       "stream": "stdout",
       "text": [
        "\n",
        "Indexing: http://kiwitobes.com/wiki/Information_Processing_Language.html"
       ]
      },
      {
       "output_type": "stream",
       "stream": "stdout",
       "text": [
        "\n",
        "Could not access page: http://kiwitobes.com/wiki/Glagol_%28programming_language%29.html"
       ]
      },
      {
       "output_type": "stream",
       "stream": "stdout",
       "text": [
        "\n",
        "Indexing: http://kiwitobes.com/wiki/Modula-3.html"
       ]
      },
      {
       "output_type": "stream",
       "stream": "stdout",
       "text": [
        "\n",
        "Indexing: http://kiwitobes.com/wiki/Cilk.html"
       ]
      },
      {
       "output_type": "stream",
       "stream": "stdout",
       "text": [
        "\n",
        "Indexing: http://kiwitobes.com/wiki/Metaprogramming.html"
       ]
      },
      {
       "output_type": "stream",
       "stream": "stdout",
       "text": [
        "\n",
        "Indexing: http://kiwitobes.com/wiki/Icelandic_language.html"
       ]
      },
      {
       "output_type": "stream",
       "stream": "stdout",
       "text": [
        "\n",
        "Indexing: http://kiwitobes.com/wiki/Java.html"
       ]
      },
      {
       "output_type": "stream",
       "stream": "stdout",
       "text": [
        "\n",
        "Indexing: http://kiwitobes.com/wiki/F_Sharp_programming_language.html"
       ]
      },
      {
       "output_type": "stream",
       "stream": "stdout",
       "text": [
        "\n",
        "Indexing: http://kiwitobes.com/wiki/MOO_programming_language.html"
       ]
      },
      {
       "output_type": "stream",
       "stream": "stdout",
       "text": [
        "\n",
        "Indexing: http://kiwitobes.com/wiki/Maple_computer_algebra_system.html"
       ]
      },
      {
       "output_type": "stream",
       "stream": "stdout",
       "text": [
        "\n",
        "Indexing: http://kiwitobes.com/wiki/Perl.html"
       ]
      },
      {
       "output_type": "stream",
       "stream": "stdout",
       "text": [
        "\n",
        "Indexing: http://kiwitobes.com/wiki/Real-time_computing.html"
       ]
      },
      {
       "output_type": "stream",
       "stream": "stdout",
       "text": [
        "\n",
        "Indexing: http://kiwitobes.com/wiki/Winbatch.html"
       ]
      },
      {
       "output_type": "stream",
       "stream": "stdout",
       "text": [
        "\n",
        "Indexing: http://kiwitobes.com/wiki/Miranda_programming_language.html"
       ]
      },
      {
       "output_type": "stream",
       "stream": "stdout",
       "text": [
        "\n",
        "Could not access page: http://kiwitobes.com/wiki/SCOOP_%28software%29.html"
       ]
      },
      {
       "output_type": "stream",
       "stream": "stdout",
       "text": [
        "\n",
        "Indexing: http://kiwitobes.com/wiki/Bytecode.html"
       ]
      },
      {
       "output_type": "stream",
       "stream": "stdout",
       "text": [
        "\n",
        "Indexing: http://kiwitobes.com/wiki/COMPASS.html"
       ]
      },
      {
       "output_type": "stream",
       "stream": "stdout",
       "text": [
        "\n",
        "Indexing: http://kiwitobes.com/wiki/TRAC_programming_language.html"
       ]
      },
      {
       "output_type": "stream",
       "stream": "stdout",
       "text": [
        "\n",
        "Indexing: http://kiwitobes.com/wiki/Multiplatform.html"
       ]
      },
      {
       "output_type": "stream",
       "stream": "stdout",
       "text": [
        "\n",
        "Indexing: http://kiwitobes.com/wiki/SALSA_programming_language.html"
       ]
      },
      {
       "output_type": "stream",
       "stream": "stdout",
       "text": [
        "\n",
        "Indexing: http://kiwitobes.com/wiki/Occam-Pi.html"
       ]
      },
      {
       "output_type": "stream",
       "stream": "stdout",
       "text": [
        "\n",
        "Indexing: http://kiwitobes.com/wiki/Ch_interpreter.html"
       ]
      },
      {
       "output_type": "stream",
       "stream": "stdout",
       "text": [
        "\n",
        "Indexing: http://kiwitobes.com/wiki/Janus_computer_programming_language.html"
       ]
      },
      {
       "output_type": "stream",
       "stream": "stdout",
       "text": [
        "\n",
        "Indexing: http://kiwitobes.com/wiki/Constraint_Handling_Rules.html"
       ]
      },
      {
       "output_type": "stream",
       "stream": "stdout",
       "text": [
        "\n",
        "Could not access page: http://kiwitobes.com/wiki/Concurrency_%28computer_science%29.html"
       ]
      },
      {
       "output_type": "stream",
       "stream": "stdout",
       "text": [
        "\n",
        "Indexing: http://kiwitobes.com/wiki/ABAP.html"
       ]
      },
      {
       "output_type": "stream",
       "stream": "stdout",
       "text": [
        "\n",
        "Indexing: http://kiwitobes.com/wiki/Joy_programming_language.html"
       ]
      },
      {
       "output_type": "stream",
       "stream": "stdout",
       "text": [
        "\n",
        "Indexing: http://kiwitobes.com/wiki/Declarative_programming_language.html"
       ]
      },
      {
       "output_type": "stream",
       "stream": "stdout",
       "text": [
        "\n",
        "Indexing: http://kiwitobes.com/wiki/ABSET.html"
       ]
      },
      {
       "output_type": "stream",
       "stream": "stdout",
       "text": [
        "\n",
        "Indexing: http://kiwitobes.com/wiki/SyncCharts.html"
       ]
      },
      {
       "output_type": "stream",
       "stream": "stdout",
       "text": [
        "\n",
        "Indexing: http://kiwitobes.com/wiki/Join-calculus.html"
       ]
      },
      {
       "output_type": "stream",
       "stream": "stdout",
       "text": [
        "\n",
        "Indexing: http://kiwitobes.com/wiki/Intel.html"
       ]
      },
      {
       "output_type": "stream",
       "stream": "stdout",
       "text": [
        "\n",
        "Indexing: http://kiwitobes.com/wiki/Bourne-Again_shell.html"
       ]
      },
      {
       "output_type": "stream",
       "stream": "stdout",
       "text": [
        "\n",
        "Indexing: http://kiwitobes.com/wiki/Russian_language.html"
       ]
      },
      {
       "output_type": "stream",
       "stream": "stdout",
       "text": [
        "\n",
        "Indexing: http://kiwitobes.com/wiki/Open_source.html"
       ]
      },
      {
       "output_type": "stream",
       "stream": "stdout",
       "text": [
        "\n",
        "Indexing: http://kiwitobes.com/wiki/C--.html"
       ]
      },
      {
       "output_type": "stream",
       "stream": "stdout",
       "text": [
        "\n",
        "Indexing: http://kiwitobes.com/wiki/Non-English-based_programming_languages.html"
       ]
      },
      {
       "output_type": "stream",
       "stream": "stdout",
       "text": [
        "\n",
        "Indexing: http://kiwitobes.com/wiki/Haskell_programming_language.html"
       ]
      },
      {
       "output_type": "stream",
       "stream": "stdout",
       "text": [
        "\n",
        "Indexing: http://kiwitobes.com/wiki/Curry_programming_language.html"
       ]
      },
      {
       "output_type": "stream",
       "stream": "stdout",
       "text": [
        "\n",
        "Indexing: http://kiwitobes.com/wiki/Datapoint.html"
       ]
      },
      {
       "output_type": "stream",
       "stream": "stdout",
       "text": [
        "\n",
        "Indexing: http://kiwitobes.com/wiki/Niklaus_Wirth.html"
       ]
      },
      {
       "output_type": "stream",
       "stream": "stdout",
       "text": [
        "\n",
        "Indexing: http://kiwitobes.com/wiki/Java_programming_language.html"
       ]
      },
      {
       "output_type": "stream",
       "stream": "stdout",
       "text": [
        "\n",
        "Indexing: http://kiwitobes.com/wiki/D_programming_language.html"
       ]
      },
      {
       "output_type": "stream",
       "stream": "stdout",
       "text": [
        "\n",
        "Indexing: http://kiwitobes.com/wiki/Concurrent_programming_language.html"
       ]
      },
      {
       "output_type": "stream",
       "stream": "stdout",
       "text": [
        "\n",
        "Indexing: http://kiwitobes.com/wiki/Aspect-oriented_programming.html"
       ]
      },
      {
       "output_type": "stream",
       "stream": "stdout",
       "text": [
        "\n",
        "Indexing: http://kiwitobes.com/wiki/Linoleum_programming_language.html"
       ]
      },
      {
       "output_type": "stream",
       "stream": "stdout",
       "text": [
        "\n",
        "Indexing: http://kiwitobes.com/wiki/MS-DOS.html"
       ]
      },
      {
       "output_type": "stream",
       "stream": "stdout",
       "text": [
        "\n",
        "Indexing: http://kiwitobes.com/wiki/Erlang_programming_language.html"
       ]
      },
      {
       "output_type": "stream",
       "stream": "stdout",
       "text": [
        "\n",
        "Could not access page: http://kiwitobes.com/wiki/Pure_data.html"
       ]
      },
      {
       "output_type": "stream",
       "stream": "stdout",
       "text": [
        "\n",
        "Indexing: http://kiwitobes.com/wiki/XPath.html"
       ]
      },
      {
       "output_type": "stream",
       "stream": "stdout",
       "text": [
        "\n",
        "Indexing: http://kiwitobes.com/wiki/Visual_Foxpro.html"
       ]
      },
      {
       "output_type": "stream",
       "stream": "stdout",
       "text": [
        "\n",
        "Could not access page: http://kiwitobes.com/wiki/ABCL/1.html"
       ]
      },
      {
       "output_type": "stream",
       "stream": "stdout",
       "text": [
        "\n",
        "Indexing: http://kiwitobes.com/wiki/DBase.html"
       ]
      },
      {
       "output_type": "stream",
       "stream": "stdout",
       "text": [
        "\n",
        "Indexing: http://kiwitobes.com/wiki/FORTRAN_Assembly_Program.html"
       ]
      },
      {
       "output_type": "stream",
       "stream": "stdout",
       "text": [
        "\n",
        "Indexing: http://kiwitobes.com/wiki/AutoIt.html"
       ]
      },
      {
       "output_type": "stream",
       "stream": "stdout",
       "text": [
        "\n",
        "Indexing: http://kiwitobes.com/wiki/Microsoft_.NET.html"
       ]
      },
      {
       "output_type": "stream",
       "stream": "stdout",
       "text": [
        "\n",
        "Indexing: http://kiwitobes.com/wiki/XSLT.html"
       ]
      },
      {
       "output_type": "stream",
       "stream": "stdout",
       "text": [
        "\n",
        "Indexing: http://kiwitobes.com/wiki/Sather_programming_language.html"
       ]
      },
      {
       "output_type": "stream",
       "stream": "stdout",
       "text": [
        "\n",
        "Indexing: http://kiwitobes.com/wiki/IBM_360.html"
       ]
      },
      {
       "output_type": "stream",
       "stream": "stdout",
       "text": [
        "\n",
        "Indexing: http://kiwitobes.com/wiki/Forth_programming_language.html"
       ]
      },
      {
       "output_type": "stream",
       "stream": "stdout",
       "text": [
        "\n",
        "Indexing: http://kiwitobes.com/wiki/Lustre_programming_language.html"
       ]
      },
      {
       "output_type": "stream",
       "stream": "stdout",
       "text": [
        "\n",
        "Indexing: http://kiwitobes.com/wiki/XSL_Transformations.html"
       ]
      },
      {
       "output_type": "stream",
       "stream": "stdout",
       "text": [
        "\n",
        "Indexing: http://kiwitobes.com/wiki/Ubercode.html"
       ]
      },
      {
       "output_type": "stream",
       "stream": "stdout",
       "text": [
        "\n",
        "Indexing: http://kiwitobes.com/wiki/FISh_programming_language.html"
       ]
      },
      {
       "output_type": "stream",
       "stream": "stdout",
       "text": [
        "\n",
        "Indexing: http://kiwitobes.com/wiki/Leda_programming_language.html"
       ]
      },
      {
       "output_type": "stream",
       "stream": "stdout",
       "text": [
        "\n",
        "Indexing: http://kiwitobes.com/wiki/Occam_programming_language.html"
       ]
      },
      {
       "output_type": "stream",
       "stream": "stdout",
       "text": [
        "\n",
        "Indexing: http://kiwitobes.com/wiki/Charity_programming_language.html"
       ]
      },
      {
       "output_type": "stream",
       "stream": "stdout",
       "text": [
        "\n",
        "Indexing: http://kiwitobes.com/wiki/Afnix_programming_language.html"
       ]
      },
      {
       "output_type": "stream",
       "stream": "stdout",
       "text": [
        "\n",
        "Indexing: http://kiwitobes.com/wiki/IBM_PC.html"
       ]
      },
      {
       "output_type": "stream",
       "stream": "stdout",
       "text": [
        "\n",
        "Indexing: http://kiwitobes.com/wiki/Eager_evaluation.html"
       ]
      },
      {
       "output_type": "stream",
       "stream": "stdout",
       "text": [
        "\n",
        "Indexing: http://kiwitobes.com/wiki/Chinese_language.html"
       ]
      },
      {
       "output_type": "stream",
       "stream": "stdout",
       "text": [
        "\n",
        "Could not access page: http://kiwitobes.com/wiki/Class_%28computer_science%29.html"
       ]
      },
      {
       "output_type": "stream",
       "stream": "stdout",
       "text": [
        "\n",
        "Indexing: http://kiwitobes.com/wiki/Bell_Labs.html"
       ]
      },
      {
       "output_type": "stream",
       "stream": "stdout",
       "text": [
        "\n",
        "Indexing: http://kiwitobes.com/wiki/Template.html"
       ]
      },
      {
       "output_type": "stream",
       "stream": "stdout",
       "text": [
        "\n",
        "Indexing: http://kiwitobes.com/wiki/REFAL_programming_language.html"
       ]
      },
      {
       "output_type": "stream",
       "stream": "stdout",
       "text": [
        "\n",
        "Indexing: http://kiwitobes.com/wiki/Logo_programming_language.html"
       ]
      },
      {
       "output_type": "stream",
       "stream": "stdout",
       "text": [
        "\n",
        "Indexing: http://kiwitobes.com/wiki/Component_Pascal.html"
       ]
      },
      {
       "output_type": "stream",
       "stream": "stdout",
       "text": [
        "\n",
        "Indexing: http://kiwitobes.com/wiki/Hebrew_language.html"
       ]
      },
      {
       "output_type": "stream",
       "stream": "stdout",
       "text": [
        "\n",
        "Indexing: http://kiwitobes.com/wiki/Nemerle.html"
       ]
      },
      {
       "output_type": "stream",
       "stream": "stdout",
       "text": [
        "\n",
        "Indexing: http://kiwitobes.com/wiki/Tutorial_D.html"
       ]
      },
      {
       "output_type": "stream",
       "stream": "stdout",
       "text": [
        "\n",
        "Indexing: http://kiwitobes.com/wiki/UltraSPARC.html"
       ]
      },
      {
       "output_type": "stream",
       "stream": "stdout",
       "text": [
        "\n",
        "Indexing: http://kiwitobes.com/wiki/Logical_resolution.html"
       ]
      },
      {
       "output_type": "stream",
       "stream": "stdout",
       "text": [
        "\n",
        "Could not access page: http://kiwitobes.com/wiki/ABCL/c_plus.html"
       ]
      },
      {
       "output_type": "stream",
       "stream": "stdout",
       "text": [
        "\n",
        "Indexing: http://kiwitobes.com/wiki/Oberon_programming_language.html"
       ]
      },
      {
       "output_type": "stream",
       "stream": "stdout",
       "text": [
        "\n",
        "Indexing: http://kiwitobes.com/wiki/ECMAScript.html"
       ]
      },
      {
       "output_type": "stream",
       "stream": "stdout",
       "text": [
        "\n",
        "Indexing: http://kiwitobes.com/wiki/Pict_programming_language.html"
       ]
      },
      {
       "output_type": "stream",
       "stream": "stdout",
       "text": [
        "\n",
        "Indexing: http://kiwitobes.com/wiki/Flex_lexical_analyser.html"
       ]
      },
      {
       "output_type": "stream",
       "stream": "stdout",
       "text": [
        "\n",
        "Indexing: http://kiwitobes.com/wiki/Lazy_evaluation.html"
       ]
      },
      {
       "output_type": "stream",
       "stream": "stdout",
       "text": [
        "\n",
        "Indexing: http://kiwitobes.com/wiki/IBM_POWER.html"
       ]
      },
      {
       "output_type": "stream",
       "stream": "stdout",
       "text": [
        "\n",
        "Indexing: http://kiwitobes.com/wiki/MetaPost.html"
       ]
      },
      {
       "output_type": "stream",
       "stream": "stdout",
       "text": [
        "\n",
        "Indexing: http://kiwitobes.com/wiki/JavaScript.html"
       ]
      },
      {
       "output_type": "stream",
       "stream": "stdout",
       "text": [
        "\n",
        "Indexing: http://kiwitobes.com/wiki/SuperCollider_programming_language.html"
       ]
      },
      {
       "output_type": "stream",
       "stream": "stdout",
       "text": [
        "\n",
        "Could not access page: http://kiwitobes.com/wiki/NASM_%28computer_program%29.html"
       ]
      },
      {
       "output_type": "stream",
       "stream": "stdout",
       "text": [
        "\n",
        "Could not access page: http://kiwitobes.com/wiki/Jelly_%28Programming_Language%29.html"
       ]
      },
      {
       "output_type": "stream",
       "stream": "stdout",
       "text": [
        "\n",
        "Could not access page: http://kiwitobes.com/wiki/Fortran.html"
       ]
      },
      {
       "output_type": "stream",
       "stream": "stdout",
       "text": [
        "\n",
        "Could not access page: http://kiwitobes.com/wiki/PL/C.html"
       ]
      },
      {
       "output_type": "stream",
       "stream": "stdout",
       "text": [
        "\n",
        "Indexing: http://kiwitobes.com/wiki/Analytica.html"
       ]
      },
      {
       "output_type": "stream",
       "stream": "stdout",
       "text": [
        "\n",
        "Indexing: http://kiwitobes.com/wiki/4DOS.html"
       ]
      },
      {
       "output_type": "stream",
       "stream": "stdout",
       "text": [
        "\n",
        "Indexing: http://kiwitobes.com/wiki/Pascal_programming_language.html"
       ]
      },
      {
       "output_type": "stream",
       "stream": "stdout",
       "text": [
        "\n",
        "Indexing: http://kiwitobes.com/wiki/Objective-C.html"
       ]
      },
      {
       "output_type": "stream",
       "stream": "stdout",
       "text": [
        "\n",
        "Indexing: http://kiwitobes.com/wiki/Fortress_programming_language.html"
       ]
      },
      {
       "output_type": "stream",
       "stream": "stdout",
       "text": [
        "\n",
        "Indexing: http://kiwitobes.com/wiki/JOVIAL.html"
       ]
      },
      {
       "output_type": "stream",
       "stream": "stdout",
       "text": [
        "\n",
        "Indexing: http://kiwitobes.com/wiki/Java_virtual_machine.html"
       ]
      },
      {
       "output_type": "stream",
       "stream": "stdout",
       "text": [
        "\n",
        "Indexing: http://kiwitobes.com/wiki/David_Korn.html"
       ]
      },
      {
       "output_type": "stream",
       "stream": "stdout",
       "text": [
        "\n",
        "Indexing: http://kiwitobes.com/wiki/C_Sharp.html"
       ]
      },
      {
       "output_type": "stream",
       "stream": "stdout",
       "text": [
        "\n",
        "Indexing: http://kiwitobes.com/wiki/GNU_bison.html"
       ]
      },
      {
       "output_type": "stream",
       "stream": "stdout",
       "text": [
        "\n",
        "Indexing: http://kiwitobes.com/wiki/JScript.html"
       ]
      },
      {
       "output_type": "stream",
       "stream": "stdout",
       "text": [
        "\n",
        "Indexing: http://kiwitobes.com/wiki/X86_assembly_language.html"
       ]
      },
      {
       "output_type": "stream",
       "stream": "stdout",
       "text": [
        "\n",
        "Indexing: http://kiwitobes.com/wiki/Bourne_shell.html"
       ]
      },
      {
       "output_type": "stream",
       "stream": "stdout",
       "text": [
        "\n",
        "Indexing: http://kiwitobes.com/wiki/Main_Page.html"
       ]
      },
      {
       "output_type": "stream",
       "stream": "stdout",
       "text": [
        "\n",
        "Indexing: http://kiwitobes.com/wiki/VisualWorks.html"
       ]
      },
      {
       "output_type": "stream",
       "stream": "stdout",
       "text": [
        "\n",
        "Indexing: http://kiwitobes.com/wiki/Zsh.html"
       ]
      },
      {
       "output_type": "stream",
       "stream": "stdout",
       "text": [
        "\n",
        "Indexing: http://kiwitobes.com/wiki/Xerox_PARC.html"
       ]
      },
      {
       "output_type": "stream",
       "stream": "stdout",
       "text": [
        "\n",
        "Indexing: http://kiwitobes.com/wiki/IDL_programming_language.html"
       ]
      },
      {
       "output_type": "stream",
       "stream": "stdout",
       "text": [
        "\n",
        "Indexing: http://kiwitobes.com/wiki/OPS5.html"
       ]
      },
      {
       "output_type": "stream",
       "stream": "stdout",
       "text": [
        "\n",
        "Indexing: http://kiwitobes.com/wiki/Fourth-generation_programming_language.html"
       ]
      },
      {
       "output_type": "stream",
       "stream": "stdout",
       "text": [
        "\n",
        "Indexing: http://kiwitobes.com/wiki/Jess_programming_language.html"
       ]
      },
      {
       "output_type": "stream",
       "stream": "stdout",
       "text": [
        "\n",
        "Indexing: http://kiwitobes.com/wiki/Lexico.html"
       ]
      },
      {
       "output_type": "stream",
       "stream": "stdout",
       "text": [
        "\n",
        "Indexing: http://kiwitobes.com/wiki/PowerPC.html"
       ]
      },
      {
       "output_type": "stream",
       "stream": "stdout",
       "text": [
        "\n",
        "Indexing: http://kiwitobes.com/wiki/Off-side_rule.html"
       ]
      },
      {
       "output_type": "stream",
       "stream": "stdout",
       "text": [
        "\n",
        "Indexing: http://kiwitobes.com/wiki/Squeak.html"
       ]
      },
      {
       "output_type": "stream",
       "stream": "stdout",
       "text": [
        "\n",
        "Indexing: http://kiwitobes.com/wiki/E_programming_language.html"
       ]
      },
      {
       "output_type": "stream",
       "stream": "stdout",
       "text": [
        "\n",
        "Indexing: http://kiwitobes.com/wiki/AWK_programming_language.html"
       ]
      },
      {
       "output_type": "stream",
       "stream": "stdout",
       "text": [
        "\n",
        "Indexing: http://kiwitobes.com/wiki/Procedural_programming.html"
       ]
      },
      {
       "output_type": "stream",
       "stream": "stdout",
       "text": [
        "\n",
        "Indexing: http://kiwitobes.com/wiki/ARLOGO.html"
       ]
      },
      {
       "output_type": "stream",
       "stream": "stdout",
       "text": [
        "\n",
        "Indexing: http://kiwitobes.com/wiki/CLU_programming_language.html"
       ]
      },
      {
       "output_type": "stream",
       "stream": "stdout",
       "text": [
        "\n",
        "Indexing: http://kiwitobes.com/wiki/ISWIM.html"
       ]
      },
      {
       "output_type": "stream",
       "stream": "stdout",
       "text": [
        "\n",
        "Indexing: http://kiwitobes.com/wiki/Object-oriented_programming.html"
       ]
      },
      {
       "output_type": "stream",
       "stream": "stdout",
       "text": [
        "\n",
        "Indexing: http://kiwitobes.com/wiki/Alphard_programming_language.html"
       ]
      },
      {
       "output_type": "stream",
       "stream": "stdout",
       "text": [
        "\n",
        "Indexing: http://kiwitobes.com/wiki/Ruby_programming_language.html"
       ]
      },
      {
       "output_type": "stream",
       "stream": "stdout",
       "text": [
        "\n",
        "Indexing: http://kiwitobes.com/wiki/Averest.html"
       ]
      },
      {
       "output_type": "stream",
       "stream": "stdout",
       "text": [
        "\n",
        "Indexing: http://kiwitobes.com/wiki/AutoLISP.html"
       ]
      },
      {
       "output_type": "stream",
       "stream": "stdout",
       "text": [
        "\n",
        "Indexing: http://kiwitobes.com/wiki/Objective_Caml.html"
       ]
      },
      {
       "output_type": "stream",
       "stream": "stdout",
       "text": [
        "\n",
        "Indexing: http://kiwitobes.com/wiki/Lisp_programming_language.html"
       ]
      },
      {
       "output_type": "stream",
       "stream": "stdout",
       "text": [
        "\n",
        "Indexing: http://kiwitobes.com/wiki/Compaq.html"
       ]
      },
      {
       "output_type": "stream",
       "stream": "stdout",
       "text": [
        "\n",
        "Indexing: http://kiwitobes.com/wiki/MACRO-11.html"
       ]
      },
      {
       "output_type": "stream",
       "stream": "stdout",
       "text": [
        "\n",
        "Indexing: http://kiwitobes.com/wiki/Pliant.html"
       ]
      },
      {
       "output_type": "stream",
       "stream": "stdout",
       "text": [
        "\n",
        "Indexing: http://kiwitobes.com/wiki/ML_programming_language.html"
       ]
      },
      {
       "output_type": "stream",
       "stream": "stdout",
       "text": [
        "\n",
        "Indexing: http://kiwitobes.com/wiki/Lex_programming_tool.html"
       ]
      },
      {
       "output_type": "stream",
       "stream": "stdout",
       "text": [
        "\n",
        "Indexing: http://kiwitobes.com/wiki/DR-DOS.html"
       ]
      },
      {
       "output_type": "stream",
       "stream": "stdout",
       "text": [
        "\n",
        "Indexing: http://kiwitobes.com/wiki/Stephen_Bourne.html"
       ]
      },
      {
       "output_type": "stream",
       "stream": "stdout",
       "text": [
        "\n",
        "Indexing: http://kiwitobes.com/wiki/MATLAB.html"
       ]
      },
      {
       "output_type": "stream",
       "stream": "stdout",
       "text": [
        "\n",
        "Indexing: http://kiwitobes.com/wiki/Communicating_sequential_processes.html"
       ]
      },
      {
       "output_type": "stream",
       "stream": "stdout",
       "text": [
        "\n",
        "Indexing: http://kiwitobes.com/wiki/Object_REXX.html"
       ]
      },
      {
       "output_type": "stream",
       "stream": "stdout",
       "text": [
        "\n",
        "Indexing: http://kiwitobes.com/wiki/BeanShell.html"
       ]
      },
      {
       "output_type": "stream",
       "stream": "stdout",
       "text": [
        "\n",
        "Indexing: http://kiwitobes.com/wiki/Generational_list_of_programming_languages.html"
       ]
      },
      {
       "output_type": "stream",
       "stream": "stdout",
       "text": [
        "\n",
        "Indexing: http://kiwitobes.com/wiki/Factor_programming_language.html"
       ]
      },
      {
       "output_type": "stream",
       "stream": "stdout",
       "text": [
        "\n",
        "Indexing: http://kiwitobes.com/wiki/CLIST.html"
       ]
      },
      {
       "output_type": "stream",
       "stream": "stdout",
       "text": [
        "\n",
        "Indexing: http://kiwitobes.com/wiki/Bistro_programming_language.html"
       ]
      },
      {
       "output_type": "stream",
       "stream": "stdout",
       "text": [
        "\n",
        "Indexing: http://kiwitobes.com/wiki/Turbo_Assembler.html"
       ]
      },
      {
       "output_type": "stream",
       "stream": "stdout",
       "text": [
        "\n",
        "Indexing: http://kiwitobes.com/wiki/Arabic_language.html"
       ]
      },
      {
       "output_type": "stream",
       "stream": "stdout",
       "text": [
        "\n",
        "Indexing: http://kiwitobes.com/wiki/Io_programming_language.html"
       ]
      },
      {
       "output_type": "stream",
       "stream": "stdout",
       "text": [
        "\n",
        "Indexing: http://kiwitobes.com/wiki/Algol_W.html"
       ]
      },
      {
       "output_type": "stream",
       "stream": "stdout",
       "text": [
        "\n",
        "Indexing: http://kiwitobes.com/wiki/ALF_programming_language.html"
       ]
      },
      {
       "output_type": "stream",
       "stream": "stdout",
       "text": [
        "\n",
        "Indexing: http://kiwitobes.com/wiki/Smalltalk_programming_language.html"
       ]
      },
      {
       "output_type": "stream",
       "stream": "stdout",
       "text": [
        "\n",
        "Indexing: http://kiwitobes.com/wiki/PostScript.html"
       ]
      },
      {
       "output_type": "stream",
       "stream": "stdout",
       "text": [
        "\n",
        "Indexing: http://kiwitobes.com/wiki/Digital_Equipment_Corporation.html"
       ]
      },
      {
       "output_type": "stream",
       "stream": "stdout",
       "text": [
        "\n",
        "Indexing: http://kiwitobes.com/wiki/Shared_memory.html"
       ]
      },
      {
       "output_type": "stream",
       "stream": "stdout",
       "text": [
        "\n",
        "Indexing: http://kiwitobes.com/wiki/Simulink.html"
       ]
      },
      {
       "output_type": "stream",
       "stream": "stdout",
       "text": [
        "\n",
        "Indexing: http://kiwitobes.com/wiki/Focus_software.html"
       ]
      },
      {
       "output_type": "stream",
       "stream": "stdout",
       "text": [
        "\n",
        "Indexing: http://kiwitobes.com/wiki/M4_programming_language.html"
       ]
      },
      {
       "output_type": "stream",
       "stream": "stdout",
       "text": [
        "\n",
        "Indexing: http://kiwitobes.com/wiki/Declarative_programming.html"
       ]
      },
      {
       "output_type": "stream",
       "stream": "stdout",
       "text": [
        "\n",
        "Indexing: http://kiwitobes.com/wiki/LabVIEW.html"
       ]
      },
      {
       "output_type": "stream",
       "stream": "stdout",
       "text": [
        "\n",
        "Indexing: http://kiwitobes.com/wiki/ROOP_programming_language.html"
       ]
      },
      {
       "output_type": "stream",
       "stream": "stdout",
       "text": [
        "\n",
        "Indexing: http://kiwitobes.com/wiki/Lasso_programming_language.html"
       ]
      },
      {
       "output_type": "stream",
       "stream": "stdout",
       "text": [
        "\n",
        "Indexing: http://kiwitobes.com/wiki/CLIPS_programming_language.html"
       ]
      },
      {
       "output_type": "stream",
       "stream": "stdout",
       "text": [
        "\n",
        "Indexing: http://kiwitobes.com/wiki/Slate_programming_language.html"
       ]
      },
      {
       "output_type": "stream",
       "stream": "stdout",
       "text": [
        "\n",
        "Indexing: http://kiwitobes.com/wiki/Informix-4GL.html"
       ]
      },
      {
       "output_type": "stream",
       "stream": "stdout",
       "text": [
        "\n",
        "Indexing: http://kiwitobes.com/wiki/Intel_8080.html"
       ]
      },
      {
       "output_type": "stream",
       "stream": "stdout",
       "text": [
        "\n",
        "Indexing: http://kiwitobes.com/wiki/SPARC.html"
       ]
      },
      {
       "output_type": "stream",
       "stream": "stdout",
       "text": [
        "\n",
        "Indexing: http://kiwitobes.com/wiki/VBScript.html"
       ]
      },
      {
       "output_type": "stream",
       "stream": "stdout",
       "text": [
        "\n",
        "Indexing: http://kiwitobes.com/wiki/Sed.html"
       ]
      },
      {
       "output_type": "stream",
       "stream": "stdout",
       "text": [
        "\n",
        "Indexing: http://kiwitobes.com/wiki/Eiffel_programming_language.html"
       ]
      },
      {
       "output_type": "stream",
       "stream": "stdout",
       "text": [
        "\n",
        "Indexing: http://kiwitobes.com/wiki/Lush_programming_language.html"
       ]
      },
      {
       "output_type": "stream",
       "stream": "stdout",
       "text": [
        "\n",
        "Could not access page: http://kiwitobes.com/wiki/Bigwig_%28programming_language%29.html"
       ]
      },
      {
       "output_type": "stream",
       "stream": "stdout",
       "text": [
        "\n",
        "Indexing: http://kiwitobes.com/wiki/Aldor.html"
       ]
      },
      {
       "output_type": "stream",
       "stream": "stdout",
       "text": [
        "\n",
        "Indexing: http://kiwitobes.com/wiki/Chinese_BASIC.html"
       ]
      },
      {
       "output_type": "stream",
       "stream": "stdout",
       "text": [
        "\n",
        "Indexing: http://kiwitobes.com/wiki/Clarion_programming_language.html"
       ]
      },
      {
       "output_type": "stream",
       "stream": "stdout",
       "text": [
        "\n",
        "Indexing: http://kiwitobes.com/wiki/Punch_card.html"
       ]
      },
      {
       "output_type": "stream",
       "stream": "stdout",
       "text": [
        "\n",
        "Indexing: http://kiwitobes.com/wiki/SuperCollider.html"
       ]
      },
      {
       "output_type": "stream",
       "stream": "stdout",
       "text": [
        "\n",
        "Indexing: http://kiwitobes.com/wiki/Seed7.html"
       ]
      },
      {
       "output_type": "stream",
       "stream": "stdout",
       "text": [
        "\n",
        "Could not access page: http://kiwitobes.com/wiki/Reflection_%28computer_science%29.html"
       ]
      },
      {
       "output_type": "stream",
       "stream": "stdout",
       "text": [
        "\n",
        "Indexing: http://kiwitobes.com/wiki/Esterel.html"
       ]
      },
      {
       "output_type": "stream",
       "stream": "stdout",
       "text": [
        "\n",
        "Indexing: http://kiwitobes.com/wiki/CLEO.html"
       ]
      },
      {
       "output_type": "stream",
       "stream": "stdout",
       "text": [
        "\n",
        "Could not access page: http://kiwitobes.com/wiki/System/360.html"
       ]
      },
      {
       "output_type": "stream",
       "stream": "stdout",
       "text": [
        "\n",
        "Indexing: http://kiwitobes.com/wiki/Octal.html"
       ]
      },
      {
       "output_type": "stream",
       "stream": "stdout",
       "text": [
        "\n",
        "Indexing: http://kiwitobes.com/wiki/VVVV.html"
       ]
      },
      {
       "output_type": "stream",
       "stream": "stdout",
       "text": [
        "\n",
        "Indexing: http://kiwitobes.com/wiki/High_Level_Assembly.html"
       ]
      },
      {
       "output_type": "stream",
       "stream": "stdout",
       "text": [
        "\n",
        "Indexing: http://kiwitobes.com/wiki/Tcl.html"
       ]
      },
      {
       "output_type": "stream",
       "stream": "stdout",
       "text": [
        "\n",
        "Indexing: http://kiwitobes.com/wiki/Guile.html"
       ]
      },
      {
       "output_type": "stream",
       "stream": "stdout",
       "text": [
        "\n",
        "Indexing: http://kiwitobes.com/wiki/Moto_programming_language.html"
       ]
      },
      {
       "output_type": "stream",
       "stream": "stdout",
       "text": [
        "\n",
        "Indexing: http://kiwitobes.com/wiki/Lisaac.html"
       ]
      },
      {
       "output_type": "stream",
       "stream": "stdout",
       "text": [
        "\n",
        "Could not access page: http://kiwitobes.com/wiki/Java_Virtual_Machine.html"
       ]
      },
      {
       "output_type": "stream",
       "stream": "stdout",
       "text": [
        "\n",
        "Indexing: http://kiwitobes.com/wiki/Oberon-2.html"
       ]
      },
      {
       "output_type": "stream",
       "stream": "stdout",
       "text": [
        "\n",
        "Indexing: http://kiwitobes.com/wiki/Computer_Sciences_Corporation.html"
       ]
      },
      {
       "output_type": "stream",
       "stream": "stdout",
       "text": [
        "\n",
        "Indexing: http://kiwitobes.com/wiki/IA-32.html"
       ]
      },
      {
       "output_type": "stream",
       "stream": "stdout",
       "text": [
        "\n",
        "Indexing: http://kiwitobes.com/wiki/Fabrik.html"
       ]
      },
      {
       "output_type": "stream",
       "stream": "stdout",
       "text": [
        "\n",
        "Indexing: http://kiwitobes.com/wiki/Poplog.html"
       ]
      },
      {
       "output_type": "stream",
       "stream": "stdout",
       "text": [
        "\n",
        "Indexing: http://kiwitobes.com/wiki/Curly_bracket_programming_language.html"
       ]
      },
      {
       "output_type": "stream",
       "stream": "stdout",
       "text": [
        "\n",
        "Indexing: http://kiwitobes.com/wiki/Logic_programming.html"
       ]
      },
      {
       "output_type": "stream",
       "stream": "stdout",
       "text": [
        "\n",
        "Indexing: http://kiwitobes.com/wiki/Assembler.html"
       ]
      },
      {
       "output_type": "stream",
       "stream": "stdout",
       "text": [
        "\n",
        "Indexing: http://kiwitobes.com/wiki/Python_programming_language.html"
       ]
      },
      {
       "output_type": "stream",
       "stream": "stdout",
       "text": [
        "\n",
        "Indexing: http://kiwitobes.com/wiki/PowerBuilder.html"
       ]
      },
      {
       "output_type": "stream",
       "stream": "stdout",
       "text": [
        "\n",
        "Indexing: http://kiwitobes.com/wiki/SQL.html"
       ]
      },
      {
       "output_type": "stream",
       "stream": "stdout",
       "text": [
        "\n",
        "Indexing: http://kiwitobes.com/wiki/Command_line_interface.html"
       ]
      },
      {
       "output_type": "stream",
       "stream": "stdout",
       "text": [
        "\n",
        "Indexing: http://kiwitobes.com/wiki/TADS.html"
       ]
      },
      {
       "output_type": "stream",
       "stream": "stdout",
       "text": [
        "\n",
        "Indexing: http://kiwitobes.com/wiki/Cyclone_programming_language.html"
       ]
      },
      {
       "output_type": "stream",
       "stream": "stdout",
       "text": [
        "\n",
        "Indexing: http://kiwitobes.com/wiki/Frink.html"
       ]
      },
      {
       "output_type": "stream",
       "stream": "stdout",
       "text": [
        "\n",
        "Indexing: http://kiwitobes.com/wiki/Korn_shell.html"
       ]
      },
      {
       "output_type": "stream",
       "stream": "stdout",
       "text": [
        "\n",
        "Indexing: http://kiwitobes.com/wiki/Unified_Modeling_Language.html"
       ]
      },
      {
       "output_type": "stream",
       "stream": "stdout",
       "text": [
        "\n",
        "Indexing: http://kiwitobes.com/wiki/Yacc.html"
       ]
      },
      {
       "output_type": "stream",
       "stream": "stdout",
       "text": [
        "\n",
        "Indexing: http://kiwitobes.com/wiki/Leo_computers.html"
       ]
      },
      {
       "output_type": "stream",
       "stream": "stdout",
       "text": [
        "\n",
        "Could not access page: http://kiwitobes.com/wiki/Stack_%28data_structure%29.html"
       ]
      },
      {
       "output_type": "stream",
       "stream": "stdout",
       "text": [
        "\n",
        "Indexing: http://kiwitobes.com/wiki/Hartmann_pipelines.html"
       ]
      },
      {
       "output_type": "stream",
       "stream": "stdout",
       "text": [
        "\n",
        "Indexing: http://kiwitobes.com/wiki/JASS.html"
       ]
      },
      {
       "output_type": "stream",
       "stream": "stdout",
       "text": [
        "\n",
        "Indexing: http://kiwitobes.com/wiki/Algae_programming_language.html"
       ]
      },
      {
       "output_type": "stream",
       "stream": "stdout",
       "text": [
        "\n",
        "Indexing: http://kiwitobes.com/wiki/NewtonScript.html"
       ]
      },
      {
       "output_type": "stream",
       "stream": "stdout",
       "text": [
        "\n",
        "Indexing: http://kiwitobes.com/wiki/TUTOR_programming_language.html"
       ]
      },
      {
       "output_type": "stream",
       "stream": "stdout",
       "text": [
        "\n",
        "Indexing: http://kiwitobes.com/wiki/John_Backus.html"
       ]
      },
      {
       "output_type": "stream",
       "stream": "stdout",
       "text": [
        "\n",
        "Indexing: http://kiwitobes.com/wiki/Control_Data_Corporation.html"
       ]
      },
      {
       "output_type": "stream",
       "stream": "stdout",
       "text": [
        "\n",
        "Indexing: http://kiwitobes.com/wiki/C_preprocessor.html"
       ]
      },
      {
       "output_type": "stream",
       "stream": "stdout",
       "text": [
        "\n",
        "Indexing: http://kiwitobes.com/wiki/NS320xx.html"
       ]
      },
      {
       "output_type": "stream",
       "stream": "stdout",
       "text": [
        "\n",
        "Indexing: http://kiwitobes.com/wiki/Object-oriented_programming_language.html"
       ]
      },
      {
       "output_type": "stream",
       "stream": "stdout",
       "text": [
        "\n",
        "Indexing: http://kiwitobes.com/wiki/Perl_Data_Language.html"
       ]
      },
      {
       "output_type": "stream",
       "stream": "stdout",
       "text": [
        "\n",
        "Indexing: http://kiwitobes.com/wiki/Self_programming_language.html"
       ]
      },
      {
       "output_type": "stream",
       "stream": "stdout",
       "text": [
        "\n",
        "Indexing: http://kiwitobes.com/wiki/VAX.html"
       ]
      },
      {
       "output_type": "stream",
       "stream": "stdout",
       "text": [
        "\n",
        "Indexing: http://kiwitobes.com/wiki/ALGOL.html"
       ]
      },
      {
       "output_type": "stream",
       "stream": "stdout",
       "text": [
        "\n",
        "Indexing: http://kiwitobes.com/wiki/Object_Pascal.html"
       ]
      },
      {
       "output_type": "stream",
       "stream": "stdout",
       "text": [
        "\n",
        "Could not access page: http://kiwitobes.com/wiki/A%2B_%28programming_language%29.html"
       ]
      },
      {
       "output_type": "stream",
       "stream": "stdout",
       "text": [
        "\n",
        "Indexing: http://kiwitobes.com/wiki/Timeline_of_programming_languages.html"
       ]
      },
      {
       "output_type": "stream",
       "stream": "stdout",
       "text": [
        "\n",
        "Indexing: http://kiwitobes.com/wiki/Curl_programming_language.html"
       ]
      },
      {
       "output_type": "stream",
       "stream": "stdout",
       "text": [
        "\n",
        "Indexing: http://kiwitobes.com/wiki/CorVision.html"
       ]
      },
      {
       "output_type": "stream",
       "stream": "stdout",
       "text": [
        "\n",
        "Could not access page: http://kiwitobes.com/wiki/C%CF%89.html"
       ]
      },
      {
       "output_type": "stream",
       "stream": "stdout",
       "text": [
        "\n",
        "Indexing: http://kiwitobes.com/wiki/Lava_programming_language.html"
       ]
      },
      {
       "output_type": "stream",
       "stream": "stdout",
       "text": [
        "\n",
        "Indexing: http://kiwitobes.com/wiki/VisualAge.html"
       ]
      },
      {
       "output_type": "stream",
       "stream": "stdout",
       "text": [
        "\n",
        "Indexing: http://kiwitobes.com/wiki/REXX.html"
       ]
      },
      {
       "output_type": "stream",
       "stream": "stdout",
       "text": [
        "\n",
        "Indexing: http://kiwitobes.com/wiki/Maude_system.html"
       ]
      },
      {
       "output_type": "stream",
       "stream": "stdout",
       "text": [
        "\n",
        "Indexing: http://kiwitobes.com/wiki/Nial.html"
       ]
      },
      {
       "output_type": "stream",
       "stream": "stdout",
       "text": [
        "\n",
        "Indexing: http://kiwitobes.com/wiki/AspectJ.html"
       ]
      },
      {
       "output_type": "stream",
       "stream": "stdout",
       "text": [
        "\n",
        "Indexing: http://kiwitobes.com/wiki/R1000.html"
       ]
      },
      {
       "output_type": "stream",
       "stream": "stdout",
       "text": [
        "\n",
        "Indexing: http://kiwitobes.com/wiki/Objective_Modula-2.html"
       ]
      },
      {
       "output_type": "stream",
       "stream": "stdout",
       "text": [
        "\n",
        "Indexing: http://kiwitobes.com/wiki/650x.html"
       ]
      },
      {
       "output_type": "stream",
       "stream": "stdout",
       "text": [
        "\n",
        "Indexing: http://kiwitobes.com/wiki/Microsoft.html"
       ]
      },
      {
       "output_type": "stream",
       "stream": "stdout",
       "text": [
        "\n",
        "Indexing: http://kiwitobes.com/wiki/J_programming_language.html"
       ]
      },
      {
       "output_type": "stream",
       "stream": "stdout",
       "text": [
        "\n",
        "Indexing: http://kiwitobes.com/wiki/High-level_assembler.html"
       ]
      },
      {
       "output_type": "stream",
       "stream": "stdout",
       "text": [
        "\n",
        "Indexing: http://kiwitobes.com/wiki/Free_Pascal.html"
       ]
      },
      {
       "output_type": "stream",
       "stream": "stdout",
       "text": [
        "\n",
        "Indexing: http://kiwitobes.com/wiki/FORTRAN.html"
       ]
      },
      {
       "output_type": "stream",
       "stream": "stdout",
       "text": [
        "\n",
        "Indexing: http://kiwitobes.com/wiki/F_programming_language.html"
       ]
      },
      {
       "output_type": "stream",
       "stream": "stdout",
       "text": [
        "\n",
        "Could not access page: http://kiwitobes.com/wiki/Generator_%28computer_science%29.html"
       ]
      },
      {
       "output_type": "stream",
       "stream": "stdout",
       "text": [
        "\n",
        "Indexing: http://kiwitobes.com/wiki/REBOL.html"
       ]
      },
      {
       "output_type": "stream",
       "stream": "stdout",
       "text": [
        "\n",
        "Indexing: http://kiwitobes.com/wiki/Assembly_language.html"
       ]
      },
      {
       "output_type": "stream",
       "stream": "stdout",
       "text": [
        "\n",
        "Indexing: http://kiwitobes.com/wiki/FASM.html"
       ]
      },
      {
       "output_type": "stream",
       "stream": "stdout",
       "text": [
        "\n",
        "Indexing: http://kiwitobes.com/wiki/Alef_programming_language.html"
       ]
      },
      {
       "output_type": "stream",
       "stream": "stdout",
       "text": [
        "\n",
        "Could not access page: http://kiwitobes.com/wiki/Fj%C3%B6lnir_programming_language.html"
       ]
      },
      {
       "output_type": "stream",
       "stream": "stdout",
       "text": [
        "\n",
        "Could not access page: http://kiwitobes.com/wiki/Communicating_Sequential_Processes.html"
       ]
      },
      {
       "output_type": "stream",
       "stream": "stdout",
       "text": [
        "\n",
        "Indexing: http://kiwitobes.com/wiki/Limnor.html"
       ]
      },
      {
       "output_type": "stream",
       "stream": "stdout",
       "text": [
        "\n",
        "Indexing: http://kiwitobes.com/wiki/Macro.html"
       ]
      },
      {
       "output_type": "stream",
       "stream": "stdout",
       "text": [
        "\n",
        "Indexing: http://kiwitobes.com/wiki/Paul_Graham.html"
       ]
      },
      {
       "output_type": "stream",
       "stream": "stdout",
       "text": [
        "\n",
        "Indexing: http://kiwitobes.com/wiki/Mercury_programming_language.html"
       ]
      },
      {
       "output_type": "stream",
       "stream": "stdout",
       "text": [
        "\n",
        "Indexing: http://kiwitobes.com/wiki/XML.html"
       ]
      },
      {
       "output_type": "stream",
       "stream": "stdout",
       "text": [
        "\n",
        "Indexing: http://kiwitobes.com/wiki/Obliq.html"
       ]
      },
      {
       "output_type": "stream",
       "stream": "stdout",
       "text": [
        "\n",
        "Indexing: http://kiwitobes.com/wiki/Join_Java.html"
       ]
      },
      {
       "output_type": "stream",
       "stream": "stdout",
       "text": [
        "\n",
        "Could not access page: http://kiwitobes.com/wiki/C%2B%2B.html"
       ]
      },
      {
       "output_type": "stream",
       "stream": "stdout",
       "text": [
        "\n",
        "Indexing: http://kiwitobes.com/wiki/XQuery.html"
       ]
      },
      {
       "output_type": "stream",
       "stream": "stdout",
       "text": [
        "\n",
        "Indexing: http://kiwitobes.com/wiki/AutoCAD.html"
       ]
      },
      {
       "output_type": "stream",
       "stream": "stdout",
       "text": [
        "\n",
        "Indexing: http://kiwitobes.com/wiki/Plan_9_from_Bell_Labs.html"
       ]
      },
      {
       "output_type": "stream",
       "stream": "stdout",
       "text": [
        "\n",
        "Indexing: http://kiwitobes.com/wiki/Standard_ML.html"
       ]
      },
      {
       "output_type": "stream",
       "stream": "stdout",
       "text": [
        "\n",
        "Indexing: http://kiwitobes.com/wiki/DMDScript.html"
       ]
      },
      {
       "output_type": "stream",
       "stream": "stdout",
       "text": [
        "\n",
        "Indexing: http://kiwitobes.com/wiki/Pi-Calculus.html"
       ]
      },
      {
       "output_type": "stream",
       "stream": "stdout",
       "text": [
        "\n",
        "Indexing: http://kiwitobes.com/wiki/Bertrand_Meyer.html"
       ]
      },
      {
       "output_type": "stream",
       "stream": "stdout",
       "text": [
        "\n",
        "Indexing: http://kiwitobes.com/wiki/CHAIN_programming_language.html"
       ]
      },
      {
       "output_type": "stream",
       "stream": "stdout",
       "text": [
        "\n",
        "Indexing: http://kiwitobes.com/wiki/Windows_PowerShell.html"
       ]
      },
      {
       "output_type": "stream",
       "stream": "stdout",
       "text": [
        "\n",
        "Indexing: http://kiwitobes.com/wiki/Digital_Signal_Processor.html"
       ]
      },
      {
       "output_type": "stream",
       "stream": "stdout",
       "text": [
        "\n",
        "Could not access page: http://kiwitobes.com/wiki/ABCL/R2.html"
       ]
      },
      {
       "output_type": "stream",
       "stream": "stdout",
       "text": [
        "\n",
        "Indexing: http://kiwitobes.com/wiki/Functional_programming.html"
       ]
      },
      {
       "output_type": "stream",
       "stream": "stdout",
       "text": [
        "\n",
        "Indexing: http://kiwitobes.com/wiki/Javacc.html"
       ]
      },
      {
       "output_type": "stream",
       "stream": "stdout",
       "text": [
        "\n",
        "Indexing: http://kiwitobes.com/wiki/Alphabetical_list_of_programming_languages.html"
       ]
      },
      {
       "output_type": "stream",
       "stream": "stdout",
       "text": [
        "\n",
        "Indexing: http://kiwitobes.com/wiki/ARM_architecture.html"
       ]
      },
      {
       "output_type": "stream",
       "stream": "stdout",
       "text": [
        "\n",
        "Indexing: http://kiwitobes.com/wiki/Unix_shell.html"
       ]
      },
      {
       "output_type": "stream",
       "stream": "stdout",
       "text": [
        "\n",
        "Indexing: http://kiwitobes.com/wiki/Visual_DataFlex.html"
       ]
      },
      {
       "output_type": "stream",
       "stream": "stdout",
       "text": [
        "\n",
        "Indexing: http://kiwitobes.com/wiki/ChucK.html"
       ]
      },
      {
       "output_type": "stream",
       "stream": "stdout",
       "text": [
        "\n",
        "Could not access page: http://kiwitobes.com/wiki/ABCL/R.html"
       ]
      },
      {
       "output_type": "stream",
       "stream": "stdout",
       "text": [
        "\n",
        "Indexing: http://kiwitobes.com/wiki/Modula-2.html"
       ]
      },
      {
       "output_type": "stream",
       "stream": "stdout",
       "text": [
        "\n",
        "Indexing: http://kiwitobes.com/wiki/Chrome_programming_language.html"
       ]
      },
      {
       "output_type": "stream",
       "stream": "stdout",
       "text": [
        "\n",
        "Indexing: http://kiwitobes.com/wiki/IA-64.html"
       ]
      },
      {
       "output_type": "stream",
       "stream": "stdout",
       "text": [
        "\n",
        "Indexing: http://kiwitobes.com/wiki/PC-DOS.html"
       ]
      },
      {
       "output_type": "stream",
       "stream": "stdout",
       "text": [
        "\n",
        "Could not access page: http://kiwitobes.com/wiki/A56_%28software%29.html"
       ]
      },
      {
       "output_type": "stream",
       "stream": "stdout",
       "text": [
        "\n",
        "Indexing: http://kiwitobes.com/wiki/POP-11.html"
       ]
      },
      {
       "output_type": "stream",
       "stream": "stdout",
       "text": [
        "\n",
        "Indexing: http://kiwitobes.com/wiki/Constraint_programming.html"
       ]
      },
      {
       "output_type": "stream",
       "stream": "stdout",
       "text": [
        "\n",
        "Indexing: http://kiwitobes.com/wiki/Prolog.html"
       ]
      },
      {
       "output_type": "stream",
       "stream": "stdout",
       "text": [
        "\n",
        "Indexing: http://kiwitobes.com/wiki/SAS_Institute.html"
       ]
      },
      {
       "output_type": "stream",
       "stream": "stdout",
       "text": [
        "\n",
        "Indexing: http://kiwitobes.com/wiki/PILOT_programming_language.html"
       ]
      },
      {
       "output_type": "stream",
       "stream": "stdout",
       "text": [
        "\n",
        "Indexing: http://kiwitobes.com/wiki/Interpreted_language.html"
       ]
      },
      {
       "output_type": "stream",
       "stream": "stdout",
       "text": [
        "\n",
        "Indexing: http://kiwitobes.com/wiki/MUMPS.html"
       ]
      },
      {
       "output_type": "stream",
       "stream": "stdout",
       "text": [
        "\n",
        "Indexing: http://kiwitobes.com/wiki/Distributed_programming.html"
       ]
      },
      {
       "output_type": "stream",
       "stream": "stdout",
       "text": [
        "\n",
        "Indexing: http://kiwitobes.com/wiki/Yorick_programming_language.html"
       ]
      },
      {
       "output_type": "stream",
       "stream": "stdout",
       "text": [
        "\n",
        "Indexing: http://kiwitobes.com/wiki/Motorola_680x0.html"
       ]
      },
      {
       "output_type": "stream",
       "stream": "stdout",
       "text": [
        "\n",
        "Indexing: http://kiwitobes.com/wiki/MVS.html"
       ]
      },
      {
       "output_type": "stream",
       "stream": "stdout",
       "text": [
        "\n",
        "Indexing: http://kiwitobes.com/wiki/MultiLisp.html"
       ]
      },
      {
       "output_type": "stream",
       "stream": "stdout",
       "text": [
        "\n",
        "Indexing: http://kiwitobes.com/wiki/PHP.html"
       ]
      },
      {
       "output_type": "stream",
       "stream": "stdout",
       "text": [
        "\n",
        "Indexing: http://kiwitobes.com/wiki/Pike_programming_language.html"
       ]
      },
      {
       "output_type": "stream",
       "stream": "stdout",
       "text": [
        "\n",
        "Indexing: http://kiwitobes.com/wiki/Compiler.html"
       ]
      },
      {
       "output_type": "stream",
       "stream": "stdout",
       "text": [
        "\n",
        "Indexing: http://kiwitobes.com/wiki/Cecil_programming_language.html"
       ]
      },
      {
       "output_type": "stream",
       "stream": "stdout",
       "text": [
        "\n",
        "Indexing: http://kiwitobes.com/wiki/Mathematica.html"
       ]
      },
      {
       "output_type": "stream",
       "stream": "stdout",
       "text": [
        "\n",
        "Indexing: http://kiwitobes.com/wiki/IBM.html"
       ]
      },
      {
       "output_type": "stream",
       "stream": "stdout",
       "text": [
        "\n",
        "Indexing: http://kiwitobes.com/wiki/Dylan_programming_language.html"
       ]
      },
      {
       "output_type": "stream",
       "stream": "stdout",
       "text": [
        "\n",
        "Could not access page: http://kiwitobes.com/wiki/PL/I.html"
       ]
      },
      {
       "output_type": "stream",
       "stream": "stdout",
       "text": [
        "\n",
        "Indexing: http://kiwitobes.com/wiki/Revolution_programming_language.html"
       ]
      },
      {
       "output_type": "stream",
       "stream": "stdout",
       "text": [
        "\n",
        "Indexing: http://kiwitobes.com/wiki/Clean_programming_language.html"
       ]
      },
      {
       "output_type": "stream",
       "stream": "stdout",
       "text": [
        "\n",
        "Indexing: http://kiwitobes.com/wiki/Spanish_language.html"
       ]
      },
      {
       "output_type": "stream",
       "stream": "stdout",
       "text": [
        "\n",
        "Indexing: http://kiwitobes.com/wiki/Power_Architecture.html"
       ]
      },
      {
       "output_type": "stream",
       "stream": "stdout",
       "text": [
        "\n",
        "Indexing: http://kiwitobes.com/wiki/Ada_programming_language.html"
       ]
      },
      {
       "output_type": "stream",
       "stream": "stdout",
       "text": [
        "\n",
        "Indexing: http://kiwitobes.com/wiki/Subtext_programming_language.html"
       ]
      },
      {
       "output_type": "stream",
       "stream": "stdout",
       "text": [
        "\n",
        "Indexing: http://kiwitobes.com/wiki/EiffelStudio.html"
       ]
      },
      {
       "output_type": "stream",
       "stream": "stdout",
       "text": [
        "\n",
        "Indexing: http://kiwitobes.com/wiki/Delphi_programming_language.html"
       ]
      },
      {
       "output_type": "stream",
       "stream": "stdout",
       "text": [
        "\n",
        "Indexing: http://kiwitobes.com/wiki/Limbo_programming_language.html"
       ]
      },
      {
       "output_type": "stream",
       "stream": "stdout",
       "text": [
        "\n",
        "Indexing: http://kiwitobes.com/wiki/Pico_programming_language.html"
       ]
      },
      {
       "output_type": "stream",
       "stream": "stdout",
       "text": [
        "\n",
        "Indexing: http://kiwitobes.com/wiki/Imperative_programming.html"
       ]
      },
      {
       "output_type": "stream",
       "stream": "stdout",
       "text": [
        "\n",
        "Indexing: http://kiwitobes.com/wiki/Sphinx_C--.html"
       ]
      },
      {
       "output_type": "stream",
       "stream": "stdout",
       "text": [
        "\n",
        "Indexing: http://kiwitobes.com/wiki/PDP-11.html"
       ]
      },
      {
       "output_type": "stream",
       "stream": "stdout",
       "text": [
        "\n",
        "Indexing: http://kiwitobes.com/wiki/Prograph.html"
       ]
      },
      {
       "output_type": "stream",
       "stream": "stdout",
       "text": [
        "\n",
        "Indexing: http://kiwitobes.com/wiki/Rapira.html"
       ]
      },
      {
       "output_type": "stream",
       "stream": "stdout",
       "text": [
        "\n",
        "Indexing: http://kiwitobes.com/wiki/Mindscript.html"
       ]
      },
      {
       "output_type": "stream",
       "stream": "stdout",
       "text": [
        "\n",
        "Indexing: http://kiwitobes.com/wiki/Simula.html"
       ]
      },
      {
       "output_type": "stream",
       "stream": "stdout",
       "text": [
        "\n",
        "Indexing: http://kiwitobes.com/wiki/K_programming_language.html"
       ]
      },
      {
       "output_type": "stream",
       "stream": "stdout",
       "text": [
        "\n",
        "Indexing: http://kiwitobes.com/wiki/AppleScript.html"
       ]
      },
      {
       "output_type": "stream",
       "stream": "stdout",
       "text": [
        "\n",
        "Indexing: http://kiwitobes.com/wiki/Scheme_programming_language.html"
       ]
      },
      {
       "output_type": "stream",
       "stream": "stdout",
       "text": [
        "\n",
        "Indexing: http://kiwitobes.com/wiki/Spreadsheet.html"
       ]
      },
      {
       "output_type": "stream",
       "stream": "stdout",
       "text": [
        "\n",
        "Indexing: http://kiwitobes.com/wiki/Sather.html"
       ]
      },
      {
       "output_type": "stream",
       "stream": "stdout",
       "text": [
        "\n",
        "Indexing: http://kiwitobes.com/wiki/Bill_Joy.html"
       ]
      },
      {
       "output_type": "stream",
       "stream": "stdout",
       "text": [
        "\n",
        "Indexing: http://kiwitobes.com/wiki/JCL.html"
       ]
      },
      {
       "output_type": "stream",
       "stream": "stdout",
       "text": [
        "\n",
        "Indexing: http://kiwitobes.com/wiki/NESL.html"
       ]
      },
      {
       "output_type": "stream",
       "stream": "stdout",
       "text": [
        "\n",
        "Could not access page: http://kiwitobes.com/wiki/Inferno_%28operating_system%29.html"
       ]
      },
      {
       "output_type": "stream",
       "stream": "stdout",
       "text": [
        "\n",
        "Indexing: http://kiwitobes.com/wiki/OpenVMS.html"
       ]
      },
      {
       "output_type": "stream",
       "stream": "stdout",
       "text": [
        "\n",
        "Indexing: http://kiwitobes.com/wiki/Sun_Microsystems.html"
       ]
      },
      {
       "output_type": "stream",
       "stream": "stdout",
       "text": [
        "\n",
        "Indexing: http://kiwitobes.com/wiki/Borland.html"
       ]
      },
      {
       "output_type": "stream",
       "stream": "stdout",
       "text": [
        "\n",
        "Indexing: http://kiwitobes.com/wiki/StrongARM.html"
       ]
      },
      {
       "output_type": "stream",
       "stream": "stdout",
       "text": [
        "\n",
        "Indexing: http://kiwitobes.com/wiki/Horn_logic.html"
       ]
      },
      {
       "output_type": "stream",
       "stream": "stdout",
       "text": [
        "\n",
        "Indexing: http://kiwitobes.com/wiki/ZPL_programming_language.html"
       ]
      },
      {
       "output_type": "stream",
       "stream": "stdout",
       "text": [
        "\n",
        "Indexing: http://kiwitobes.com/wiki/Embedded_system.html"
       ]
      },
      {
       "output_type": "stream",
       "stream": "stdout",
       "text": [
        "\n",
        "Indexing: http://kiwitobes.com/wiki/CODE_programming_language.html"
       ]
      },
      {
       "output_type": "stream",
       "stream": "stdout",
       "text": [
        "\n",
        "Indexing: http://kiwitobes.com/wiki/NCR_Corporation.html"
       ]
      },
      {
       "output_type": "stream",
       "stream": "stdout",
       "text": [
        "\n",
        "Indexing: http://kiwitobes.com/wiki/Microsoft_Windows.html"
       ]
      },
      {
       "output_type": "stream",
       "stream": "stdout",
       "text": [
        "\n",
        "Indexing: http://kiwitobes.com/wiki/Forth.html"
       ]
      },
      {
       "output_type": "stream",
       "stream": "stdout",
       "text": [
        "\n",
        "Indexing: http://kiwitobes.com/wiki/ICI_programming_language.html"
       ]
      },
      {
       "output_type": "stream",
       "stream": "stdout",
       "text": [
        "\n",
        "Indexing: http://kiwitobes.com/wiki/SMALL.html"
       ]
      },
      {
       "output_type": "stream",
       "stream": "stdout",
       "text": [
        "\n",
        "Could not access page: http://kiwitobes.com/wiki/Var%27aq.html"
       ]
      },
      {
       "output_type": "stream",
       "stream": "stdout",
       "text": [
        "\n",
        "Indexing: http://kiwitobes.com/wiki/Norway.html"
       ]
      },
      {
       "output_type": "stream",
       "stream": "stdout",
       "text": [
        "\n",
        "Indexing: http://kiwitobes.com/wiki/Free_Software_Foundation.html"
       ]
      },
      {
       "output_type": "stream",
       "stream": "stdout",
       "text": [
        "\n",
        "Indexing: http://kiwitobes.com/wiki/XOTcl.html"
       ]
      },
      {
       "output_type": "stream",
       "stream": "stdout",
       "text": [
        "\n",
        "Indexing: http://kiwitobes.com/wiki/Icon_programming_language.html"
       ]
      },
      {
       "output_type": "stream",
       "stream": "stdout",
       "text": [
        "\n",
        "Indexing: http://kiwitobes.com/wiki/SISAL.html"
       ]
      },
      {
       "output_type": "stream",
       "stream": "stdout",
       "text": [
        "\n",
        "Indexing: http://kiwitobes.com/wiki/Visual_Basic.html"
       ]
      },
      {
       "output_type": "stream",
       "stream": "stdout",
       "text": [
        "\n",
        "Indexing: http://kiwitobes.com/wiki/SNOBOL.html"
       ]
      },
      {
       "output_type": "stream",
       "stream": "stdout",
       "text": [
        "\n",
        "Indexing: http://kiwitobes.com/wiki/Minsk_family_of_computers.html"
       ]
      },
      {
       "output_type": "stream",
       "stream": "stdout",
       "text": [
        "\n",
        "Indexing: http://kiwitobes.com/wiki/Visual_programming_language.html"
       ]
      },
      {
       "output_type": "stream",
       "stream": "stdout",
       "text": [
        "\n",
        "Indexing: http://kiwitobes.com/wiki/RosASM.html"
       ]
      },
      {
       "output_type": "stream",
       "stream": "stdout",
       "text": [
        "\n",
        "Indexing: http://kiwitobes.com/wiki/Agora_programming_language.html"
       ]
      },
      {
       "output_type": "stream",
       "stream": "stdout",
       "text": [
        "\n",
        "Indexing: http://kiwitobes.com/wiki/Programming_language.html"
       ]
      },
      {
       "output_type": "stream",
       "stream": "stdout",
       "text": [
        "\n",
        "Indexing: http://kiwitobes.com/wiki/Multi-paradigm_programming_language.html"
       ]
      },
      {
       "output_type": "stream",
       "stream": "stdout",
       "text": [
        "\n",
        "Indexing: http://kiwitobes.com/wiki/BuildProfessional.html"
       ]
      },
      {
       "output_type": "stream",
       "stream": "stdout",
       "text": [
        "\n",
        "Could not access page: http://kiwitobes.com/wiki/M4_%28computer_language%29.html"
       ]
      },
      {
       "output_type": "stream",
       "stream": "stdout",
       "text": [
        "\n",
        "Indexing: http://kiwitobes.com/wiki/GraphTalk.html"
       ]
      },
      {
       "output_type": "stream",
       "stream": "stdout",
       "text": [
        "\n",
        "Indexing: http://kiwitobes.com/wiki/Groovy.html"
       ]
      },
      {
       "output_type": "stream",
       "stream": "stdout",
       "text": [
        "\n",
        "Indexing: http://kiwitobes.com/wiki/Generic_programming.html"
       ]
      },
      {
       "output_type": "stream",
       "stream": "stdout",
       "text": [
        "\n",
        "Indexing: http://kiwitobes.com/wiki/Prototype-based_programming.html"
       ]
      },
      {
       "output_type": "stream",
       "stream": "stdout",
       "text": [
        "\n",
        "Indexing: http://kiwitobes.com/wiki/VisSim.html"
       ]
      },
      {
       "output_type": "stream",
       "stream": "stdout",
       "text": [
        "\n",
        "Indexing: http://kiwitobes.com/wiki/SMX.html"
       ]
      },
      {
       "output_type": "stream",
       "stream": "stdout",
       "text": [
        "\n",
        "Indexing: http://kiwitobes.com/wiki/ColdFusion.html"
       ]
      },
      {
       "output_type": "stream",
       "stream": "stdout",
       "text": [
        "\n",
        "Indexing: http://kiwitobes.com/wiki/Mondrian_programming_language.html"
       ]
      },
      {
       "output_type": "stream",
       "stream": "stdout",
       "text": [
        "\n",
        "Indexing: http://kiwitobes.com/wiki/UnrealScript.html"
       ]
      },
      {
       "output_type": "stream",
       "stream": "stdout",
       "text": [
        "\n",
        "Indexing: http://kiwitobes.com/wiki/Lua_programming_language.html"
       ]
      },
      {
       "output_type": "stream",
       "stream": "stdout",
       "text": [
        "\n",
        "Indexing: http://kiwitobes.com/wiki/Programming_paradigm.html"
       ]
      },
      {
       "output_type": "stream",
       "stream": "stdout",
       "text": [
        "\n",
        "Indexing: http://kiwitobes.com/wiki/LINC_4GL.html"
       ]
      },
      {
       "output_type": "stream",
       "stream": "stdout",
       "text": [
        "\n",
        "Indexing: http://kiwitobes.com/wiki/ABC_programming_language.html"
       ]
      },
      {
       "output_type": "stream",
       "stream": "stdout",
       "text": [
        "\n",
        "Indexing: http://kiwitobes.com/wiki/DOS.html"
       ]
      },
      {
       "output_type": "stream",
       "stream": "stdout",
       "text": [
        "\n",
        "Indexing: http://kiwitobes.com/wiki/Mozart_Programming_System.html"
       ]
      },
      {
       "output_type": "stream",
       "stream": "stdout",
       "text": [
        "\n",
        "Indexing: http://kiwitobes.com/wiki/Dataflow_language.html"
       ]
      },
      {
       "output_type": "stream",
       "stream": "stdout",
       "text": [
        "\n",
        "Indexing: http://kiwitobes.com/wiki/PAL-III.html"
       ]
      },
      {
       "output_type": "stream",
       "stream": "stdout",
       "text": [
        "\n",
        "Indexing: http://kiwitobes.com/wiki/ActionScript.html"
       ]
      },
      {
       "output_type": "stream",
       "stream": "stdout",
       "text": [
        "\n",
        "Indexing: http://kiwitobes.com/wiki/Modula.html"
       ]
      },
      {
       "output_type": "stream",
       "stream": "stdout",
       "text": [
        "\n",
        "Indexing: http://kiwitobes.com/wiki/Basic_assembly_language.html"
       ]
      },
      {
       "output_type": "stream",
       "stream": "stdout",
       "text": [
        "\n",
        "Indexing: http://kiwitobes.com/wiki/Unix.html"
       ]
      },
      {
       "output_type": "stream",
       "stream": "stdout",
       "text": [
        "\n",
        "Indexing: http://kiwitobes.com/wiki/Intermediate_language.html"
       ]
      },
      {
       "output_type": "stream",
       "stream": "stdout",
       "text": [
        "\n",
        "Indexing: http://kiwitobes.com/wiki/DIGITAL_Command_Language.html"
       ]
      },
      {
       "output_type": "stream",
       "stream": "stdout",
       "text": [
        "\n",
        "Indexing: http://kiwitobes.com/wiki/CLOS.html"
       ]
      },
      {
       "output_type": "stream",
       "stream": "stdout",
       "text": [
        "\n",
        "Indexing: http://kiwitobes.com/wiki/Little_Smalltalk.html"
       ]
      },
      {
       "output_type": "stream",
       "stream": "stdout",
       "text": [
        "\n",
        "Could not access page: http://kiwitobes.com/wiki/OCaml.html"
       ]
      },
      {
       "output_type": "stream",
       "stream": "stdout",
       "text": [
        "\n",
        "Indexing: http://kiwitobes.com/wiki/Hexadecimal.html"
       ]
      },
      {
       "output_type": "stream",
       "stream": "stdout",
       "text": [
        "\n",
        "Indexing: http://kiwitobes.com/wiki/Scripting_language.html"
       ]
      },
      {
       "output_type": "stream",
       "stream": "stdout",
       "text": [
        "\n",
        "Indexing: http://kiwitobes.com/wiki/Common_Lisp.html"
       ]
      },
      {
       "output_type": "stream",
       "stream": "stdout",
       "text": [
        "\n",
        "Indexing: http://kiwitobes.com/wiki/Microsoft_Macro_Assembler.html"
       ]
      },
      {
       "output_type": "stream",
       "stream": "stdout",
       "text": [
        "\n",
        "Indexing: http://kiwitobes.com/wiki/GNU.html"
       ]
      },
      {
       "output_type": "stream",
       "stream": "stdout",
       "text": [
        "\n",
        "Indexing: http://kiwitobes.com/wiki/E4X.html"
       ]
      },
      {
       "output_type": "stream",
       "stream": "stdout",
       "text": [
        "\n",
        "Indexing: http://kiwitobes.com/wiki/Quartz_Composer.html"
       ]
      },
      {
       "output_type": "stream",
       "stream": "stdout",
       "text": [
        "\n",
        "Indexing: http://kiwitobes.com/wiki/COBOL.html"
       ]
      },
      {
       "output_type": "stream",
       "stream": "stdout",
       "text": [
        "\n",
        "Indexing: http://kiwitobes.com/wiki/C_programming_language.html"
       ]
      },
      {
       "output_type": "stream",
       "stream": "stdout",
       "text": [
        "\n",
        "Indexing: http://kiwitobes.com/wiki/BLISS.html"
       ]
      },
      {
       "output_type": "stream",
       "stream": "stdout",
       "text": [
        "\n",
        "Indexing: http://kiwitobes.com/wiki/Smalltalk.html"
       ]
      },
      {
       "output_type": "stream",
       "stream": "stdout",
       "text": [
        "\n",
        "Indexing: http://kiwitobes.com/wiki/Awk.html"
       ]
      },
      {
       "output_type": "stream",
       "stream": "stdout",
       "text": [
        "\n",
        "Indexing: http://kiwitobes.com/wiki/C_shell.html"
       ]
      },
      {
       "output_type": "stream",
       "stream": "stdout",
       "text": [
        "\n",
        "Indexing: http://kiwitobes.com/wiki/Q_programming_language.html"
       ]
      },
      {
       "output_type": "stream",
       "stream": "stdout",
       "text": [
        "\n",
        "Indexing: http://kiwitobes.com/wiki/Joule_programming_language.html"
       ]
      },
      {
       "output_type": "stream",
       "stream": "stdout",
       "text": [
        "\n",
        "Indexing: http://kiwitobes.com/wiki/Message_passing.html"
       ]
      },
      {
       "output_type": "stream",
       "stream": "stdout",
       "text": [
        "\n",
        "Indexing: http://kiwitobes.com/wiki/Pure_Data.html"
       ]
      },
      {
       "output_type": "stream",
       "stream": "stdout",
       "text": [
        "\n",
        "Indexing: http://kiwitobes.com/wiki/LPC_programming_language.html"
       ]
      },
      {
       "output_type": "stream",
       "stream": "stdout",
       "text": [
        "\n",
        "Indexing: http://kiwitobes.com/wiki/Little_languages.html"
       ]
      },
      {
       "output_type": "stream",
       "stream": "stdout",
       "text": [
        "\n",
        "Indexing: http://kiwitobes.com/wiki/BETA.html"
       ]
      },
      {
       "output_type": "stream",
       "stream": "stdout",
       "text": [
        "\n",
        "Indexing: http://kiwitobes.com/wiki/APL_programming_language.html"
       ]
      },
      {
       "output_type": "stream",
       "stream": "stdout",
       "text": [
        "\n",
        "Indexing: http://kiwitobes.com/wiki/BASIC_programming_language.html"
       ]
      },
      {
       "output_type": "stream",
       "stream": "stdout",
       "text": [
        "\n",
        "Could not access page: http://kiwitobes.com/wiki/IBM_700/7000_series"
       ]
      },
      {
       "output_type": "stream",
       "stream": "stdout",
       "text": [
        "\n",
        "Indexing: http://kiwitobes.com/wiki/Intel_8085.html"
       ]
      },
      {
       "output_type": "stream",
       "stream": "stdout",
       "text": [
        "\n",
        "Indexing: http://kiwitobes.com/wiki/SR_language.html"
       ]
      },
      {
       "output_type": "stream",
       "stream": "stdout",
       "text": [
        "\n",
        "Indexing: http://kiwitobes.com/wiki/Array_programming.html"
       ]
      },
      {
       "output_type": "stream",
       "stream": "stdout",
       "text": [
        "\n",
        "Indexing: http://kiwitobes.com/wiki/Visual_Prolog.html"
       ]
      },
      {
       "output_type": "stream",
       "stream": "stdout",
       "text": [
        "\n",
        "Could not access page: http://kiwitobes.com/wiki/Interpreter_%28computer_software%29.html"
       ]
      },
      {
       "output_type": "stream",
       "stream": "stdout",
       "text": [
        "\n",
        "Indexing: http://kiwitobes.com/wiki/Machine_language.html"
       ]
      },
      {
       "output_type": "stream",
       "stream": "stdout",
       "text": [
        "\n",
        "Indexing: http://kiwitobes.com/wiki/GNU_Assembler.html"
       ]
      },
      {
       "output_type": "stream",
       "stream": "stdout",
       "text": [
        "\n",
        "Could not access page: http://kiwitobes.com/wiki/Max_%28software%29.html"
       ]
      },
      {
       "output_type": "stream",
       "stream": "stdout",
       "text": [
        "\n"
       ]
      }
     ],
     "prompt_number": 22
    },
    {
     "cell_type": "markdown",
     "metadata": {},
     "source": [
      "Calculates pagerank with n iterations"
     ]
    },
    {
     "cell_type": "code",
     "collapsed": false,
     "input": [
      "crawl.calculatepagerank(25)"
     ],
     "language": "python",
     "metadata": {},
     "outputs": [
      {
       "output_type": "stream",
       "stream": "stdout",
       "text": [
        "Iteration 0\n",
        "Iteration 1"
       ]
      },
      {
       "output_type": "stream",
       "stream": "stdout",
       "text": [
        "\n",
        "Iteration 2"
       ]
      },
      {
       "output_type": "stream",
       "stream": "stdout",
       "text": [
        "\n",
        "Iteration 3"
       ]
      },
      {
       "output_type": "stream",
       "stream": "stdout",
       "text": [
        "\n",
        "Iteration 4"
       ]
      },
      {
       "output_type": "stream",
       "stream": "stdout",
       "text": [
        "\n",
        "Iteration 5"
       ]
      },
      {
       "output_type": "stream",
       "stream": "stdout",
       "text": [
        "\n",
        "Iteration 6"
       ]
      },
      {
       "output_type": "stream",
       "stream": "stdout",
       "text": [
        "\n",
        "Iteration 7"
       ]
      },
      {
       "output_type": "stream",
       "stream": "stdout",
       "text": [
        "\n",
        "Iteration 8"
       ]
      },
      {
       "output_type": "stream",
       "stream": "stdout",
       "text": [
        "\n",
        "Iteration 9"
       ]
      },
      {
       "output_type": "stream",
       "stream": "stdout",
       "text": [
        "\n",
        "Iteration 10"
       ]
      },
      {
       "output_type": "stream",
       "stream": "stdout",
       "text": [
        "\n",
        "Iteration 11"
       ]
      },
      {
       "output_type": "stream",
       "stream": "stdout",
       "text": [
        "\n",
        "Iteration 12"
       ]
      },
      {
       "output_type": "stream",
       "stream": "stdout",
       "text": [
        "\n",
        "Iteration 13"
       ]
      },
      {
       "output_type": "stream",
       "stream": "stdout",
       "text": [
        "\n",
        "Iteration 14"
       ]
      },
      {
       "output_type": "stream",
       "stream": "stdout",
       "text": [
        "\n",
        "Iteration 15"
       ]
      },
      {
       "output_type": "stream",
       "stream": "stdout",
       "text": [
        "\n",
        "Iteration 16"
       ]
      },
      {
       "output_type": "stream",
       "stream": "stdout",
       "text": [
        "\n",
        "Iteration 17"
       ]
      },
      {
       "output_type": "stream",
       "stream": "stdout",
       "text": [
        "\n",
        "Iteration 18"
       ]
      },
      {
       "output_type": "stream",
       "stream": "stdout",
       "text": [
        "\n",
        "Iteration 19"
       ]
      },
      {
       "output_type": "stream",
       "stream": "stdout",
       "text": [
        "\n",
        "Iteration 20"
       ]
      },
      {
       "output_type": "stream",
       "stream": "stdout",
       "text": [
        "\n",
        "Iteration 21"
       ]
      },
      {
       "output_type": "stream",
       "stream": "stdout",
       "text": [
        "\n",
        "Iteration 22"
       ]
      },
      {
       "output_type": "stream",
       "stream": "stdout",
       "text": [
        "\n",
        "Iteration 23"
       ]
      },
      {
       "output_type": "stream",
       "stream": "stdout",
       "text": [
        "\n",
        "Iteration 24"
       ]
      },
      {
       "output_type": "stream",
       "stream": "stdout",
       "text": [
        "\n"
       ]
      }
     ],
     "prompt_number": 23
    },
    {
     "cell_type": "markdown",
     "metadata": {},
     "source": [
      "Instantiating the searcher"
     ]
    },
    {
     "cell_type": "code",
     "collapsed": false,
     "input": [
      "search = searcher(db)"
     ],
     "language": "python",
     "metadata": {},
     "outputs": [],
     "prompt_number": 24
    },
    {
     "cell_type": "markdown",
     "metadata": {},
     "source": [
      "Querying the index"
     ]
    },
    {
     "cell_type": "code",
     "collapsed": false,
     "input": [
      "print(search.query(u'python'))\n",
      "print\n",
      "print(search.query(u'emap'))\n",
      "print\n",
      "print(search.query(u'botafogo'))"
     ],
     "language": "python",
     "metadata": {},
     "outputs": [
      {
       "output_type": "stream",
       "stream": "stdout",
       "text": [
        "\n",
        "Resultados para busca por python:\n",
        "3.60244304686\thttp://kiwitobes.com/wiki/Python_programming_language.html\n",
        "3.04281629942\thttp://kiwitobes.com/wiki/Programming_language.html\n",
        "2.30551308577\thttp://kiwitobes.com/wiki/C_programming_language.html\n",
        "1.91466273276\thttp://kiwitobes.com/wiki/Object-oriented_programming.html\n",
        "1.7603217852\thttp://kiwitobes.com/wiki/Compiler.html\n",
        "1.73189982869\thttp://kiwitobes.com/wiki/Functional_programming.html\n",
        "1.67369050994\thttp://kiwitobes.com/wiki/Programming_paradigm.html\n",
        "1.62754714699\thttp://kiwitobes.com/wiki/Perl.html\n",
        "1.61598672485\thttp://kiwitobes.com/wiki/Smalltalk.html\n",
        "1.5481517167\thttp://kiwitobes.com/wiki/Lisp_programming_language.html\n",
        "([6392], [862, 615, 717, 909, 712, 833, 902, 784, 958, 840])\n",
        "\n",
        "No results in the database...\n",
        "None\n",
        "\n",
        "\n",
        "Resultados para busca por botafogo:\n",
        "4.24933628319\thttp://oglobo.globo.com/boa-viagem/\n",
        "4.2257119815\thttp://oglobo.globo.com/mundo/\n",
        "4.1876302011\thttp://oglobo.globo.com/economia/rio-20-conference-2012/\n",
        "3.73522163745\thttp://oglobo.globo.com/economia/fundos-fgts-petrobras-oferecem-maior-rendimento-em-julho-5648092\n",
        "3.72596781892\thttp://oglobo.globo.com/rio/ong-instala-cruzes-em-praia-em-protesto-contra-operacoes-policiais-5646025\n",
        "3.71920158242\thttp://oglobo.globo.com/rio-gastronomia-2012/para-esquentar-sopas-5642020\n",
        "3.64712647406\thttp://oglobo.globo.com/topico-eleicoes-2012/centro-social-com-propaganda-eleitoral-fechado-na-mare-5639240\n",
        "3.64702959431\thttp://oglobo.globo.com/cultura/artistas-veem-com-cautela-tombamento-da-bhering-5647177\n",
        "3.59700564184\thttp://www.oglobo.com/\n",
        "3.45576961439\thttp://oglobo.globo.com/imoveis/reformas-que-valem-um-ape-5619879\n",
        "([477], [100, 55, 49, 46, 30, 134, 17, 67, 1, 149])\n"
       ]
      }
     ],
     "prompt_number": 26
    },
    {
     "cell_type": "code",
     "collapsed": false,
     "input": [],
     "language": "python",
     "metadata": {},
     "outputs": []
    }
   ],
   "metadata": {}
  }
 ]
}