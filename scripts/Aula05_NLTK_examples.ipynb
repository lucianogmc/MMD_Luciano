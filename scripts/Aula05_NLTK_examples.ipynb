{
 "metadata": {
  "name": ""
 },
 "nbformat": 3,
 "nbformat_minor": 0,
 "worksheets": [
  {
   "cells": [
    {
     "cell_type": "heading",
     "level": 1,
     "metadata": {},
     "source": [
      "Exemplos de tratamento de textos com NLTK"
     ]
    },
    {
     "cell_type": "markdown",
     "metadata": {},
     "source": [
      "Em primeiro lugar, importamos os pacotes a serem usados:"
     ]
    },
    {
     "cell_type": "code",
     "collapsed": false,
     "input": [
      "import random\n",
      "\n",
      "import nltk\n",
      "from nltk import ingrams, FreqDist\n",
      "from nltk.corpus import PlaintextCorpusReader\n",
      "from nltk.corpus import machado\n",
      "from nltk.examples.pt import *"
     ],
     "language": "python",
     "metadata": {},
     "outputs": [],
     "prompt_number": 19
    },
    {
     "cell_type": "markdown",
     "metadata": {},
     "source": [
      "Informa\u00e7\u00f5es sobre os textos importados:"
     ]
    },
    {
     "cell_type": "code",
     "collapsed": false,
     "input": [
      "print(ptext1.name)\n",
      "print(ptext2.name)\n",
      "print(ptext3.name)\n",
      "print(ptext4.name)"
     ],
     "language": "python",
     "metadata": {},
     "outputs": [
      {
       "output_type": "stream",
       "stream": "stdout",
       "text": [
        "Mem\ufffdrias P\ufffdstumas de Br\ufffds Cubas (1881)\n",
        "Dom Casmurro (1899)\n",
        "G\ufffdnesis\n",
        "Folha de Sao Paulo (1994)\n"
       ]
      }
     ],
     "prompt_number": 20
    },
    {
     "cell_type": "heading",
     "level": 2,
     "metadata": {},
     "source": [
      "1 - Searching Text"
     ]
    },
    {
     "cell_type": "markdown",
     "metadata": {},
     "source": [
      "Atrav\u00e9s das concord\u00e2ncias, pode-se examinar o contexto onde aparecem as palavras:"
     ]
    },
    {
     "cell_type": "code",
     "collapsed": false,
     "input": [
      "ptext1.concordance(\"anos\")\n",
      "#ptext3.concordance(\"olhos\")"
     ],
     "language": "python",
     "metadata": {},
     "outputs": [
      {
       "output_type": "stream",
       "stream": "stdout",
       "text": [
        "Building index...\n",
        "Displaying 25 of 82 matches:"
       ]
      },
      {
       "output_type": "stream",
       "stream": "stdout",
       "text": [
        "\n",
        "eda\u00e7os na Revista Brasileira , pelos anos de 1880 . Postas mais tarde em livro\n",
        "atumbi . Tinha uns sessenta e quatro anos , rijos e pr\u00f3speros , era solteiro ,\n",
        "r\u00e3o que expira aos sessenta e quatro anos , n\u00e3o parece que re\u00fana em si todos o\n",
        "quando eu me restituir aos primeiros anos . Agora , quero morrer tranq\u00fcilament\n",
        "egonhas do Ilisso ... Tinha ent\u00e3o 54 anos , era uma ru\u00edna , uma imponente ru\u00edn\n",
        "r que nos amamos , ela e eu , muitos anos antes , e que um dia , j\u00e1 enfermo , \n",
        "e fazer nenhum gesto . Havia j\u00e1 dois anos que nos n\u00e3o v\u00edamos , e eu via - a ag\n",
        "avidade que lhe davam as roupas e os anos , e veio at\u00e9 o meu leito . O estranh\n",
        " freio , nada mais havia ali , vinte anos depois ; havia apenas dois cora\u00e7\u00f5es \n",
        " casamento , que , na idade de cinco anos , fora c\u00famplice inconsciente de noss\n",
        " olhos s\u00faplices , e pedi mais alguns anos . \u0097 Pobre minuto ! exclamou . Para q\n",
        "as por alto , segundo as ouvi narrar anos depois ; ignoro a mor parte dos porm\n",
        "neamentos do menino . Desde os cinco anos merecera eu a alcunha de \u0093 menino di\n",
        "or pirra\u00e7a \u0094; e eu tinha apenas seis anos . Prud\u00eancio , um moleque de casa , e\n",
        ", conversa picaresca . Desde os onze anos entrou a admitir - me \u00e0s anedotas re\n",
        "o dos mandamentos . Agora , a tantos anos de dist\u00e2ncia , n\u00e3o estou certo se el\n",
        " tempo em nossa companhia , uns dois anos . Outros parentes e alguns \u00edntimos n\n",
        "alante epis\u00f3dio de 1814 ; tinha nove anos . Napole\u00e3o , quando eu nasci , estav\n",
        "a , medido e lento , quarenta e sete anos , casado e pai . N\u00e3o me contentava o\n",
        " E fizeste isto durante vinte e tr\u00eas anos , calado , obscuro , pontual , metid\n",
        "V / O PRIMEIRO BEIJO Tinha dezessete anos ; pungia - me um bu\u00e7ozinho que eu fo\n",
        "deado , quando ela tinha apenas doze anos . Cosas de Espa\u00f1a . Quem quer que fo\n",
        "o , e se alguma vez contaste dezoito anos , deves lembrar - te que foi assim m\n",
        "uarte , que ela amara deveras , dois anos antes , s\u00f3 a custo conseguia dar - l\n",
        "com a solenidade do estilo , ap\u00f3s os anos da lei ; uma bela festa que me enche\n"
       ]
      }
     ],
     "prompt_number": 21
    },
    {
     "cell_type": "markdown",
     "metadata": {},
     "source": [
      "Para uma dada palavra, podemos achar outras com distribui\u00e7\u00f5es similares:"
     ]
    },
    {
     "cell_type": "code",
     "collapsed": false,
     "input": [
      "ptext1.similar('anos')\n",
      "#ptext3.similar('deus')"
     ],
     "language": "python",
     "metadata": {},
     "outputs": [
      {
       "output_type": "stream",
       "stream": "stdout",
       "text": [
        "Building word-context index...\n",
        "olhos dias outros s\u00e9culos instantes ossos versos bra\u00e7os cidad\u00e3os\n",
        "deputados nervos \u00f3culos ademanes africanos amores apetites aplausos\n",
        "arrebatamentos aspectos av\u00f3s"
       ]
      },
      {
       "output_type": "stream",
       "stream": "stdout",
       "text": [
        "\n"
       ]
      }
     ],
     "prompt_number": 22
    },
    {
     "cell_type": "markdown",
     "metadata": {},
     "source": [
      "Podemos buscar por coloca\u00e7\u00f5es estat\u00edsticamente frequentes:"
     ]
    },
    {
     "cell_type": "code",
     "collapsed": false,
     "input": [
      "ptext1.collocations()"
     ],
     "language": "python",
     "metadata": {},
     "outputs": [
      {
       "output_type": "stream",
       "stream": "stdout",
       "text": [
        "Building collocations list\n",
        "Quincas Borba; Lobo Neves; alguma coisa; Br\u00e1s Cubas; meu pai; que n\u00e3o;\n",
        "dia seguinte; n\u00e3o sei; Com efeito; que era; Meu pai; alguns instantes;\n",
        "outra vez; outra coisa; por exemplo; que ele; mim mesmo; coisa\n",
        "nenhuma; mesma coisa; n\u00e3o era"
       ]
      },
      {
       "output_type": "stream",
       "stream": "stdout",
       "text": [
        "\n"
       ]
      }
     ],
     "prompt_number": 23
    },
    {
     "cell_type": "code",
     "collapsed": false,
     "input": [
      "ptext1.findall(\"<olhos> (<.*>)\")"
     ],
     "language": "python",
     "metadata": {},
     "outputs": [
      {
       "output_type": "stream",
       "stream": "stdout",
       "text": [
        "est\u00fapidos; e; fechados; e; rutilantes; s\u00faplices; a; do; ,; babavam;\n",
        "na; moles; se; da; umas; .; espraiavam; chamejantes; espetados; ,;\n",
        "cobi\u00e7osos; para; ,; \u00famidos; no; ;; de; de; fitos; a; naquele; do; ,;\n",
        "pretos; as; est\u00fapidos; ao; \u00e0s; ...; ,; f\u00falgidos; de; ,; .; de; pretos;\n",
        "t\u00e3o; de; para; a; chisparam; para; me; da; ,; ,; uma; no; na; para;\n",
        "se; em; .; em; .; de; ,; no; nela; tinham; ;; cintilantes; o; dos; e;\n",
        ",; de; de; dela; vermelhos; .; e; .; o; ,; constantemente; para; ,; ,;\n",
        "para; ,; ao; ,; na; na; baixos; no; mais; no; se; dela; do; no; ,;\n",
        "lampejantes; rasos; todos; ,; e; do; pelos; de; ao; .; lhe; de;\n",
        "enfermos; :; ,; .; e; da; fixos; .; fitos; ,; ,; bonitos; de; ...; .;\n",
        "de; algum; a; ;; fitos; em\n"
       ]
      }
     ],
     "prompt_number": 24
    },
    {
     "cell_type": "code",
     "collapsed": false,
     "input": [
      "#ptext1.generate()\n",
      "ptext3.generate()"
     ],
     "language": "python",
     "metadata": {},
     "outputs": [
      {
       "output_type": "stream",
       "stream": "stdout",
       "text": [
        "Building ngram index...\n",
        "No princ\u00edpio , criou Deus o homem esteja s\u00f3 ; o que fa\u00e7o , visto que\n",
        "Abra\u00e3o tinha , o copo foi achado , aquele ser\u00e1 meu escravo , por\u00e9m , o\n",
        "qual tomei com a minha b\u00ean\u00e7\u00e3o , meu senhor : pr\u00edncipe de Deus subiam e\n",
        "desciam por ela . E foi , e a minha carne ; por\u00e9m v\u00f3s sereis\n",
        "desculpados . E , antes que eu sepulte o meu pacto ; e fugiram os reis\n",
        "de povos sair\u00e3o dela . E eis que o ouvir se rir\u00e1 comigo . E viveu Sete\n",
        ", oitocentos e noventa e"
       ]
      },
      {
       "output_type": "stream",
       "stream": "stdout",
       "text": [
        "\n"
       ]
      }
     ],
     "prompt_number": 25
    },
    {
     "cell_type": "code",
     "collapsed": false,
     "input": [
      "psent3"
     ],
     "language": "python",
     "metadata": {},
     "outputs": [
      {
       "metadata": {},
       "output_type": "pyout",
       "prompt_number": 26,
       "text": [
        "['No', 'princ\\xedpio,', 'criou', 'Deus', 'os', 'c\\xe9us', 'e', 'a', 'terra.']"
       ]
      }
     ],
     "prompt_number": 26
    },
    {
     "cell_type": "code",
     "collapsed": false,
     "input": [
      "len(psent1)"
     ],
     "language": "python",
     "metadata": {},
     "outputs": [
      {
       "metadata": {},
       "output_type": "pyout",
       "prompt_number": 27,
       "text": [
        "25"
       ]
      }
     ],
     "prompt_number": 27
    },
    {
     "cell_type": "code",
     "collapsed": false,
     "input": [
      "sorted(set(psent1))"
     ],
     "language": "python",
     "metadata": {},
     "outputs": [
      {
       "metadata": {},
       "output_type": "pyout",
       "prompt_number": 28,
       "text": [
        "[',',\n",
        " '.',\n",
        " 'a',\n",
        " 'amor',\n",
        " 'coisa',\n",
        " 'conseq\\xfcentemente',\n",
        " 'da',\n",
        " 'e',\n",
        " 'era',\n",
        " 'fei\\xe7\\xe3o',\n",
        " 'genu\\xedna',\n",
        " 'gl\\xf3ria',\n",
        " 'homem',\n",
        " 'humana',\n",
        " 'h\\xe1',\n",
        " 'mais',\n",
        " 'no',\n",
        " 'o',\n",
        " 'que',\n",
        " 'sua',\n",
        " 'verdadeiramente']"
       ]
      }
     ],
     "prompt_number": 28
    },
    {
     "cell_type": "code",
     "collapsed": false,
     "input": [
      "for w in psent1:\n",
      "    w = w.decode('latin-1')\n",
      "    print w, len(w), w[-1]"
     ],
     "language": "python",
     "metadata": {},
     "outputs": [
      {
       "output_type": "stream",
       "stream": "stdout",
       "text": [
        "o 1 o\n",
        "amor 4 r\n",
        "da 2 a\n",
        "gl\u00f3ria 6 a\n",
        "era 3 a\n",
        "a 1 a\n",
        "coisa 5 a\n",
        "mais 4 s\n",
        "verdadeiramente 15 e\n",
        "humana 6 a\n",
        "que 3 e\n",
        "h\u00e1 2 \u00e1\n",
        "no 2 o\n",
        "homem 5 m\n",
        ", 1 ,\n",
        "e 1 e\n",
        ", 1 ,\n",
        "conseq\u00fcentemente 16 e\n",
        ", 1 ,\n",
        "a 1 a\n",
        "sua 3 a\n",
        "mais 4 s\n",
        "genu\u00edna 7 a\n",
        "fei\u00e7\u00e3o 6 o\n",
        ". 1 .\n"
       ]
      }
     ],
     "prompt_number": 29
    },
    {
     "cell_type": "code",
     "collapsed": false,
     "input": [
      "print([w.upper() for w in psent2])\n",
      "print([w for w in psent1 if w.endswith('a')])\n",
      "print([w for w in ptext4 if len(w) > 15])"
     ],
     "language": "python",
     "metadata": {},
     "outputs": [
      {
       "output_type": "stream",
       "stream": "stdout",
       "text": [
        "['N\\xe3O', 'CONSULTES', 'DICION\\xe1RIOS', '.']\n",
        "['da', 'gl\\xf3ria', 'era', 'a', 'coisa', 'humana', 'a', 'sua', 'genu\\xedna']\n",
        "[u'norte-irlandeses', u'pan-nacionalismo', u'predominatemente', u'primeiro-ministro', u'primeiro-ministro', u'irlandesa-americana', u'responsabilidades', u'significativamente']\n"
       ]
      }
     ],
     "prompt_number": 30
    },
    {
     "cell_type": "code",
     "collapsed": false,
     "input": [
      "#fd1 = FreqDist(ptext1)\n",
      "fd1 = FreqDist([w.lower() for w in ptext3.tokens])\n",
      "fd1"
     ],
     "language": "python",
     "metadata": {},
     "outputs": [
      {
       "metadata": {},
       "output_type": "pyout",
       "prompt_number": 31,
       "text": [
        "<FreqDist with 3556 samples and 45094 outcomes>"
       ]
      }
     ],
     "prompt_number": 31
    },
    {
     "cell_type": "code",
     "collapsed": false,
     "input": [
      "fd1.max()"
     ],
     "language": "python",
     "metadata": {},
     "outputs": [
      {
       "metadata": {},
       "output_type": "pyout",
       "prompt_number": 32,
       "text": [
        "u','"
       ]
      }
     ],
     "prompt_number": 32
    },
    {
     "cell_type": "code",
     "collapsed": false,
     "input": [
      "fd1.samples()[:10]"
     ],
     "language": "python",
     "metadata": {},
     "outputs": [
      {
       "metadata": {},
       "output_type": "pyout",
       "prompt_number": 33,
       "text": [
        "[u',', u'e', u'.', u'a', u'de', u'o', u'que', u'{', u';', u'}']"
       ]
      }
     ],
     "prompt_number": 33
    },
    {
     "cell_type": "code",
     "collapsed": false,
     "input": [
      "fd1.hapaxes()[:20]"
     ],
     "language": "python",
     "metadata": {},
     "outputs": [
      {
       "metadata": {},
       "output_type": "pyout",
       "prompt_number": 34,
       "text": [
        "[u'!}',\n",
        " u'13',\n",
        " u'17',\n",
        " u'19',\n",
        " u'1sm',\n",
        " u'3',\n",
        " u'4',\n",
        " u'5',\n",
        " u'?),',\n",
        " u'abaixa',\n",
        " u'abaixaram',\n",
        " u'abdeel',\n",
        " u'aben\\xe7oando',\n",
        " u'aben\\xe7oara',\n",
        " u'aben\\xe7oaram',\n",
        " u'aben\\xe7oares',\n",
        " u'aben\\xe7oava',\n",
        " u'aben\\xe7oei',\n",
        " u'abertos',\n",
        " u'abida']"
       ]
      }
     ],
     "prompt_number": 34
    },
    {
     "cell_type": "code",
     "collapsed": false,
     "input": [
      "fd1.plot(15)"
     ],
     "language": "python",
     "metadata": {},
     "outputs": [
      {
       "metadata": {},
       "output_type": "display_data",
       "png": "[encoded data removed]",
       "text": [
        "<matplotlib.figure.Figure at 0x7f546daaa710>"
       ]
      }
     ],
     "prompt_number": 35
    },
    {
     "cell_type": "code",
     "collapsed": false,
     "input": [
      "nltk.corpus.stopwords.words('portuguese')[:20]"
     ],
     "language": "python",
     "metadata": {},
     "outputs": [
      {
       "metadata": {},
       "output_type": "pyout",
       "prompt_number": 36,
       "text": [
        "['de',\n",
        " 'a',\n",
        " 'o',\n",
        " 'que',\n",
        " 'e',\n",
        " 'do',\n",
        " 'da',\n",
        " 'em',\n",
        " 'um',\n",
        " 'para',\n",
        " 'com',\n",
        " 'n\\xc3\\xa3o',\n",
        " 'uma',\n",
        " 'os',\n",
        " 'no',\n",
        " 'se',\n",
        " 'na',\n",
        " 'por',\n",
        " 'mais',\n",
        " 'as']"
       ]
      }
     ],
     "prompt_number": 36
    },
    {
     "cell_type": "heading",
     "level": 2,
     "metadata": {},
     "source": [
      "2 - Reading Corpora"
     ]
    },
    {
     "cell_type": "code",
     "collapsed": false,
     "input": [
      "machado.fileids()[:5]"
     ],
     "language": "python",
     "metadata": {},
     "outputs": [
      {
       "metadata": {},
       "output_type": "pyout",
       "prompt_number": 37,
       "text": [
        "['contos/macn001.txt',\n",
        " 'contos/macn002.txt',\n",
        " 'contos/macn003.txt',\n",
        " 'contos/macn004.txt',\n",
        " 'contos/macn005.txt']"
       ]
      }
     ],
     "prompt_number": 37
    },
    {
     "cell_type": "code",
     "collapsed": false,
     "input": [
      "raw_text = machado.raw('romance/marm04.txt')\n",
      "raw_text[10000:10200]"
     ],
     "language": "python",
     "metadata": {},
     "outputs": [
      {
       "metadata": {},
       "output_type": "pyout",
       "prompt_number": 38,
       "text": [
        "u' as m\\xe3os da filha nas suas,\\n  considerava-se o mais venturoso dos homens. A narrativa da pequena era como\\n  costumam ser as da idade infantil: desigual e truncada, mas cheia de um\\n  colorido seu. Ele '"
       ]
      }
     ],
     "prompt_number": 38
    },
    {
     "cell_type": "code",
     "collapsed": false,
     "input": [
      "text1 = machado.words('romance/marm04.txt')\n",
      "text1"
     ],
     "language": "python",
     "metadata": {},
     "outputs": [
      {
       "metadata": {},
       "output_type": "pyout",
       "prompt_number": 39,
       "text": [
        "[u'ROMANCE', u',', u'Iai\\xe1', u'Garcia', u',', ...]"
       ]
      }
     ],
     "prompt_number": 39
    },
    {
     "cell_type": "code",
     "collapsed": false,
     "input": [
      "print(len(text1))\n",
      "print(len(set(text1)))"
     ],
     "language": "python",
     "metadata": {},
     "outputs": [
      {
       "output_type": "stream",
       "stream": "stdout",
       "text": [
        "69398\n",
        "8274"
       ]
      },
      {
       "output_type": "stream",
       "stream": "stdout",
       "text": [
        "\n"
       ]
      }
     ],
     "prompt_number": 40
    },
    {
     "cell_type": "code",
     "collapsed": false,
     "input": [
      "target_word = 'homem'\n",
      "fd = FreqDist(ng for ng in ingrams(text1, 3) if target_word in ng)\n",
      "for hit in fd.samples()[:10]:\n",
      "    print ' '.join(hit)"
     ],
     "language": "python",
     "metadata": {},
     "outputs": [
      {
       "output_type": "stream",
       "stream": "stdout",
       "text": [
        "a um homem\n",
        "de um homem\n",
        "era homem de\n",
        "um homem ,\n",
        "um homem que\n",
        "- se homem\n",
        ". O homem\n",
        "um homem de\n",
        "daquele homem ,\n",
        "desse homem ,\n"
       ]
      }
     ],
     "prompt_number": 41
    },
    {
     "cell_type": "code",
     "collapsed": false,
     "input": [
      "fd.plot(15)"
     ],
     "language": "python",
     "metadata": {},
     "outputs": [
      {
       "metadata": {},
       "output_type": "display_data",
       "png": "[encoded data removed]",
       "text": [
        "<matplotlib.figure.Figure at 0x7f5477e20450>"
       ]
      }
     ],
     "prompt_number": 42
    },
    {
     "cell_type": "heading",
     "level": 2,
     "metadata": {},
     "source": [
      "3 - Marca\u00e7\u00e3o Morfossint\u00e1tica"
     ]
    },
    {
     "cell_type": "raw",
     "metadata": {},
     "source": [
      "Tagset usado: http://beta.visl.sdu.dk/visl/pt/symbolset-floresta.html"
     ]
    },
    {
     "cell_type": "code",
     "collapsed": false,
     "input": [
      "tsents = nltk.corpus.floresta.tagged_sents()\n",
      "#tsents = nltk.corpus.mac_morpho.tagged_sents()\n",
      "\n",
      "tsents = [[(w.lower(),nltk.corpus.simplify_tag(t)) for (w,t) in sent] for sent in tsents if sent]\n",
      "random.shuffle(tsents)\n",
      "train = tsents[200:]\n",
      "test = tsents[:200]"
     ],
     "language": "python",
     "metadata": {},
     "outputs": [],
     "prompt_number": 52
    },
    {
     "cell_type": "code",
     "collapsed": false,
     "input": [
      "len(train) + len(test)"
     ],
     "language": "python",
     "metadata": {},
     "outputs": [
      {
       "metadata": {},
       "output_type": "pyout",
       "prompt_number": 53,
       "text": [
        "9266"
       ]
      }
     ],
     "prompt_number": 53
    },
    {
     "cell_type": "code",
     "collapsed": false,
     "input": [
      "tagger0 = nltk.tag.DefaultTagger('H')\n",
      "nltk.metrics.accuracy(tagger0, test)"
     ],
     "language": "python",
     "metadata": {},
     "outputs": [
      {
       "ename": "TypeError",
       "evalue": "object of type 'DefaultTagger' has no len()",
       "output_type": "pyerr",
       "traceback": [
        "\u001b[1;31m---------------------------------------------------------------------------\u001b[0m\n\u001b[1;31mTypeError\u001b[0m                                 Traceback (most recent call last)",
        "\u001b[1;32m<ipython-input-55-bed4f6828c2b>\u001b[0m in \u001b[0;36m<module>\u001b[1;34m()\u001b[0m\n\u001b[0;32m      1\u001b[0m \u001b[0mtagger0\u001b[0m \u001b[1;33m=\u001b[0m \u001b[0mnltk\u001b[0m\u001b[1;33m.\u001b[0m\u001b[0mDefaultTagger\u001b[0m\u001b[1;33m(\u001b[0m\u001b[1;34m'H'\u001b[0m\u001b[1;33m)\u001b[0m\u001b[1;33m\u001b[0m\u001b[0m\n\u001b[1;32m----> 2\u001b[1;33m \u001b[0mnltk\u001b[0m\u001b[1;33m.\u001b[0m\u001b[0mmetrics\u001b[0m\u001b[1;33m.\u001b[0m\u001b[0maccuracy\u001b[0m\u001b[1;33m(\u001b[0m\u001b[0mtagger0\u001b[0m\u001b[1;33m,\u001b[0m \u001b[0mtest\u001b[0m\u001b[1;33m)\u001b[0m\u001b[1;33m\u001b[0m\u001b[0m\n\u001b[0m",
        "\u001b[1;32m/usr/local/lib/python2.7/dist-packages/nltk-2.0.4-py2.7.egg/nltk/metrics/scores.pyc\u001b[0m in \u001b[0;36maccuracy\u001b[1;34m(reference, test)\u001b[0m\n\u001b[0;32m     35\u001b[0m         \u001b[0msame\u001b[0m \u001b[0mlength\u001b[0m\u001b[1;33m.\u001b[0m\u001b[1;33m\u001b[0m\u001b[0m\n\u001b[0;32m     36\u001b[0m     \"\"\"\n\u001b[1;32m---> 37\u001b[1;33m     \u001b[1;32mif\u001b[0m \u001b[0mlen\u001b[0m\u001b[1;33m(\u001b[0m\u001b[0mreference\u001b[0m\u001b[1;33m)\u001b[0m \u001b[1;33m!=\u001b[0m \u001b[0mlen\u001b[0m\u001b[1;33m(\u001b[0m\u001b[0mtest\u001b[0m\u001b[1;33m)\u001b[0m\u001b[1;33m:\u001b[0m\u001b[1;33m\u001b[0m\u001b[0m\n\u001b[0m\u001b[0;32m     38\u001b[0m         \u001b[1;32mraise\u001b[0m \u001b[0mValueError\u001b[0m\u001b[1;33m(\u001b[0m\u001b[1;34m\"Lists must have the same length.\"\u001b[0m\u001b[1;33m)\u001b[0m\u001b[1;33m\u001b[0m\u001b[0m\n\u001b[0;32m     39\u001b[0m     \u001b[1;32mreturn\u001b[0m \u001b[0mfloat\u001b[0m\u001b[1;33m(\u001b[0m\u001b[0msum\u001b[0m\u001b[1;33m(\u001b[0m\u001b[0mx\u001b[0m \u001b[1;33m==\u001b[0m \u001b[0my\u001b[0m \u001b[1;32mfor\u001b[0m \u001b[0mx\u001b[0m\u001b[1;33m,\u001b[0m \u001b[0my\u001b[0m \u001b[1;32min\u001b[0m \u001b[0mizip\u001b[0m\u001b[1;33m(\u001b[0m\u001b[0mreference\u001b[0m\u001b[1;33m,\u001b[0m \u001b[0mtest\u001b[0m\u001b[1;33m)\u001b[0m\u001b[1;33m)\u001b[0m\u001b[1;33m)\u001b[0m \u001b[1;33m/\u001b[0m \u001b[0mlen\u001b[0m\u001b[1;33m(\u001b[0m\u001b[0mtest\u001b[0m\u001b[1;33m)\u001b[0m\u001b[1;33m\u001b[0m\u001b[0m\n",
        "\u001b[1;31mTypeError\u001b[0m: object of type 'DefaultTagger' has no len()"
       ]
      }
     ],
     "prompt_number": 55
    },
    {
     "cell_type": "code",
     "collapsed": false,
     "input": [
      "tagger0 = nltk.DefaultTagger('H')\n",
      "nltk.metrics.accuracy(tagger0, test)"
     ],
     "language": "python",
     "metadata": {},
     "outputs": [
      {
       "ename": "TypeError",
       "evalue": "object of type 'DefaultTagger' has no len()",
       "output_type": "pyerr",
       "traceback": [
        "\u001b[1;31m---------------------------------------------------------------------------\u001b[0m\n\u001b[1;31mTypeError\u001b[0m                                 Traceback (most recent call last)",
        "\u001b[1;32m<ipython-input-51-bed4f6828c2b>\u001b[0m in \u001b[0;36m<module>\u001b[1;34m()\u001b[0m\n\u001b[0;32m      1\u001b[0m \u001b[0mtagger0\u001b[0m \u001b[1;33m=\u001b[0m \u001b[0mnltk\u001b[0m\u001b[1;33m.\u001b[0m\u001b[0mDefaultTagger\u001b[0m\u001b[1;33m(\u001b[0m\u001b[1;34m'H'\u001b[0m\u001b[1;33m)\u001b[0m\u001b[1;33m\u001b[0m\u001b[0m\n\u001b[1;32m----> 2\u001b[1;33m \u001b[0mnltk\u001b[0m\u001b[1;33m.\u001b[0m\u001b[0mmetrics\u001b[0m\u001b[1;33m.\u001b[0m\u001b[0maccuracy\u001b[0m\u001b[1;33m(\u001b[0m\u001b[0mtagger0\u001b[0m\u001b[1;33m,\u001b[0m \u001b[0mtest\u001b[0m\u001b[1;33m)\u001b[0m\u001b[1;33m\u001b[0m\u001b[0m\n\u001b[0m",
        "\u001b[1;32m/usr/local/lib/python2.7/dist-packages/nltk-2.0.4-py2.7.egg/nltk/metrics/scores.pyc\u001b[0m in \u001b[0;36maccuracy\u001b[1;34m(reference, test)\u001b[0m\n\u001b[0;32m     35\u001b[0m         \u001b[0msame\u001b[0m \u001b[0mlength\u001b[0m\u001b[1;33m.\u001b[0m\u001b[1;33m\u001b[0m\u001b[0m\n\u001b[0;32m     36\u001b[0m     \"\"\"\n\u001b[1;32m---> 37\u001b[1;33m     \u001b[1;32mif\u001b[0m \u001b[0mlen\u001b[0m\u001b[1;33m(\u001b[0m\u001b[0mreference\u001b[0m\u001b[1;33m)\u001b[0m \u001b[1;33m!=\u001b[0m \u001b[0mlen\u001b[0m\u001b[1;33m(\u001b[0m\u001b[0mtest\u001b[0m\u001b[1;33m)\u001b[0m\u001b[1;33m:\u001b[0m\u001b[1;33m\u001b[0m\u001b[0m\n\u001b[0m\u001b[0;32m     38\u001b[0m         \u001b[1;32mraise\u001b[0m \u001b[0mValueError\u001b[0m\u001b[1;33m(\u001b[0m\u001b[1;34m\"Lists must have the same length.\"\u001b[0m\u001b[1;33m)\u001b[0m\u001b[1;33m\u001b[0m\u001b[0m\n\u001b[0;32m     39\u001b[0m     \u001b[1;32mreturn\u001b[0m \u001b[0mfloat\u001b[0m\u001b[1;33m(\u001b[0m\u001b[0msum\u001b[0m\u001b[1;33m(\u001b[0m\u001b[0mx\u001b[0m \u001b[1;33m==\u001b[0m \u001b[0my\u001b[0m \u001b[1;32mfor\u001b[0m \u001b[0mx\u001b[0m\u001b[1;33m,\u001b[0m \u001b[0my\u001b[0m \u001b[1;32min\u001b[0m \u001b[0mizip\u001b[0m\u001b[1;33m(\u001b[0m\u001b[0mreference\u001b[0m\u001b[1;33m,\u001b[0m \u001b[0mtest\u001b[0m\u001b[1;33m)\u001b[0m\u001b[1;33m)\u001b[0m\u001b[1;33m)\u001b[0m \u001b[1;33m/\u001b[0m \u001b[0mlen\u001b[0m\u001b[1;33m(\u001b[0m\u001b[0mtest\u001b[0m\u001b[1;33m)\u001b[0m\u001b[1;33m\u001b[0m\u001b[0m\n",
        "\u001b[1;31mTypeError\u001b[0m: object of type 'DefaultTagger' has no len()"
       ]
      }
     ],
     "prompt_number": 51
    },
    {
     "cell_type": "code",
     "collapsed": false,
     "input": [
      "tagger1 = nltk.UnigramTagger(train, backoff=tagger0)\n",
      "nltk.tag.accuracy(tagger1, test)"
     ],
     "language": "python",
     "metadata": {},
     "outputs": []
    },
    {
     "cell_type": "code",
     "collapsed": false,
     "input": [
      "tagger1 = nltk.UnigramTagger(train, backoff=tagger0)\n",
      "nltk.tag.accuracy(tagger1, test)"
     ],
     "language": "python",
     "metadata": {},
     "outputs": []
    },
    {
     "cell_type": "code",
     "collapsed": false,
     "input": [
      "tagger2 = nltk.BigramTagger(train, backoff=tagger1)\n",
      "nltk.tag.accuracy(tagger2, test)"
     ],
     "language": "python",
     "metadata": {},
     "outputs": []
    },
    {
     "cell_type": "code",
     "collapsed": false,
     "input": [
      "tagger2 = nltk.BigramTagger(train, backoff=tagger1)\n",
      "nltk.tag.accuracy(tagger2, test)"
     ],
     "language": "python",
     "metadata": {},
     "outputs": []
    },
    {
     "cell_type": "code",
     "collapsed": false,
     "input": [
      "tagger3 = nltk.BigramTagger(train)#, backoff=tagger1)\n",
      "nltk.tag.accuracy(tagger3, test)"
     ],
     "language": "python",
     "metadata": {},
     "outputs": []
    },
    {
     "cell_type": "code",
     "collapsed": false,
     "input": [
      "tagger3 = nltk.BigramTagger(train)#, backoff=tagger1)\n",
      "nltk.tag.accuracy(tagger3, test)"
     ],
     "language": "python",
     "metadata": {},
     "outputs": []
    },
    {
     "cell_type": "code",
     "collapsed": false,
     "input": [
      "stemmer = nltk.stem.RSLPStemmer()\n",
      "print(stemmer.stem(\"copiar\"))\n",
      "print(stemmer.stem(\"paisagem\"))"
     ],
     "language": "python",
     "metadata": {},
     "outputs": []
    },
    {
     "cell_type": "heading",
     "level": 2,
     "metadata": {},
     "source": [
      "4 - Cria\u00e7\u00e3o de corpus (exemplo)"
     ]
    },
    {
     "cell_type": "code",
     "collapsed": false,
     "input": [
      "corpus_root = '/home/rsouza/Dropbox/Light/Pesquisas/Emap/PLN/'\n",
      "\n",
      "def createcorpus(pathtofiles):\n",
      "    corpus = PlaintextCorpusReader(pathtofiles, '.*\\.txt', encoding='UTF-8')\n",
      "    print 'Criado corpus com os arquivos:'\n",
      "    print corpus.fileids()\n",
      "    return corpus\n",
      "\n",
      "def corpus2tokens(corpus):\n",
      "    dictokens = {}\n",
      "    for texto in corpus.fileids():\n",
      "        tokensascii = corpus.words(fileids = texto)\n",
      "        tokens = [t.encode('utf8') for t in tokensascii]        \n",
      "        dictokens[texto] = tokens\n",
      "    print 'Criado dicionario {texto(i): tokens(texto(i))} com os textos:'\n",
      "    print corpus.fileids()    \n",
      "    return dictokens\n",
      "\n",
      "def corpus2collection(corpus):\n",
      "    #Criacao de um texto consolidado com a uniao dos textos do corpus\n",
      "    tcollection = nltk.TextCollection(corpus)\n",
      "    return tcollection\n",
      "\n",
      "#corpuslight = createcorpus(corpus_root)\n",
      "#textoslight = corpus2tokens(corpuslight)\n",
      "#tcollectlight = corpus2collection(corpuslight)\n",
      "#tcollectlight.concordance('light')\n",
      "#tcollectlight.concordance('TOI')\n",
      "#tcollectlight.similar('Light')\n",
      "#tcollectlight.common_contexts(['light','TOI'])\n",
      "#corpuslight.fileids()"
     ],
     "language": "python",
     "metadata": {},
     "outputs": []
    }
   ],
   "metadata": {}
  }
 ]
}