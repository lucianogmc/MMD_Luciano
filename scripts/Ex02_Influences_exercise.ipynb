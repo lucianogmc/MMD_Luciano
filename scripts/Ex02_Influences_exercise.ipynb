{
 "metadata": {
  "name": ""
 },
 "nbformat": 3,
 "nbformat_minor": 0,
 "worksheets": [
  {
   "cells": [
    {
     "cell_type": "markdown",
     "metadata": {},
     "source": [
      "Importing modules"
     ]
    },
    {
     "cell_type": "code",
     "collapsed": false,
     "input": [
      "import numpy as np\n",
      "import matplotlib.pyplot as plt\n",
      "import pylab as pl\n",
      "import networkx as nx\n",
      "import codecs\n",
      "from collections import Counter, OrderedDict"
     ],
     "language": "python",
     "metadata": {},
     "outputs": [],
     "prompt_number": 1
    },
    {
     "cell_type": "markdown",
     "metadata": {},
     "source": [
      "Specifying the path to the files:"
     ]
    },
    {
     "cell_type": "code",
     "collapsed": false,
     "input": [
      "datapath = \"/home/rsouza/Dropbox/Renato/ModMinDados/Git/datasets/\"\n",
      "outputs = \"/home/rsouza/Dropbox/Renato/ModMinDados/outputs/\"\n",
      "dataset1 = \"p01_Influences.csv\""
     ],
     "language": "python",
     "metadata": {},
     "outputs": [],
     "prompt_number": 2
    },
    {
     "cell_type": "markdown",
     "metadata": {},
     "source": [
      "Loading the datasets\n",
      "\n",
      "(We are  not using loadtxt and genfromtxt because of the UTF-8 encoding in the source data)"
     ]
    },
    {
     "cell_type": "code",
     "collapsed": false,
     "input": [
      "s = codecs.open(datapath+dataset1, encoding=\"utf-8\").readlines()\n",
      "lines = [line.strip() for line in s]\n",
      "lines2 = []\n",
      "for line in lines:\n",
      "    line = line.replace('\",','\";')\n",
      "    line = line.replace('\"','').strip()\n",
      "    lines2.append(line)\n",
      "print(lines2[:10])\n",
      "x = np.array([(line.split(';')[0],line.split(';')[1]) for line in lines2])\n",
      "x[:10]"
     ],
     "language": "python",
     "metadata": {},
     "outputs": [
      {
       "ename": "IOError",
       "evalue": "[Errno 2] No such file or directory: '/home/rsouza/Dropbox/Renato/ModMinDados/Git/datasetsp01_Influences.csv'",
       "output_type": "pyerr",
       "traceback": [
        "\u001b[1;31m---------------------------------------------------------------------------\u001b[0m\n\u001b[1;31mIOError\u001b[0m                                   Traceback (most recent call last)",
        "\u001b[1;32m<ipython-input-3-b26677132cfe>\u001b[0m in \u001b[0;36m<module>\u001b[1;34m()\u001b[0m\n\u001b[1;32m----> 1\u001b[1;33m \u001b[0ms\u001b[0m \u001b[1;33m=\u001b[0m \u001b[0mcodecs\u001b[0m\u001b[1;33m.\u001b[0m\u001b[0mopen\u001b[0m\u001b[1;33m(\u001b[0m\u001b[0mdatapath\u001b[0m\u001b[1;33m+\u001b[0m\u001b[0mdataset1\u001b[0m\u001b[1;33m,\u001b[0m \u001b[0mencoding\u001b[0m\u001b[1;33m=\u001b[0m\u001b[1;34m\"utf-8\"\u001b[0m\u001b[1;33m)\u001b[0m\u001b[1;33m.\u001b[0m\u001b[0mreadlines\u001b[0m\u001b[1;33m(\u001b[0m\u001b[1;33m)\u001b[0m\u001b[1;33m\u001b[0m\u001b[0m\n\u001b[0m\u001b[0;32m      2\u001b[0m \u001b[0mlines\u001b[0m \u001b[1;33m=\u001b[0m \u001b[1;33m[\u001b[0m\u001b[0mline\u001b[0m\u001b[1;33m.\u001b[0m\u001b[0mstrip\u001b[0m\u001b[1;33m(\u001b[0m\u001b[1;33m)\u001b[0m \u001b[1;32mfor\u001b[0m \u001b[0mline\u001b[0m \u001b[1;32min\u001b[0m \u001b[0ms\u001b[0m\u001b[1;33m]\u001b[0m\u001b[1;33m\u001b[0m\u001b[0m\n\u001b[0;32m      3\u001b[0m \u001b[0mlines2\u001b[0m \u001b[1;33m=\u001b[0m \u001b[1;33m[\u001b[0m\u001b[1;33m]\u001b[0m\u001b[1;33m\u001b[0m\u001b[0m\n\u001b[0;32m      4\u001b[0m \u001b[1;32mfor\u001b[0m \u001b[0mline\u001b[0m \u001b[1;32min\u001b[0m \u001b[0mlines\u001b[0m\u001b[1;33m:\u001b[0m\u001b[1;33m\u001b[0m\u001b[0m\n\u001b[0;32m      5\u001b[0m     \u001b[0mline\u001b[0m \u001b[1;33m=\u001b[0m \u001b[0mline\u001b[0m\u001b[1;33m.\u001b[0m\u001b[0mreplace\u001b[0m\u001b[1;33m(\u001b[0m\u001b[1;34m'\",'\u001b[0m\u001b[1;33m,\u001b[0m\u001b[1;34m'\";'\u001b[0m\u001b[1;33m)\u001b[0m\u001b[1;33m\u001b[0m\u001b[0m\n",
        "\u001b[1;32m/usr/lib/python2.7/codecs.pyc\u001b[0m in \u001b[0;36mopen\u001b[1;34m(filename, mode, encoding, errors, buffering)\u001b[0m\n\u001b[0;32m    879\u001b[0m             \u001b[1;31m# Force opening of the file in binary mode\u001b[0m\u001b[1;33m\u001b[0m\u001b[1;33m\u001b[0m\u001b[0m\n\u001b[0;32m    880\u001b[0m             \u001b[0mmode\u001b[0m \u001b[1;33m=\u001b[0m \u001b[0mmode\u001b[0m \u001b[1;33m+\u001b[0m \u001b[1;34m'b'\u001b[0m\u001b[1;33m\u001b[0m\u001b[0m\n\u001b[1;32m--> 881\u001b[1;33m     \u001b[0mfile\u001b[0m \u001b[1;33m=\u001b[0m \u001b[0m__builtin__\u001b[0m\u001b[1;33m.\u001b[0m\u001b[0mopen\u001b[0m\u001b[1;33m(\u001b[0m\u001b[0mfilename\u001b[0m\u001b[1;33m,\u001b[0m \u001b[0mmode\u001b[0m\u001b[1;33m,\u001b[0m \u001b[0mbuffering\u001b[0m\u001b[1;33m)\u001b[0m\u001b[1;33m\u001b[0m\u001b[0m\n\u001b[0m\u001b[0;32m    882\u001b[0m     \u001b[1;32mif\u001b[0m \u001b[0mencoding\u001b[0m \u001b[1;32mis\u001b[0m \u001b[0mNone\u001b[0m\u001b[1;33m:\u001b[0m\u001b[1;33m\u001b[0m\u001b[0m\n\u001b[0;32m    883\u001b[0m         \u001b[1;32mreturn\u001b[0m \u001b[0mfile\u001b[0m\u001b[1;33m\u001b[0m\u001b[0m\n",
        "\u001b[1;31mIOError\u001b[0m: [Errno 2] No such file or directory: '/home/rsouza/Dropbox/Renato/ModMinDados/Git/datasetsp01_Influences.csv'"
       ]
      }
     ],
     "prompt_number": 3
    },
    {
     "cell_type": "markdown",
     "metadata": {},
     "source": [
      "Examining the shape of the array:"
     ]
    },
    {
     "cell_type": "code",
     "collapsed": false,
     "input": [
      "x.shape"
     ],
     "language": "python",
     "metadata": {},
     "outputs": []
    },
    {
     "cell_type": "markdown",
     "metadata": {},
     "source": [
      "Creating an ordered dict with the frequencies, using two special collections types:\n",
      "\n",
      "http://docs.python.org/2/library/collections.html#collections.Counter\n",
      "\n",
      "http://docs.python.org/2/library/collections.html#collections.OrderedDict"
     ]
    },
    {
     "cell_type": "code",
     "collapsed": false,
     "input": [
      "y = Counter(x[:,0])\n",
      "z = Counter(x[:,1])\n",
      "y2 = OrderedDict(sorted(y.items(), key=lambda k: k[1], reverse=True))\n",
      "z2 = OrderedDict(sorted(z.items(), key=lambda k: k[1], reverse=True))\n",
      "#y2"
     ],
     "language": "python",
     "metadata": {},
     "outputs": []
    },
    {
     "cell_type": "code",
     "collapsed": false,
     "input": [
      "eixo_x = np.arange(len(y2))\n",
      "y2max = max(y2.values()) + 1\n",
      "\n",
      "plt.figure(figsize=(30,15), dpi=100)\n",
      "\n",
      "plt.subplot(211)\n",
      "plt.bar(eixo_x, y2.values(), align='center', width=0.35)\n",
      "plt.xticks(eixo_x, y2.keys())\n",
      "plt.ylim(0, y2max)\n",
      "plt.xticks(rotation=70)\n",
      "plt.ylabel('# of influences given')\n",
      "plt.title('Most influents')\n",
      "\n",
      "eixo_x = np.arange(len(z2))\n",
      "z2max = max(z2.values()) + 1\n",
      "\n",
      "plt.subplot(212)\n",
      "plt.bar(eixo_x, z2.values(), align='center', width=0.35)\n",
      "plt.xticks(eixo_x, z2.keys())\n",
      "plt.ylim(0, z2max)\n",
      "plt.xticks(rotation=70)\n",
      "plt.ylabel('# of influences received')\n",
      "plt.title('Most influenced')\n",
      "\n",
      "plt.tight_layout()\n",
      "plt.show()"
     ],
     "language": "python",
     "metadata": {},
     "outputs": []
    },
    {
     "cell_type": "markdown",
     "metadata": {},
     "source": [
      "Generating a graph with NetworkX. Note that the graph is too large for a full visualization\n",
      "That's why I have commented some lines and replaced for a limited version"
     ]
    },
    {
     "cell_type": "code",
     "collapsed": false,
     "input": [
      "G=nx.DiGraph()\n",
      "#G.add_nodes_from(x[1:,0])\n",
      "#G.add_nodes_from(x[1:,1])\n",
      "limit = 30\n",
      "G.add_nodes_from(x[1:limit,0])\n",
      "G.add_nodes_from(x[1:limit,1])\n",
      "#for i in range(1,len(x)):\n",
      "for i in range(1,limit):\n",
      "    G.add_edge(x[i,0],x[i,1])\n",
      "\n",
      "print('Number of nodes is: ', G.number_of_nodes())\n",
      "print('Number of edges is: ',G.number_of_edges())\n",
      "\n",
      "print(G.edges())"
     ],
     "language": "python",
     "metadata": {},
     "outputs": []
    },
    {
     "cell_type": "code",
     "collapsed": false,
     "input": [
      "nx.draw(G)"
     ],
     "language": "python",
     "metadata": {},
     "outputs": []
    }
   ],
   "metadata": {}
  }
 ]
}