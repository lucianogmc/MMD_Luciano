{
 "metadata": {
  "name": "Aula02_Graph1v.ipynb"
 },
 "nbformat": 3,
 "nbformat_minor": 0,
 "worksheets": [
  {
   "cells": [
    {
     "cell_type": "markdown",
     "metadata": {},
     "source": [
      "Mestrado em Modelagem Matematica da Informacao\n",
      "Master Program - Mathematical Modeling of Information\n",
      "\n",
      "Disciplina: Modelagem e Mineracao de Dados\n",
      "Course: Data Mining and Modeling\n",
      "\n",
      "Professor: Renato Rocha Souza\n",
      "Topic: Simple Univariate Graphs (class #2)\n",
      "\n",
      "Information on the Python Packages used:\n",
      "\n",
      "http://docs.scipy.org/doc/\n",
      "\n",
      "http://numpy.scipy.org/\n",
      "\n",
      "http://scipy.org/\n",
      "\n",
      "http://matplotlib.sourceforge.net/"
     ]
    },
    {
     "cell_type": "code",
     "collapsed": false,
     "input": [
      "import numpy as np\n",
      "from numpy import loadtxt, genfromtxt, array, arange\n",
      "from matplotlib.pyplot import plot, boxplot, show, title, legend, figure\n",
      "from scipy.stats import describe, cumfreq\n",
      "from scipy.stats.kde import gaussian_kde\n",
      "from pylab import hist"
     ],
     "language": "python",
     "metadata": {},
     "outputs": [],
     "prompt_number": 8
    },
    {
     "cell_type": "markdown",
     "metadata": {},
     "source": [
      "Specifying the path to the files:"
     ]
    },
    {
     "cell_type": "code",
     "collapsed": false,
     "input": [
      "datapath = \"/Users/Luciano/Dropbox/GitHubRepos/MMD/datasets/\"\n",
      "\n",
      "dataset1 = \"ch02_presidents\"\n",
      "dataset2 = \"ch02_serverdata\"\n",
      "dataset3 = \"ch02_glass.data\""
     ],
     "language": "python",
     "metadata": {},
     "outputs": [],
     "prompt_number": 9
    },
    {
     "cell_type": "markdown",
     "metadata": {},
     "source": [
      "Loading the datasets\n",
      "\n",
      "http://docs.scipy.org/doc/numpy/reference/generated/numpy.genfromtxt.html\n",
      "\n",
      "http://docs.scipy.org/doc/numpy/reference/generated/numpy.loadtxt.html"
     ]
    },
    {
     "cell_type": "code",
     "collapsed": false,
     "input": [
      "x = genfromtxt(datapath+dataset1, usecols=(2))\n",
      "x_names = genfromtxt(datapath+dataset1, usecols=(1), dtype=(str))\n",
      "y = loadtxt(datapath+dataset2)\n",
      "z = loadtxt(datapath+dataset3, usecols=(1,2,10), delimiter=',')"
     ],
     "language": "python",
     "metadata": {},
     "outputs": [],
     "prompt_number": 10
    },
    {
     "cell_type": "code",
     "collapsed": false,
     "input": [
      "x"
     ],
     "language": "python",
     "metadata": {},
     "outputs": [
      {
       "metadata": {},
       "output_type": "pyout",
       "prompt_number": 11,
       "text": [
        "array([  94.,   48.,   96.,   96.,   96.,   48.,   96.,   48.,    1.,\n",
        "         47.,   48.,   16.,   32.,   48.,   48.,   49.,   47.,   96.,\n",
        "         48.,    7.,   41.,   48.,   48.,   48.,   54.,   90.,   48.,\n",
        "         96.,   29.,   67.,   48.,  146.,   92.,   96.,   34.,   62.,\n",
        "         67.,   29.,   48.,   96.,   48.,   96.,   96.])"
       ]
      }
     ],
     "prompt_number": 11
    },
    {
     "cell_type": "code",
     "collapsed": false,
     "input": [
      "x_names"
     ],
     "language": "python",
     "metadata": {},
     "outputs": [
      {
       "metadata": {},
       "output_type": "pyout",
       "prompt_number": 12,
       "text": [
        "array(['Washington', 'Adams', 'Jefferson', 'Madison', 'Monroe', 'Adams',\n",
        "       'Jackson', 'Van_Buren', 'Harrison', 'Tyler', 'Polk', 'Taylor',\n",
        "       'Filmore', 'Pierce', 'Buchanan', 'Lincoln', 'Johnson', 'Grant',\n",
        "       'Hayes', 'Garfield', 'Arthur', 'Cleveland', 'Harrison', 'Cleveland',\n",
        "       'McKinley', 'Roosevelt', 'Taft', 'Wilson', 'Harding', 'Coolidge',\n",
        "       'Hoover', 'Roosevelt', 'Truman', 'Eisenhower', 'Kennedy', 'Johnson',\n",
        "       'Nixon', 'Ford', 'Carter', 'Reagan', 'Bush', 'Clinton', 'Bush'], \n",
        "      dtype='|S10')"
       ]
      }
     ],
     "prompt_number": 12
    },
    {
     "cell_type": "markdown",
     "metadata": {},
     "source": [
      "Gathering some information on the datasets:\n",
      "\n",
      "http://docs.scipy.org/doc/scipy/reference/generated/scipy.stats.describe.html"
     ]
    },
    {
     "cell_type": "code",
     "collapsed": false,
     "input": [
      "print(describe(y))\n",
      "print(describe(z))"
     ],
     "language": "python",
     "metadata": {},
     "outputs": [
      {
       "output_type": "stream",
       "stream": "stdout",
       "text": [
        "(1000, (44.5, 2985.29), 849.18856999999991, 456853.18439645146, 1.3048517528837622, 1.0261430787200725)\n",
        "(214, (array([  1.51115,  10.73   ,   1.     ]), array([  1.53393,  17.38   ,   7.     ])), array([  1.51836542,  13.40785047,   2.78037383]), array([  9.22254137e-06,   6.66841367e-01,   4.42571629e+00]), array([ 1.61401505,  0.45099172,  1.10708511]), array([ 4.78935423,  2.95347658, -0.30093706]))\n"
       ]
      }
     ],
     "prompt_number": 13
    },
    {
     "cell_type": "code",
     "collapsed": false,
     "input": [
      "y"
     ],
     "language": "python",
     "metadata": {},
     "outputs": [
      {
       "metadata": {},
       "output_type": "pyout",
       "prompt_number": 14,
       "text": [
        "array([  452.42,   318.58,   144.82,   129.13,  1216.45,   991.56,\n",
        "        1476.69,   662.73,  1302.85,  1278.55,   627.65,  1030.78,\n",
        "         215.23,    44.5 ,   133.41,   619.96,   970.97,  1062.71,\n",
        "          87.83,  1068.87,   157.42,   492.97,   381.01,  1443.27,\n",
        "         210.66,   682.67,   633.17,  1236.97,  1123.57,   253.38,\n",
        "         728.62,   653.73,   128.03,   782.99,   287.34,   222.74,\n",
        "         419.38,   227.53,   999.1 ,   548.75,   126.83,   930.17,\n",
        "        1399.19,   820.88,  2166.62,   386.35,  1915.44,  1951.81,\n",
        "         369.6 ,   651.13,  1041.65,   848.52,   812.15,   131.27,\n",
        "        2912.47,  1099.05,   536.9 ,   158.68,  2094.56,   581.96,\n",
        "         723.73,   598.58,  1773.79,   218.55,   594.83,  2103.11,\n",
        "         280.36,   570.67,   493.57,   293.22,   586.25,   353.87,\n",
        "         255.48,  1367.96,   721.66,   360.59,   673.46,  1288.49,\n",
        "         752.39,  2527.11,  1608.05,   225.63,   454.82,   600.1 ,\n",
        "         252.13,   576.2 ,   158.01,  1576.44,   687.3 ,  1035.11,\n",
        "         465.18,   246.86,   257.55,  1300.21,   869.9 ,  2727.03,\n",
        "         313.71,   252.88,  1640.32,  1913.25,  2000.17,   562.12,\n",
        "        1523.73,   231.2 ,  1275.59,   546.98,   353.4 ,   955.06,\n",
        "         719.15,  1425.71,   536.49,   765.95,   649.56,   291.63,\n",
        "         857.83,   721.24,   873.04,   781.55,   380.93,  1368.84,\n",
        "         745.09,   756.59,  1699.47,   919.9 ,   178.03,   859.59,\n",
        "         551.36,   236.87,   852.59,   587.37,  1993.22,   354.37,\n",
        "         688.57,   195.55,   702.82,   705.11,   921.86,   421.14,\n",
        "         944.19,   130.57,  2799.98,   312.23,   449.45,   140.18,\n",
        "         254.7 ,   508.51,   205.4 ,  2362.88,  1741.61,   311.69,\n",
        "         561.54,  1603.72,   383.11,  2488.72,  2722.94,  1962.97,\n",
        "         250.3 ,   176.55,   744.73,   402.8 ,   724.13,  1638.88,\n",
        "         794.95,  2213.75,   918.05,  1786.72,   284.57,   595.27,\n",
        "         512.54,   297.53,   617.06,   310.8 ,   418.1 ,  1206.19,\n",
        "         493.64,   818.  ,  1136.76,  1115.79,   529.77,   180.14,\n",
        "        1063.  ,   304.78,  1463.55,   907.76,  1301.04,   492.2 ,\n",
        "         286.37,   697.97,  2368.64,   504.74,   717.03,  2499.45,\n",
        "         195.9 ,   354.85,  2139.92,   418.  ,   322.94,  2459.05,\n",
        "         233.99,   457.74,   193.66,   752.21,  1476.84,  2106.03,\n",
        "         233.46,  1899.17,   980.12,  1873.61,   899.63,  1531.18,\n",
        "         314.45,   479.19,   610.71,   579.6 ,   247.08,  1645.14,\n",
        "        1423.59,  1412.39,   207.25,  1101.83,   513.  ,   458.63,\n",
        "         242.26,   563.67,   218.63,  2340.79,  2953.15,   778.92,\n",
        "        1906.94,   759.89,   542.88,   661.3 ,  1632.94,  1123.42,\n",
        "         111.83,   287.99,   590.73,   994.96,  1204.58,   597.36,\n",
        "         404.92,   352.6 ,   185.31,   926.88,  1001.26,  1243.45,\n",
        "        2790.89,   215.82,   589.09,   138.78,   729.17,   246.78,\n",
        "        1326.4 ,   730.89,   560.96,  2000.48,  1830.32,  1410.95,\n",
        "         346.26,   566.51,   101.4 ,   295.59,   872.86,   294.74,\n",
        "         415.8 ,  2220.32,   636.29,  1668.21,   753.74,   706.75,\n",
        "        1119.05,  1549.08,   592.78,  2403.32,   732.85,  1047.  ,\n",
        "         701.49,   508.81,   570.88,   939.32,   237.01,   308.16,\n",
        "         497.31,   567.55,   487.54,   197.96,   786.83,   625.44,\n",
        "         157.11,   929.1 ,   632.8 ,   321.09,   866.24,   846.95,\n",
        "         301.36,  1914.  ,   549.38,   295.28,   374.92,  1868.64,\n",
        "         540.91,  1130.45,   888.82,    89.55,   271.13,   330.07,\n",
        "         320.32,  1202.39,   502.77,  1537.44,   485.01,   852.86,\n",
        "        1568.39,   856.32,   129.7 ,   203.95,   298.33,   407.6 ,\n",
        "         695.6 ,  1955.43,   690.74,   795.8 ,  1442.01,   299.73,\n",
        "         482.3 ,  1582.73,   953.6 ,   601.21,   231.81,   584.09,\n",
        "        1008.54,   648.55,  1078.42,   952.16,   227.62,  2819.79,\n",
        "         453.6 ,  1824.68,   368.62,  2181.53,   106.55,  1531.04,\n",
        "        2695.54,  1048.08,  1076.04,   118.56,   846.4 ,   424.04,\n",
        "        1070.19,  2580.9 ,   963.94,   893.7 ,   428.1 ,  1969.8 ,\n",
        "         668.34,   397.36,   342.86,   266.19,   802.67,   476.94,\n",
        "         887.14,   259.6 ,   612.19,  1125.39,   258.48,  1446.45,\n",
        "         233.48,   295.68,  2883.59,  2382.43,  1417.73,   180.45,\n",
        "         599.98,   182.84,   555.72,  1919.65,   251.77,   404.68,\n",
        "        2242.3 ,  1050.19,   543.09,   290.14,   356.94,   330.33,\n",
        "         446.02,  1428.4 ,   621.57,  2978.8 ,   244.67,  1519.49,\n",
        "         448.32,   320.96,  2072.08,  1147.67,   764.73,   974.92,\n",
        "         548.64,   140.41,   319.58,   509.72,   235.44,   437.55,\n",
        "         514.06,  1017.04,   562.52,   699.2 ,  2634.14,   584.5 ,\n",
        "        1289.83,   515.1 ,   578.34,   311.89,   478.91,  1035.26,\n",
        "         945.77,   279.34,   587.72,   173.33,   560.22,  1036.75,\n",
        "         507.69,   500.06,  1172.79,  1532.79,   298.41,   934.15,\n",
        "        1016.48,   278.84,   383.97,   324.63,   443.89,   367.69,\n",
        "         309.46,  1484.82,  2886.28,   328.59,   573.07,  1104.36,\n",
        "        1626.7 ,   421.75,   425.88,   499.  ,   322.14,   465.4 ,\n",
        "        1520.34,   514.83,  1905.97,   210.38,  1001.14,   193.23,\n",
        "        1038.35,   117.52,   243.04,   191.95,   505.38,  2095.92,\n",
        "        1170.84,   332.22,   275.7 ,   116.57,  1536.23,   615.08,\n",
        "         588.73,  1848.37,   284.61,   166.25,   473.5 ,  1085.25,\n",
        "        1471.09,   261.12,   967.07,  1520.33,   402.55,  1110.92,\n",
        "         969.92,   675.1 ,  1368.81,   445.19,   440.2 ,   681.35,\n",
        "         266.51,   314.02,   239.39,   547.87,   175.98,   968.01,\n",
        "         842.07,  1142.94,   509.84,   654.02,   951.39,  1518.98,\n",
        "        2361.18,   254.79,   355.85,   376.33,  2579.84,   206.77,\n",
        "        1658.99,   442.31,   501.36,   316.3 ,  1791.23,   275.26,\n",
        "         665.56,  2765.15,   454.17,   735.7 ,   490.2 ,  2460.07,\n",
        "         497.94,   436.51,   321.4 ,  1152.59,  1307.56,  1236.72,\n",
        "         303.56,   167.84,  2544.77,   137.83,   620.17,   491.73,\n",
        "         375.9 ,   851.09,   172.85,   705.16,  1886.75,   523.24,\n",
        "        2740.01,   609.29,   984.01,  1404.  ,   364.06,  1362.04,\n",
        "         365.97,   641.52,   831.98,  1381.13,  1982.77,  1664.13,\n",
        "         172.69,  1639.49,  1466.51,   525.47,   202.93,   752.84,\n",
        "        1620.73,  1462.32,   310.15,   383.68,   434.36,   681.8 ,\n",
        "        1945.49,   796.88,  2422.32,   707.84,   519.89,  1161.89,\n",
        "        2485.7 ,   786.14,   349.85,  2810.37,   881.1 ,   739.81,\n",
        "         833.32,   504.45,   294.84,  1816.07,   278.1 ,  1404.19,\n",
        "         581.06,   572.39,  1222.78,   187.01,   126.86,   360.45,\n",
        "        2700.66,  2309.45,   673.45,   192.3 ,   508.73,   554.19,\n",
        "         250.43,   709.99,   681.65,   238.82,  2577.9 ,  1671.02,\n",
        "         819.06,   885.29,   796.06,   463.5 ,   356.31,  2985.29,\n",
        "        1122.76,   758.59,   546.15,  2487.47,   743.16,   388.64,\n",
        "         328.63,   599.83,  1999.42,   431.46,   287.11,   304.66,\n",
        "         145.86,  1225.29,   551.22,   181.75,   599.3 ,   370.15,\n",
        "        1753.12,  1253.9 ,  1573.78,   589.18,  2684.51,   403.39,\n",
        "         893.75,   196.79,   374.11,   191.75,   700.33,   642.49,\n",
        "         178.01,  1198.86,   120.22,   275.31,   226.73,   187.38,\n",
        "         787.73,   384.09,   254.16,   146.16,   263.82,   177.31,\n",
        "        2700.75,  2805.43,   314.23,   295.05,  1910.42,   586.08,\n",
        "         773.75,  1213.21,   954.53,   945.34,   666.57,   993.87,\n",
        "         390.41,   339.43,   172.87,   508.28,   860.82,  1127.35,\n",
        "         851.6 ,   635.59,  2229.81,   473.6 ,  2125.14,   594.47,\n",
        "         217.96,   563.31,   388.19,   633.33,   642.24,   578.44,\n",
        "        1843.7 ,   797.08,  1981.07,  1017.68,   255.56,   596.26,\n",
        "        2543.31,   888.99,   189.26,   177.29,   188.61,   595.82,\n",
        "         234.45,  2604.3 ,   221.98,    97.14,   733.02,   223.66,\n",
        "         637.13,   268.6 ,  1610.89,   570.49,   356.94,   986.42,\n",
        "         689.03,   604.74,   114.48,   997.62,   238.56,   334.23,\n",
        "         590.02,   818.55,   752.63,   329.65,  1003.93,  1118.26,\n",
        "         553.26,   354.91,   449.05,  1043.57,   411.84,   747.53,\n",
        "         196.88,   407.41,   708.68,   131.41,   296.01,  2153.05,\n",
        "        1794.05,   161.68,  1731.63,   742.61,   700.82,   673.42,\n",
        "         395.13,   695.87,   490.4 ,   872.89,  2050.76,   272.  ,\n",
        "         730.03,  2662.09,   482.57,   813.08,   350.11,   721.91,\n",
        "         243.49,   573.71,   334.75,   319.33,  1229.64,   649.71,\n",
        "         948.23,   545.47,   632.22,   792.31,  1172.22,  1636.28,\n",
        "         159.78,   701.26,  1599.86,   733.3 ,  1706.72,   242.26,\n",
        "        1350.7 ,   446.82,  1280.96,    98.85,   228.52,  2812.07,\n",
        "         144.48,  2891.51,   410.77,   992.65,   161.45,  1731.56,\n",
        "         339.12,   357.47,   681.23,   382.98,   348.43,  1178.58,\n",
        "          70.71,   359.66,   953.11,   347.6 ,  1880.19,   652.58,\n",
        "         319.39,  1527.33,   833.49,   303.08,  1651.45,   422.59,\n",
        "         651.65,   126.06,   515.03,   510.82,   244.56,   774.92,\n",
        "         741.55,   516.61,   249.95,   215.27,  1235.77,  1300.58,\n",
        "        2178.94,   901.72,   187.27,   327.53,  2587.86,   140.19,\n",
        "        2210.26,   367.48,  1266.54,   149.05,  2657.27,  1506.88,\n",
        "         841.43,  2672.95,   350.17,   199.  ,   964.75,  2609.59,\n",
        "        1360.93,  1124.55,   382.69,   352.43,   656.26,   133.78,\n",
        "         219.79,  2533.86,   203.64,   918.95,   369.13,  1198.45,\n",
        "        1044.67,   344.17,   344.78,  1650.13,   411.78,   245.93,\n",
        "        1668.07,   402.27,   478.19,  1124.92,   810.45,   360.86,\n",
        "         137.53,   271.52,   240.21,  1205.5 ,   161.5 ,  1408.34,\n",
        "        1635.89,  2868.85,   180.19,   234.5 ,   815.47,   203.97,\n",
        "        1470.58,   627.41,   620.15,   868.03,  1305.53,   324.28,\n",
        "        1778.33,   386.25,   546.32,  1276.74,  1374.38,  1877.33,\n",
        "         450.38,   252.13,   519.05,   396.01,   822.1 ,  1245.2 ,\n",
        "         150.24,   568.88,   386.  ,   279.18,   166.38,   335.64,\n",
        "         109.98,   766.56,   981.24,  2982.88,   596.68,   429.81,\n",
        "         348.72,   154.97,  1565.83,  1000.03,   436.45,   223.74,\n",
        "        1337.74,   292.29,  2180.2 ,   629.66,   923.99,   188.04,\n",
        "         801.62,   619.31,  1587.95,   492.29,   282.68,   792.57,\n",
        "         282.11,   808.97,   440.08,   835.89,   707.31,   452.05,\n",
        "        1215.23,  1161.83,   846.5 ,  1033.82,  1954.46,   756.9 ,\n",
        "         849.46,  1017.7 ,  2398.74,   414.03,   459.36,  1380.91,\n",
        "         436.4 ,   487.45,  1242.81,   396.78,  1696.97,   558.14,\n",
        "         190.12,   270.22,  2828.59,   818.36,   981.96,  2197.24,\n",
        "         676.96,  2768.27,  1828.18,  2934.37,   952.57,   420.49,\n",
        "        1113.51,   760.48,  1992.73,  1356.62,   390.81,   102.29,\n",
        "         484.25,   475.1 ,  1494.4 ,   134.26,  1209.96,   536.81,\n",
        "         276.63,   326.74,   891.85,  2259.26,   209.75,  1183.38,\n",
        "         237.95,   645.2 ,   264.75,  1678.86,   352.15,   849.05,\n",
        "         388.43,   298.91,   154.56,   708.19,  2322.43,   153.2 ,\n",
        "        1671.41,   717.86,   865.35,  1602.7 ,  2774.16,   348.97,\n",
        "         436.5 ,   475.17,  2669.28,  1268.3 ,   386.83,  1106.98,\n",
        "         173.87,  1487.97,   645.5 ,   150.26,   642.66,   102.6 ,\n",
        "        1267.72,   859.99,  1982.29,   349.5 ,   486.33,  2602.99,\n",
        "         646.97,   991.07,   646.63,  1698.69,   283.64,   397.24,\n",
        "         996.04,   174.33,   758.44,   544.4 ,  1075.02,   558.44,\n",
        "         256.79,   735.01,   378.76,   366.8 ])"
       ]
      }
     ],
     "prompt_number": 14
    },
    {
     "cell_type": "code",
     "collapsed": false,
     "input": [
      "describe(y)"
     ],
     "language": "python",
     "metadata": {},
     "outputs": [
      {
       "metadata": {},
       "output_type": "pyout",
       "prompt_number": 15,
       "text": [
        "(1000,\n",
        " (44.5, 2985.29),\n",
        " 849.18856999999991,\n",
        " 456853.18439645146,\n",
        " 1.3048517528837622,\n",
        " 1.0261430787200725)"
       ]
      }
     ],
     "prompt_number": 15
    },
    {
     "cell_type": "code",
     "collapsed": false,
     "input": [
      "z"
     ],
     "language": "python",
     "metadata": {},
     "outputs": [
      {
       "metadata": {},
       "output_type": "pyout",
       "prompt_number": 16,
       "text": [
        "array([[  1.52101,  13.64   ,   1.     ],\n",
        "       [  1.51761,  13.89   ,   1.     ],\n",
        "       [  1.51618,  13.53   ,   1.     ],\n",
        "       [  1.51766,  13.21   ,   1.     ],\n",
        "       [  1.51742,  13.27   ,   1.     ],\n",
        "       [  1.51596,  12.79   ,   1.     ],\n",
        "       [  1.51743,  13.3    ,   1.     ],\n",
        "       [  1.51756,  13.15   ,   1.     ],\n",
        "       [  1.51918,  14.04   ,   1.     ],\n",
        "       [  1.51755,  13.     ,   1.     ],\n",
        "       [  1.51571,  12.72   ,   1.     ],\n",
        "       [  1.51763,  12.8    ,   1.     ],\n",
        "       [  1.51589,  12.88   ,   1.     ],\n",
        "       [  1.51748,  12.86   ,   1.     ],\n",
        "       [  1.51763,  12.61   ,   1.     ],\n",
        "       [  1.51761,  12.81   ,   1.     ],\n",
        "       [  1.51784,  12.68   ,   1.     ],\n",
        "       [  1.52196,  14.36   ,   1.     ],\n",
        "       [  1.51911,  13.9    ,   1.     ],\n",
        "       [  1.51735,  13.02   ,   1.     ],\n",
        "       [  1.5175 ,  12.82   ,   1.     ],\n",
        "       [  1.51966,  14.77   ,   1.     ],\n",
        "       [  1.51736,  12.78   ,   1.     ],\n",
        "       [  1.51751,  12.81   ,   1.     ],\n",
        "       [  1.5172 ,  13.38   ,   1.     ],\n",
        "       [  1.51764,  12.98   ,   1.     ],\n",
        "       [  1.51793,  13.21   ,   1.     ],\n",
        "       [  1.51721,  12.87   ,   1.     ],\n",
        "       [  1.51768,  12.56   ,   1.     ],\n",
        "       [  1.51784,  13.08   ,   1.     ],\n",
        "       [  1.51768,  12.65   ,   1.     ],\n",
        "       [  1.51747,  12.84   ,   1.     ],\n",
        "       [  1.51775,  12.85   ,   1.     ],\n",
        "       [  1.51753,  12.57   ,   1.     ],\n",
        "       [  1.51783,  12.69   ,   1.     ],\n",
        "       [  1.51567,  13.29   ,   1.     ],\n",
        "       [  1.51909,  13.89   ,   1.     ],\n",
        "       [  1.51797,  12.74   ,   1.     ],\n",
        "       [  1.52213,  14.21   ,   1.     ],\n",
        "       [  1.52213,  14.21   ,   1.     ],\n",
        "       [  1.51793,  12.79   ,   1.     ],\n",
        "       [  1.51755,  12.71   ,   1.     ],\n",
        "       [  1.51779,  13.21   ,   1.     ],\n",
        "       [  1.5221 ,  13.73   ,   1.     ],\n",
        "       [  1.51786,  12.73   ,   1.     ],\n",
        "       [  1.519  ,  13.49   ,   1.     ],\n",
        "       [  1.51869,  13.19   ,   1.     ],\n",
        "       [  1.52667,  13.99   ,   1.     ],\n",
        "       [  1.52223,  13.21   ,   1.     ],\n",
        "       [  1.51898,  13.58   ,   1.     ],\n",
        "       [  1.5232 ,  13.72   ,   1.     ],\n",
        "       [  1.51926,  13.2    ,   1.     ],\n",
        "       [  1.51808,  13.43   ,   1.     ],\n",
        "       [  1.51837,  13.14   ,   1.     ],\n",
        "       [  1.51778,  13.21   ,   1.     ],\n",
        "       [  1.51769,  12.45   ,   1.     ],\n",
        "       [  1.51215,  12.99   ,   1.     ],\n",
        "       [  1.51824,  12.87   ,   1.     ],\n",
        "       [  1.51754,  13.48   ,   1.     ],\n",
        "       [  1.51754,  13.39   ,   1.     ],\n",
        "       [  1.51905,  13.6    ,   1.     ],\n",
        "       [  1.51977,  13.81   ,   1.     ],\n",
        "       [  1.52172,  13.51   ,   1.     ],\n",
        "       [  1.52227,  14.17   ,   1.     ],\n",
        "       [  1.52172,  13.48   ,   1.     ],\n",
        "       [  1.52099,  13.69   ,   1.     ],\n",
        "       [  1.52152,  13.05   ,   1.     ],\n",
        "       [  1.52152,  13.05   ,   1.     ],\n",
        "       [  1.52152,  13.12   ,   1.     ],\n",
        "       [  1.523  ,  13.31   ,   1.     ],\n",
        "       [  1.51574,  14.86   ,   2.     ],\n",
        "       [  1.51848,  13.64   ,   2.     ],\n",
        "       [  1.51593,  13.09   ,   2.     ],\n",
        "       [  1.51631,  13.34   ,   2.     ],\n",
        "       [  1.51596,  13.02   ,   2.     ],\n",
        "       [  1.5159 ,  13.02   ,   2.     ],\n",
        "       [  1.51645,  13.44   ,   2.     ],\n",
        "       [  1.51627,  13.     ,   2.     ],\n",
        "       [  1.51613,  13.92   ,   2.     ],\n",
        "       [  1.5159 ,  12.82   ,   2.     ],\n",
        "       [  1.51592,  12.86   ,   2.     ],\n",
        "       [  1.51593,  13.25   ,   2.     ],\n",
        "       [  1.51646,  13.41   ,   2.     ],\n",
        "       [  1.51594,  13.09   ,   2.     ],\n",
        "       [  1.51409,  14.25   ,   2.     ],\n",
        "       [  1.51625,  13.36   ,   2.     ],\n",
        "       [  1.51569,  13.24   ,   2.     ],\n",
        "       [  1.51645,  13.4    ,   2.     ],\n",
        "       [  1.51618,  13.01   ,   2.     ],\n",
        "       [  1.5164 ,  12.55   ,   2.     ],\n",
        "       [  1.51841,  12.93   ,   2.     ],\n",
        "       [  1.51605,  12.9    ,   2.     ],\n",
        "       [  1.51588,  13.12   ,   2.     ],\n",
        "       [  1.5159 ,  13.24   ,   2.     ],\n",
        "       [  1.51629,  12.71   ,   2.     ],\n",
        "       [  1.5186 ,  13.36   ,   2.     ],\n",
        "       [  1.51841,  13.02   ,   2.     ],\n",
        "       [  1.51743,  12.2    ,   2.     ],\n",
        "       [  1.51689,  12.67   ,   2.     ],\n",
        "       [  1.51811,  12.96   ,   2.     ],\n",
        "       [  1.51655,  12.75   ,   2.     ],\n",
        "       [  1.5173 ,  12.35   ,   2.     ],\n",
        "       [  1.5182 ,  12.62   ,   2.     ],\n",
        "       [  1.52725,  13.8    ,   2.     ],\n",
        "       [  1.5241 ,  13.83   ,   2.     ],\n",
        "       [  1.52475,  11.45   ,   2.     ],\n",
        "       [  1.53125,  10.73   ,   2.     ],\n",
        "       [  1.53393,  12.3    ,   2.     ],\n",
        "       [  1.52222,  14.43   ,   2.     ],\n",
        "       [  1.51818,  13.72   ,   2.     ],\n",
        "       [  1.52664,  11.23   ,   2.     ],\n",
        "       [  1.52739,  11.02   ,   2.     ],\n",
        "       [  1.52777,  12.64   ,   2.     ],\n",
        "       [  1.51892,  13.46   ,   2.     ],\n",
        "       [  1.51847,  13.1    ,   2.     ],\n",
        "       [  1.51846,  13.41   ,   2.     ],\n",
        "       [  1.51829,  13.24   ,   2.     ],\n",
        "       [  1.51708,  13.72   ,   2.     ],\n",
        "       [  1.51673,  13.3    ,   2.     ],\n",
        "       [  1.51652,  13.56   ,   2.     ],\n",
        "       [  1.51844,  13.25   ,   2.     ],\n",
        "       [  1.51663,  12.93   ,   2.     ],\n",
        "       [  1.51687,  13.23   ,   2.     ],\n",
        "       [  1.51707,  13.48   ,   2.     ],\n",
        "       [  1.52177,  13.2    ,   2.     ],\n",
        "       [  1.51872,  12.93   ,   2.     ],\n",
        "       [  1.51667,  12.94   ,   2.     ],\n",
        "       [  1.52081,  13.78   ,   2.     ],\n",
        "       [  1.52068,  13.55   ,   2.     ],\n",
        "       [  1.5202 ,  13.98   ,   2.     ],\n",
        "       [  1.52177,  13.75   ,   2.     ],\n",
        "       [  1.52614,  13.7    ,   2.     ],\n",
        "       [  1.51813,  13.43   ,   2.     ],\n",
        "       [  1.518  ,  13.71   ,   2.     ],\n",
        "       [  1.51811,  13.33   ,   2.     ],\n",
        "       [  1.51789,  13.19   ,   2.     ],\n",
        "       [  1.51806,  13.     ,   2.     ],\n",
        "       [  1.51711,  12.89   ,   2.     ],\n",
        "       [  1.51674,  12.79   ,   2.     ],\n",
        "       [  1.51674,  12.87   ,   2.     ],\n",
        "       [  1.5169 ,  13.33   ,   2.     ],\n",
        "       [  1.51851,  13.2    ,   2.     ],\n",
        "       [  1.51662,  12.85   ,   2.     ],\n",
        "       [  1.51709,  13.     ,   2.     ],\n",
        "       [  1.5166 ,  12.99   ,   2.     ],\n",
        "       [  1.51839,  12.85   ,   2.     ],\n",
        "       [  1.51769,  13.65   ,   3.     ],\n",
        "       [  1.5161 ,  13.33   ,   3.     ],\n",
        "       [  1.5167 ,  13.24   ,   3.     ],\n",
        "       [  1.51643,  12.16   ,   3.     ],\n",
        "       [  1.51665,  13.14   ,   3.     ],\n",
        "       [  1.52127,  14.32   ,   3.     ],\n",
        "       [  1.51779,  13.64   ,   3.     ],\n",
        "       [  1.5161 ,  13.42   ,   3.     ],\n",
        "       [  1.51694,  12.86   ,   3.     ],\n",
        "       [  1.51646,  13.04   ,   3.     ],\n",
        "       [  1.51655,  13.41   ,   3.     ],\n",
        "       [  1.52121,  14.03   ,   3.     ],\n",
        "       [  1.51776,  13.53   ,   3.     ],\n",
        "       [  1.51796,  13.5    ,   3.     ],\n",
        "       [  1.51832,  13.33   ,   3.     ],\n",
        "       [  1.51934,  13.64   ,   3.     ],\n",
        "       [  1.52211,  14.19   ,   3.     ],\n",
        "       [  1.51514,  14.01   ,   5.     ],\n",
        "       [  1.51915,  12.73   ,   5.     ],\n",
        "       [  1.52171,  11.56   ,   5.     ],\n",
        "       [  1.52151,  11.03   ,   5.     ],\n",
        "       [  1.51969,  12.64   ,   5.     ],\n",
        "       [  1.51666,  12.86   ,   5.     ],\n",
        "       [  1.51994,  13.27   ,   5.     ],\n",
        "       [  1.52369,  13.44   ,   5.     ],\n",
        "       [  1.51316,  13.02   ,   5.     ],\n",
        "       [  1.51321,  13.     ,   5.     ],\n",
        "       [  1.52043,  13.38   ,   5.     ],\n",
        "       [  1.52058,  12.85   ,   5.     ],\n",
        "       [  1.52119,  12.97   ,   5.     ],\n",
        "       [  1.51905,  14.     ,   6.     ],\n",
        "       [  1.51937,  13.79   ,   6.     ],\n",
        "       [  1.51829,  14.46   ,   6.     ],\n",
        "       [  1.51852,  14.09   ,   6.     ],\n",
        "       [  1.51299,  14.4    ,   6.     ],\n",
        "       [  1.51888,  14.99   ,   6.     ],\n",
        "       [  1.51916,  14.15   ,   6.     ],\n",
        "       [  1.51969,  14.56   ,   6.     ],\n",
        "       [  1.51115,  17.38   ,   6.     ],\n",
        "       [  1.51131,  13.69   ,   7.     ],\n",
        "       [  1.51838,  14.32   ,   7.     ],\n",
        "       [  1.52315,  13.44   ,   7.     ],\n",
        "       [  1.52247,  14.86   ,   7.     ],\n",
        "       [  1.52365,  15.79   ,   7.     ],\n",
        "       [  1.51613,  13.88   ,   7.     ],\n",
        "       [  1.51602,  14.85   ,   7.     ],\n",
        "       [  1.51623,  14.2    ,   7.     ],\n",
        "       [  1.51719,  14.75   ,   7.     ],\n",
        "       [  1.51683,  14.56   ,   7.     ],\n",
        "       [  1.51545,  14.14   ,   7.     ],\n",
        "       [  1.51556,  13.87   ,   7.     ],\n",
        "       [  1.51727,  14.7    ,   7.     ],\n",
        "       [  1.51531,  14.38   ,   7.     ],\n",
        "       [  1.51609,  15.01   ,   7.     ],\n",
        "       [  1.51508,  15.15   ,   7.     ],\n",
        "       [  1.51653,  11.95   ,   7.     ],\n",
        "       [  1.51514,  14.85   ,   7.     ],\n",
        "       [  1.51658,  14.8    ,   7.     ],\n",
        "       [  1.51617,  14.95   ,   7.     ],\n",
        "       [  1.51732,  14.95   ,   7.     ],\n",
        "       [  1.51645,  14.94   ,   7.     ],\n",
        "       [  1.51831,  14.39   ,   7.     ],\n",
        "       [  1.5164 ,  14.37   ,   7.     ],\n",
        "       [  1.51623,  14.14   ,   7.     ],\n",
        "       [  1.51685,  14.92   ,   7.     ],\n",
        "       [  1.52065,  14.36   ,   7.     ],\n",
        "       [  1.51651,  14.38   ,   7.     ],\n",
        "       [  1.51711,  14.23   ,   7.     ]])"
       ]
      }
     ],
     "prompt_number": 16
    },
    {
     "cell_type": "code",
     "collapsed": false,
     "input": [
      "describe(z)"
     ],
     "language": "python",
     "metadata": {},
     "outputs": [
      {
       "metadata": {},
       "output_type": "pyout",
       "prompt_number": 17,
       "text": [
        "(214,\n",
        " (array([  1.51115,  10.73   ,   1.     ]),\n",
        "  array([  1.53393,  17.38   ,   7.     ])),\n",
        " array([  1.51836542,  13.40785047,   2.78037383]),\n",
        " array([  9.22254137e-06,   6.66841367e-01,   4.42571629e+00]),\n",
        " array([ 1.61401505,  0.45099172,  1.10708511]),\n",
        " array([ 4.78935423,  2.95347658, -0.30093706]))"
       ]
      }
     ],
     "prompt_number": 17
    },
    {
     "cell_type": "markdown",
     "metadata": {},
     "source": [
      "Customized version: bstats"
     ]
    },
    {
     "cell_type": "code",
     "collapsed": false,
     "input": [
      "def bstats(vec):\n",
      "    s = {'num_element':len(vec), 'minimo':vec.min(),\n",
      "         'maximo':vec.max(), 'media':vec.mean(),\n",
      "         'desvio_padrao':vec.std()}\n",
      "    return s"
     ],
     "language": "python",
     "metadata": {},
     "outputs": [],
     "prompt_number": 18
    },
    {
     "cell_type": "code",
     "collapsed": false,
     "input": [
      "print(bstats(x))\n",
      "print(bstats(y))\n",
      "print(bstats(z[:,1]))"
     ],
     "language": "python",
     "metadata": {},
     "outputs": [
      {
       "output_type": "stream",
       "stream": "stdout",
       "text": [
        "{'maximo': 146.0, 'media': 61.302325581395351, 'desvio_padrao': 29.705950295584959, 'num_element': 43, 'minimo': 1.0}\n",
        "{'maximo': 2985.29, 'media': 849.18856999999991, 'desvio_padrao': 675.57111484436268, 'num_element': 1000, 'minimo': 44.5}\n",
        "{'maximo': 17.379999999999999, 'media': 13.407850467289723, 'desvio_padrao': 0.81469336934283643, 'num_element': 214, 'minimo': 10.73}\n"
       ]
      }
     ],
     "prompt_number": 19
    },
    {
     "cell_type": "markdown",
     "metadata": {},
     "source": [
      "Jitter Plots\n",
      "\n",
      "http://matplotlib.sourceforge.net/api/pyplot_api.html#matplotlib.pyplot.plot"
     ]
    },
    {
     "cell_type": "code",
     "collapsed": false,
     "input": [
      "plot(x)\n",
      "title('default settings')\n",
      "legend('data')"
     ],
     "language": "python",
     "metadata": {},
     "outputs": [
      {
       "metadata": {},
       "output_type": "pyout",
       "prompt_number": 20,
       "text": [
        "<matplotlib.legend.Legend at 0x10a64aa50>"
       ]
      },
      {
       "metadata": {},
       "output_type": "display_data",
       "png": "[encoded data removed]",
       "text": [
        "<matplotlib.figure.Figure at 0x10a4d39d0>"
       ]
      }
     ],
     "prompt_number": 20
    },
    {
     "cell_type": "code",
     "collapsed": false,
     "input": [
      "figure(2)\n",
      "plot(x,'r')\n",
      "title('default + red')"
     ],
     "language": "python",
     "metadata": {},
     "outputs": [
      {
       "metadata": {},
       "output_type": "pyout",
       "prompt_number": 21,
       "text": [
        "<matplotlib.text.Text at 0x10ab2bb50>"
       ]
      },
      {
       "metadata": {},
       "output_type": "display_data",
       "png": "[encoded data removed]",
       "text": [
        "<matplotlib.figure.Figure at 0x10a655110>"
       ]
      }
     ],
     "prompt_number": 21
    },
    {
     "cell_type": "code",
     "collapsed": false,
     "input": [
      "figure(3)\n",
      "plot(x,'bo')\n",
      "title('blue and circles')"
     ],
     "language": "python",
     "metadata": {},
     "outputs": [
      {
       "metadata": {},
       "output_type": "pyout",
       "prompt_number": 22,
       "text": [
        "<matplotlib.text.Text at 0x10ab1b890>"
       ]
      },
      {
       "metadata": {},
       "output_type": "display_data",
       "png": "[encoded data removed]",
       "text": [
        "<matplotlib.figure.Figure at 0x10a5bc190>"
       ]
      }
     ],
     "prompt_number": 22
    },
    {
     "cell_type": "code",
     "collapsed": false,
     "input": [
      "figure(4)\n",
      "plot(x,'g.')\n",
      "title('green and dots')\n",
      "show()"
     ],
     "language": "python",
     "metadata": {},
     "outputs": [
      {
       "metadata": {},
       "output_type": "display_data",
       "png": "[encoded data removed]",
       "text": [
        "<matplotlib.figure.Figure at 0x10a394e50>"
       ]
      }
     ],
     "prompt_number": 23
    },
    {
     "cell_type": "markdown",
     "metadata": {},
     "source": [
      "Histograms\n",
      "\n",
      "http://matplotlib.sourceforge.net/api/pyplot_api.html#matplotlib.pyplot.hist"
     ]
    },
    {
     "cell_type": "code",
     "collapsed": false,
     "input": [
      "nbins=10\n",
      "hist(x, bins=nbins)"
     ],
     "language": "python",
     "metadata": {},
     "outputs": [
      {
       "metadata": {},
       "output_type": "pyout",
       "prompt_number": 24,
       "text": [
        "(array([  2.,   3.,   3.,  18.,   3.,   0.,  13.,   0.,   0.,   1.]),\n",
        " array([   1. ,   15.5,   30. ,   44.5,   59. ,   73.5,   88. ,  102.5,\n",
        "        117. ,  131.5,  146. ]),\n",
        " <a list of 10 Patch objects>)"
       ]
      },
      {
       "metadata": {},
       "output_type": "display_data",
       "png": "[encoded data removed]",
       "text": [
        "<matplotlib.figure.Figure at 0x10a3c6450>"
       ]
      }
     ],
     "prompt_number": 24
    },
    {
     "cell_type": "code",
     "collapsed": false,
     "input": [
      "figure(2)\n",
      "hist(x, bins=10*nbins)"
     ],
     "language": "python",
     "metadata": {},
     "outputs": [
      {
       "metadata": {},
       "output_type": "pyout",
       "prompt_number": 25,
       "text": [
        "(array([  1.,   0.,   0.,   0.,   1.,   0.,   0.,   0.,   0.,   0.,   1.,\n",
        "         0.,   0.,   0.,   0.,   0.,   0.,   0.,   0.,   2.,   0.,   1.,\n",
        "         1.,   0.,   0.,   0.,   0.,   1.,   0.,   0.,   0.,   2.,  14.,\n",
        "         1.,   0.,   0.,   1.,   0.,   0.,   0.,   0.,   0.,   1.,   0.,\n",
        "         0.,   2.,   0.,   0.,   0.,   0.,   0.,   0.,   0.,   0.,   0.,\n",
        "         0.,   0.,   0.,   0.,   0.,   0.,   1.,   1.,   0.,   1.,  10.,\n",
        "         0.,   0.,   0.,   0.,   0.,   0.,   0.,   0.,   0.,   0.,   0.,\n",
        "         0.,   0.,   0.,   0.,   0.,   0.,   0.,   0.,   0.,   0.,   0.,\n",
        "         0.,   0.,   0.,   0.,   0.,   0.,   0.,   0.,   0.,   0.,   0.,\n",
        "         1.]),\n",
        " array([   1.  ,    2.45,    3.9 ,    5.35,    6.8 ,    8.25,    9.7 ,\n",
        "         11.15,   12.6 ,   14.05,   15.5 ,   16.95,   18.4 ,   19.85,\n",
        "         21.3 ,   22.75,   24.2 ,   25.65,   27.1 ,   28.55,   30.  ,\n",
        "         31.45,   32.9 ,   34.35,   35.8 ,   37.25,   38.7 ,   40.15,\n",
        "         41.6 ,   43.05,   44.5 ,   45.95,   47.4 ,   48.85,   50.3 ,\n",
        "         51.75,   53.2 ,   54.65,   56.1 ,   57.55,   59.  ,   60.45,\n",
        "         61.9 ,   63.35,   64.8 ,   66.25,   67.7 ,   69.15,   70.6 ,\n",
        "         72.05,   73.5 ,   74.95,   76.4 ,   77.85,   79.3 ,   80.75,\n",
        "         82.2 ,   83.65,   85.1 ,   86.55,   88.  ,   89.45,   90.9 ,\n",
        "         92.35,   93.8 ,   95.25,   96.7 ,   98.15,   99.6 ,  101.05,\n",
        "        102.5 ,  103.95,  105.4 ,  106.85,  108.3 ,  109.75,  111.2 ,\n",
        "        112.65,  114.1 ,  115.55,  117.  ,  118.45,  119.9 ,  121.35,\n",
        "        122.8 ,  124.25,  125.7 ,  127.15,  128.6 ,  130.05,  131.5 ,\n",
        "        132.95,  134.4 ,  135.85,  137.3 ,  138.75,  140.2 ,  141.65,\n",
        "        143.1 ,  144.55,  146.  ]),\n",
        " <a list of 100 Patch objects>)"
       ]
      },
      {
       "metadata": {},
       "output_type": "display_data",
       "png": "[encoded data removed]",
       "text": [
        "<matplotlib.figure.Figure at 0x10a4e4f90>"
       ]
      }
     ],
     "prompt_number": 25
    },
    {
     "cell_type": "code",
     "collapsed": false,
     "input": [
      "figure(3)\n",
      "hist(x, bins=100*nbins)\n",
      "show()"
     ],
     "language": "python",
     "metadata": {},
     "outputs": [
      {
       "metadata": {},
       "output_type": "display_data",
       "png": "[encoded data removed]",
       "text": [
        "<matplotlib.figure.Figure at 0x10a4b4e90>"
       ]
      }
     ],
     "prompt_number": 26
    },
    {
     "cell_type": "markdown",
     "metadata": {},
     "source": [
      "Kernel Density Estimates\n",
      "\n",
      "http://www.scipy.org/doc/api_docs/SciPy.stats.kde.gaussian_kde.html"
     ]
    },
    {
     "cell_type": "code",
     "collapsed": false,
     "input": [
      "nbins=100\n",
      "hist(y, bins=nbins, normed=True, align='mid')"
     ],
     "language": "python",
     "metadata": {},
     "outputs": [
      {
       "metadata": {},
       "output_type": "pyout",
       "prompt_number": 27,
       "text": [
        "(array([  6.80089364e-05,   2.38031277e-04,   5.78075959e-04,\n",
        "         9.18120641e-04,   9.52125109e-04,   9.52125109e-04,\n",
        "         1.22416085e-03,   1.12214745e-03,   1.08814298e-03,\n",
        "         1.15615192e-03,   1.22416085e-03,   1.05413851e-03,\n",
        "         7.48098300e-04,   8.50111705e-04,   6.12080427e-04,\n",
        "         1.08814298e-03,   5.10067023e-04,   1.05413851e-03,\n",
        "         1.05413851e-03,   5.44071491e-04,   8.16107236e-04,\n",
        "         6.12080427e-04,   6.80089364e-04,   7.14093832e-04,\n",
        "         5.78075959e-04,   5.10067023e-04,   4.76062555e-04,\n",
        "         6.46084896e-04,   4.42058086e-04,   2.72035745e-04,\n",
        "         5.44071491e-04,   3.74049150e-04,   4.76062555e-04,\n",
        "         4.08053618e-04,   2.72035745e-04,   2.04026809e-04,\n",
        "         5.10067023e-04,   2.04026809e-04,   1.70022341e-04,\n",
        "         3.40044682e-04,   3.06040214e-04,   2.38031277e-04,\n",
        "         3.06040214e-04,   6.80089364e-05,   1.36017873e-04,\n",
        "         2.04026809e-04,   3.06040214e-04,   1.36017873e-04,\n",
        "         2.72035745e-04,   1.02013405e-04,   3.74049150e-04,\n",
        "         1.02013405e-04,   2.04026809e-04,   1.70022341e-04,\n",
        "         3.40044682e-04,   2.04026809e-04,   1.36017873e-04,\n",
        "         1.02013405e-04,   1.02013405e-04,   1.02013405e-04,\n",
        "         1.36017873e-04,   6.80089364e-05,   1.70022341e-04,\n",
        "         2.72035745e-04,   1.36017873e-04,   1.70022341e-04,\n",
        "         1.70022341e-04,   0.00000000e+00,   6.80089364e-05,\n",
        "         6.80089364e-05,   1.02013405e-04,   6.80089364e-05,\n",
        "         1.36017873e-04,   1.36017873e-04,   6.80089364e-05,\n",
        "         3.40044682e-05,   0.00000000e+00,   6.80089364e-05,\n",
        "         1.02013405e-04,   6.80089364e-05,   1.02013405e-04,\n",
        "         0.00000000e+00,   6.80089364e-05,   1.36017873e-04,\n",
        "         1.02013405e-04,   3.40044682e-05,   1.36017873e-04,\n",
        "         1.02013405e-04,   6.80089364e-05,   1.36017873e-04,\n",
        "         1.02013405e-04,   1.02013405e-04,   1.02013405e-04,\n",
        "         1.02013405e-04,   1.36017873e-04,   0.00000000e+00,\n",
        "         1.36017873e-04,   3.40044682e-05,   6.80089364e-05,\n",
        "         1.02013405e-04]),\n",
        " array([   44.5   ,    73.9079,   103.3158,   132.7237,   162.1316,\n",
        "         191.5395,   220.9474,   250.3553,   279.7632,   309.1711,\n",
        "         338.579 ,   367.9869,   397.3948,   426.8027,   456.2106,\n",
        "         485.6185,   515.0264,   544.4343,   573.8422,   603.2501,\n",
        "         632.658 ,   662.0659,   691.4738,   720.8817,   750.2896,\n",
        "         779.6975,   809.1054,   838.5133,   867.9212,   897.3291,\n",
        "         926.737 ,   956.1449,   985.5528,  1014.9607,  1044.3686,\n",
        "        1073.7765,  1103.1844,  1132.5923,  1162.0002,  1191.4081,\n",
        "        1220.816 ,  1250.2239,  1279.6318,  1309.0397,  1338.4476,\n",
        "        1367.8555,  1397.2634,  1426.6713,  1456.0792,  1485.4871,\n",
        "        1514.895 ,  1544.3029,  1573.7108,  1603.1187,  1632.5266,\n",
        "        1661.9345,  1691.3424,  1720.7503,  1750.1582,  1779.5661,\n",
        "        1808.974 ,  1838.3819,  1867.7898,  1897.1977,  1926.6056,\n",
        "        1956.0135,  1985.4214,  2014.8293,  2044.2372,  2073.6451,\n",
        "        2103.053 ,  2132.4609,  2161.8688,  2191.2767,  2220.6846,\n",
        "        2250.0925,  2279.5004,  2308.9083,  2338.3162,  2367.7241,\n",
        "        2397.132 ,  2426.5399,  2455.9478,  2485.3557,  2514.7636,\n",
        "        2544.1715,  2573.5794,  2602.9873,  2632.3952,  2661.8031,\n",
        "        2691.211 ,  2720.6189,  2750.0268,  2779.4347,  2808.8426,\n",
        "        2838.2505,  2867.6584,  2897.0663,  2926.4742,  2955.8821,  2985.29  ]),\n",
        " <a list of 100 Patch objects>)"
       ]
      },
      {
       "metadata": {},
       "output_type": "display_data",
       "png": "[encoded data removed]",
       "text": [
        "<matplotlib.figure.Figure at 0x10a395e10>"
       ]
      }
     ],
     "prompt_number": 27
    },
    {
     "cell_type": "code",
     "collapsed": false,
     "input": [
      "figure(2)    \n",
      "gkde = gaussian_kde(y)\n",
      "plot(arange(0,(1.01*(max(y)-min(y))),.1),\n",
      "gkde.evaluate(arange(0,(1.01*(max(y)-min(y))),.1)))   \n",
      "show()"
     ],
     "language": "python",
     "metadata": {},
     "outputs": [
      {
       "metadata": {},
       "output_type": "display_data",
       "png": "[encoded data removed]",
       "text": [
        "<matplotlib.figure.Figure at 0x10edf5150>"
       ]
      }
     ],
     "prompt_number": 28
    },
    {
     "cell_type": "markdown",
     "metadata": {},
     "source": [
      "Cumulative Frequency\n",
      "\n",
      "http://docs.scipy.org/doc/scipy/reference/generated/scipy.stats.cumfreq.html#scipy.stats.cumfreq"
     ]
    },
    {
     "cell_type": "code",
     "collapsed": false,
     "input": [
      "nbins=100\n",
      "hist(x, bins=nbins, normed=False, align='mid')"
     ],
     "language": "python",
     "metadata": {},
     "outputs": [
      {
       "output_type": "pyout",
       "prompt_number": 18,
       "text": [
        "(array([ 1,  0,  0,  0,  1,  0,  0,  0,  0,  0,  1,  0,  0,  0,  0,  0,  0,\n",
        "        0,  0,  2,  0,  1,  1,  0,  0,  0,  0,  1,  0,  0,  0,  2, 14,  1,\n",
        "        0,  0,  1,  0,  0,  0,  0,  0,  1,  0,  0,  2,  0,  0,  0,  0,  0,\n",
        "        0,  0,  0,  0,  0,  0,  0,  0,  0,  0,  1,  1,  0,  1, 10,  0,  0,\n",
        "        0,  0,  0,  0,  0,  0,  0,  0,  0,  0,  0,  0,  0,  0,  0,  0,  0,\n",
        "        0,  0,  0,  0,  0,  0,  0,  0,  0,  0,  0,  0,  0,  0,  1]),\n",
        " array([   1.  ,    2.45,    3.9 ,    5.35,    6.8 ,    8.25,    9.7 ,\n",
        "         11.15,   12.6 ,   14.05,   15.5 ,   16.95,   18.4 ,   19.85,\n",
        "         21.3 ,   22.75,   24.2 ,   25.65,   27.1 ,   28.55,   30.  ,\n",
        "         31.45,   32.9 ,   34.35,   35.8 ,   37.25,   38.7 ,   40.15,\n",
        "         41.6 ,   43.05,   44.5 ,   45.95,   47.4 ,   48.85,   50.3 ,\n",
        "         51.75,   53.2 ,   54.65,   56.1 ,   57.55,   59.  ,   60.45,\n",
        "         61.9 ,   63.35,   64.8 ,   66.25,   67.7 ,   69.15,   70.6 ,\n",
        "         72.05,   73.5 ,   74.95,   76.4 ,   77.85,   79.3 ,   80.75,\n",
        "         82.2 ,   83.65,   85.1 ,   86.55,   88.  ,   89.45,   90.9 ,\n",
        "         92.35,   93.8 ,   95.25,   96.7 ,   98.15,   99.6 ,  101.05,\n",
        "        102.5 ,  103.95,  105.4 ,  106.85,  108.3 ,  109.75,  111.2 ,\n",
        "        112.65,  114.1 ,  115.55,  117.  ,  118.45,  119.9 ,  121.35,\n",
        "        122.8 ,  124.25,  125.7 ,  127.15,  128.6 ,  130.05,  131.5 ,\n",
        "        132.95,  134.4 ,  135.85,  137.3 ,  138.75,  140.2 ,  141.65,\n",
        "        143.1 ,  144.55,  146.  ]),\n",
        " <a list of 100 Patch objects>)"
       ]
      },
      {
       "output_type": "display_data",
       "png": "[encoded data removed]"
      }
     ],
     "prompt_number": 18
    },
    {
     "cell_type": "code",
     "collapsed": false,
     "input": [
      "figure(2)    \n",
      "disc = cumfreq(x, numbins=nbins)\n",
      "plot(disc[0]/len(x))\n",
      "show()"
     ],
     "language": "python",
     "metadata": {},
     "outputs": [
      {
       "output_type": "display_data",
       "png": "[encoded data removed]"
      }
     ],
     "prompt_number": 19
    },
    {
     "cell_type": "markdown",
     "metadata": {},
     "source": [
      "Box and Whisker Plots\n",
      "\n",
      "http://matplotlib.sourceforge.net/api/pyplot_api.html#matplotlib.pyplot.boxplot"
     ]
    },
    {
     "cell_type": "code",
     "collapsed": false,
     "input": [
      "boxplot(x, notch=0, sym='+', vert=0, whis=1.5, positions=None, widths=None)\n",
      "show()"
     ],
     "language": "python",
     "metadata": {},
     "outputs": [
      {
       "output_type": "display_data",
       "png": "[encoded data removed]"
      }
     ],
     "prompt_number": 20
    },
    {
     "cell_type": "code",
     "collapsed": false,
     "input": [
      "boxplot(z[:,0], notch=0, sym='+', vert=0, whis=1.5, positions=None, widths=None)\n",
      "show()"
     ],
     "language": "python",
     "metadata": {},
     "outputs": [
      {
       "output_type": "display_data",
       "png": "[encoded data removed]"
      }
     ],
     "prompt_number": 21
    }
   ],
   "metadata": {}
  }
 ]
}