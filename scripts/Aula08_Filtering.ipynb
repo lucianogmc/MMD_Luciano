{
 "metadata": {
  "name": ""
 },
 "nbformat": 3,
 "nbformat_minor": 0,
 "worksheets": [
  {
   "cells": [
    {
     "cell_type": "markdown",
     "metadata": {},
     "source": [
      "Mestrado em Modelagem Matematica da Informacao\n",
      "Master Program - Mathematical Modeling of Information\n",
      "\n",
      "Disciplina: Modelagem e Mineracao de Dados\n",
      "Course: Data Mining and Modeling\n",
      "\n",
      "Professor: Renato Rocha Souza\n",
      "Topic: Filtering feeds and Documents (class #7)\n",
      "\n",
      "Information on the Python Packages used:\n",
      "\n",
      "http://docs.python.org/library/sqlite3.html\n",
      "\n",
      "http://docs.python.org/library/re.html\n",
      "\n",
      "http://www.feedparser.org/\n",
      "\n",
      "http://docs.python.org/2/library/tkinter.html\n",
      "\n",
      "http://www.tkdocs.com/tutorial/index.html"
     ]
    },
    {
     "cell_type": "code",
     "collapsed": false,
     "input": [
      "import re\n",
      "import math\n",
      "import feedparser\n",
      "from sqlite3 import dbapi2 as sqlite\n",
      "import Tkinter as tki\n",
      "import tkSimpleDialog\n",
      "from time import mktime\n",
      "from datetime import datetime"
     ],
     "language": "python",
     "metadata": {},
     "outputs": [],
     "prompt_number": 69
    },
    {
     "cell_type": "markdown",
     "metadata": {},
     "source": [
      "Specifying the path to the files:"
     ]
    },
    {
     "cell_type": "code",
     "collapsed": false,
     "input": [
      "datapath = \"/home/rsouza/Dropbox/Renato/ModMinDados/Git/\"\n",
      "outputs = \"/home/rsouza/Dropbox/Renato/ModMinDados/outputs/\"\n",
      "\n",
      "dbfile1 = \"treino.sqlite\"\n",
      "dbfile2 = \"treinoblogs.sqlite\"\n",
      "outblog = \"blogoutputrss.xml\"\n",
      "\n",
      "db_teste = (outputs+dbfile1)\n",
      "db_blog = (outputs+dbfile2)\n",
      "rssblogoutput = (outputs+outblog)"
     ],
     "language": "python",
     "metadata": {},
     "outputs": [],
     "prompt_number": 70
    },
    {
     "cell_type": "markdown",
     "metadata": {},
     "source": [
      "First block of functions: feature extraction:"
     ]
    },
    {
     "cell_type": "code",
     "collapsed": false,
     "input": [
      "def getwords(doc):\n",
      "    '''Remove the HTML tags and cleans the feeds files;splits the sentences \n",
      "    by the non alpha characters and converts all words to lowercase.\n",
      "    Ignores bigger and too small words'''\n",
      "    splitter = re.compile('\\\\W*', flags=re.U)\n",
      "    #splitter=re.compile(r'[^A-Z^a-z]+', flags=re.U)\n",
      "    words=[s.lower() for s in splitter.split(doc) if len(s)>2 and len(s)<20]\n",
      "    return dict([(w,1) for w in words])"
     ],
     "language": "python",
     "metadata": {},
     "outputs": [],
     "prompt_number": 71
    },
    {
     "cell_type": "code",
     "collapsed": false,
     "input": [
      "def entryfeatures(entry):\n",
      "    '''Used when our features are not documents, but feeds rss'''\n",
      "    splitter=re.compile('\\\\W*')\n",
      "    f={}\n",
      "    # Extract title words\n",
      "    titlewords=[s.lower() for s in splitter.split(entry['title']) \n",
      "                if len(s)>2 and len(s)<20]\n",
      "    for w in titlewords: f['Title:'+w]=1\n",
      "    # Extract summary words\n",
      "    summarywords=[s.lower() for s in splitter.split(entry['summary']) \n",
      "                if len(s)>2 and len(s)<20]\n",
      "    # Count lowercase words\n",
      "    uc=0\n",
      "    for i in range(len(summarywords)):\n",
      "        w=summarywords[i]\n",
      "        f[w]=1\n",
      "        if w.isupper(): uc+=1\n",
      "        # Features are words in the feed summary\n",
      "        if i<len(summarywords)-1:\n",
      "            twowords=' '.join(summarywords[i:i+1])\n",
      "            f[twowords]=1\n",
      "    # Save publisher information\n",
      "    f['Publisher:'+entry['publisher']]=1\n",
      "    # Too many uppercase words are indicated\n",
      "    if float(uc)/len(summarywords)>0.3: f['MAIUSCULAS']=1\n",
      "    return f"
     ],
     "language": "python",
     "metadata": {},
     "outputs": [],
     "prompt_number": 72
    },
    {
     "cell_type": "markdown",
     "metadata": {},
     "source": [
      "Second block of functions: classification"
     ]
    },
    {
     "cell_type": "code",
     "collapsed": false,
     "input": [
      "class classifier:\n",
      "    ''' Represents the classifier, storing what's learnt from training.\n",
      "    fc saves the combination words/categories {'word': {'bad': 3, 'good': 2}}\n",
      "    and cc is a dictionary that stores the number of times a category was used\n",
      "    {'bad': 3, 'good': 2}. Will be used when no DB is used.\n",
      "    Getfeatures is the feature extraction function to be used'''\n",
      "    def __init__(self, getfeatures, filename=None, usedb=False):\n",
      "        self.fc={}\n",
      "        self.cc={}\n",
      "        self.getfeatures = getfeatures\n",
      "        self.usedb = usedb\n",
      "    \n",
      "    def setdb(self,dbfile):\n",
      "        '''When using a database and not dictionaries, to persist the information\n",
      "        across sessions'''\n",
      "        self.con = sqlite.connect(dbfile)    \n",
      "        self.con.execute(u'create table if not exists fc(feature,category,count)')\n",
      "        self.con.execute(u'create table if not exists cc(category,count)')\n",
      "\n",
      "    def fcount(self,f,cat):\n",
      "        '''Returns the number of times a feature appears in a category'''\n",
      "        if not self.usedb:\n",
      "            if f in self.fc and cat in self.fc[f]: \n",
      "                return float(self.fc[f][cat])\n",
      "            else: \n",
      "                return 0\n",
      "        else:\n",
      "            query = u'select count from fc where feature=\"{}\" and category=\"{}\"'\n",
      "            res = self.con.execute(query.format(f,cat)).fetchone()\n",
      "            if res == None: \n",
      "                return 0\n",
      "            else: \n",
      "                return float(res[0])\n",
      "\n",
      "    def incf(self,f,cat):\n",
      "        '''Creates a feature/category pair if not exists, or increase the number\n",
      "        if feature exists in a category'''\n",
      "        if not self.usedb:\n",
      "            self.fc.setdefault(f,{})\n",
      "            self.fc[f].setdefault(cat,0)\n",
      "            self.fc[f][cat] += 1\n",
      "        else:\n",
      "            count=self.fcount(f,cat)\n",
      "            if count == 0:\n",
      "                self.con.execute(u'insert into fc values (\"{}\",\"{}\",1)'.format(f,cat))\n",
      "            else:\n",
      "                query = u'update fc set count={} where feature=\"{}\" and category=\"{}\"'\n",
      "                self.con.execute(query.format(count+1,f,cat)) \n",
      "\n",
      "    def incc(self,cat):\n",
      "        '''Increases the number of occurrences of a category'''\n",
      "        if not self.usedb:\n",
      "            self.cc.setdefault(cat,0)\n",
      "            self.cc[cat] += 1        \n",
      "        else:\n",
      "            count=self.catcount(cat)\n",
      "            if count == 0:\n",
      "                self.con.execute(u'insert into cc values (\"{}\",1)'.format(cat))\n",
      "            else:\n",
      "                query = u'update cc set count={} where category=\"{}\"'\n",
      "                self.con.execute(query.format(count+1,cat))    \n",
      "\n",
      "    def catcount(self,cat):\n",
      "        '''Counts the numer of itens in a category'''\n",
      "        if not self.usedb:\n",
      "            if cat in self.cc:\n",
      "                return float(self.cc[cat])\n",
      "            else:\n",
      "                return 0\n",
      "        else:\n",
      "            query = u'select count from cc where category=\"{}\"'\n",
      "            res=self.con.execute(query.format(cat)).fetchone()\n",
      "            if res == None:\n",
      "                return 0\n",
      "            else:\n",
      "                return float(res[0])\n",
      "\n",
      "    def categories(self):\n",
      "        '''Lists all the categories'''        \n",
      "        if not self.usedb: return self.cc.keys()\n",
      "        else:\n",
      "            cur=self.con.execute(u'select category from cc');\n",
      "            return [d[0] for d in cur]\n",
      "\n",
      "    def totalcount(self):\n",
      "        ''' Returns the total numer of itens'''\n",
      "        if not self.usedb: return sum(self.cc.values())\n",
      "        else:\n",
      "            res=self.con.execute(u'select sum(count) from cc').fetchone();\n",
      "            if res==None: return 0\n",
      "            else: return res[0]\n",
      "\n",
      "    def train(self,item,cat):\n",
      "        '''Receives an item (a bag of features) and a category, and increases\n",
      "        the relative number of this category for all the features'''\n",
      "        features=self.getfeatures(item)\n",
      "        for f in features:\n",
      "            self.incf(f,cat)\n",
      "        self.incc(cat)\n",
      "        if self.usedb: self.con.commit()\n",
      "\n",
      "    def fprob(self,f,cat):\n",
      "        '''Calculates the probability of a feature to be within a category'''\n",
      "        if self.catcount(cat)==0: return 0\n",
      "        return self.fcount(f,cat)/self.catcount(cat)\n",
      "\n",
      "    def weightedprob(self,f,cat,prf,weight=1.0,ap=0.5):\n",
      "        '''Calculates the probability of a feature to appear in a certain category\n",
      "        as fprob does, but assuming an initial value and changing according to \n",
      "        the training. That minimizes the effect of a rare word to be classified\n",
      "        erroneously'''\n",
      "        basicprob=prf(f,cat)\n",
      "        totals=sum([self.fcount(f,c) for c in self.categories()])\n",
      "        bp=((weight*ap)+(totals*basicprob))/(weight+totals)\n",
      "        return bp"
     ],
     "language": "python",
     "metadata": {},
     "outputs": [],
     "prompt_number": 73
    },
    {
     "cell_type": "code",
     "collapsed": false,
     "input": [
      "class naivebayes(classifier):\n",
      "    '''Extends classifier class overriding __init__ and adding specific functions\n",
      "    to classify documents using naive bayes'''\n",
      "    \n",
      "    def __init__(self, getfeatures, usedb=False):\n",
      "        classifier.__init__(self,getfeatures)\n",
      "        self.thresholds = {}\n",
      "        self.usedb = usedb\n",
      "        \n",
      "    def docprob(self,item,cat):\n",
      "        '''Calculates the probability of a document to be within a given\n",
      "        category multiplying all the features probabilities to be in this category'''\n",
      "        features=self.getfeatures(item)\n",
      "        p=1\n",
      "        for f in features: p*=self.weightedprob(f,cat,self.fprob)\n",
      "        return p\n",
      "\n",
      "    def prob(self,item,cat):\n",
      "        catprob=self.catcount(cat)/self.totalcount()\n",
      "        docprob=self.docprob(item,cat)\n",
      "        return docprob*catprob\n",
      "\n",
      "    def setthreshold(self,cat,t):\n",
      "        self.thresholds[cat]=t\n",
      "\n",
      "    def getthreshold(self,cat):\n",
      "        if cat not in self.thresholds: return 1.0\n",
      "        return self.thresholds[cat]\n",
      "\n",
      "    def classify(self, item, default=None):\n",
      "        '''Finds the most probably category to be set, and apply this\n",
      "        classification, given that it satisfies a minimum threshold, compared\n",
      "        to the second best category to classify; otherwise sets to \"None\"'''        \n",
      "        probs = {}\n",
      "        maximum = 0.0\n",
      "        #best = None\n",
      "        for cat in self.categories():\n",
      "            probs[cat] = self.prob(item, cat)\n",
      "            if probs[cat] > maximum: \n",
      "                maximum = probs[cat]\n",
      "                best = cat\n",
      "        for cat in probs:\n",
      "            if cat == best:\n",
      "                continue\n",
      "            if probs[cat]*self.getthreshold(best) > probs[best]: \n",
      "                return default\n",
      "        return best"
     ],
     "language": "python",
     "metadata": {},
     "outputs": [],
     "prompt_number": 74
    },
    {
     "cell_type": "code",
     "collapsed": false,
     "input": [
      "class fisherclassifier(classifier):\n",
      "    '''Extends classifier class overriding __init__ and adding specific functions\n",
      "    to classify documents using fisher method'''\n",
      "\n",
      "    def __init__(self,getfeatures, usedb=False):\n",
      "        classifier.__init__(self, getfeatures)\n",
      "        self.minimums = {}\n",
      "        self.usedb = usedb\n",
      "        \n",
      "    def cprob(self,f,cat):\n",
      "        '''Returns the frequency of the feature in a category divided\n",
      "        by the frequency in all categories'''\n",
      "        clf=self.fprob(f,cat)\n",
      "        if clf==0: return 0\n",
      "        freqsum=sum([self.fprob(f,c) for c in self.categories()])\n",
      "        p=clf/(freqsum)\n",
      "        return p\n",
      "\n",
      "    def invchi2(self,chi, df):\n",
      "        m = chi / 2.0\n",
      "        sum = term = math.exp(-m)\n",
      "        for i in range(1, df//2):\n",
      "            term *= m / i\n",
      "            sum += term\n",
      "        return min(sum, 1.0)\n",
      "\n",
      "    def prob(self,item,cat):\n",
      "        '''Multipy all the categories, applies the natural log\n",
      "        and uses the inverse chi2 to calculate probabilty'''\n",
      "        p = 1\n",
      "        features = self.getfeatures(item)\n",
      "        for f in features:\n",
      "            p *= (self.weightedprob(f,cat,self.cprob))\n",
      "        fscore =- 2*math.log(p)\n",
      "        return self.invchi2(fscore,len(features)*2)\n",
      "\n",
      "    def setminimum(self,cat, minimum):\n",
      "        self.minimums[cat] = minimum\n",
      "\n",
      "    def getminimum(self,cat):\n",
      "        if cat not in self.minimums: return 0\n",
      "        return self.minimums[cat]\n",
      "\n",
      "    def classify(self, item, default=None):\n",
      "        '''Applies fisher to all categories to find the best result, given \n",
      "        that it satisfies a minimum threshold, otherwise sets to \"None\"'''\n",
      "        best = default\n",
      "        maximum = 0.0\n",
      "        for c in self.categories():\n",
      "            p = self.prob(item,c)\n",
      "            if p>self.getminimum(c) and p > maximum:\n",
      "                best = c\n",
      "                maximum = p\n",
      "        return best"
     ],
     "language": "python",
     "metadata": {},
     "outputs": [],
     "prompt_number": 75
    },
    {
     "cell_type": "markdown",
     "metadata": {},
     "source": [
      "Third block of functions: reading files or searching for feeds"
     ]
    },
    {
     "cell_type": "code",
     "collapsed": false,
     "input": [
      "def blogread(file_or_subject, classifier, search=True):\n",
      "    '''Receives an url to search Google for blogs in a given subject, or a \n",
      "    rss xml file with saved feeds. Tries to classify the entries'''\n",
      "    if search:\n",
      "        generic = 'http://www.google.com/search?q={}&hl=pt-BR&tbm=blg&output=rss'\n",
      "        url = generic.format(file_or_subject)\n",
      "        f = feedparser.parse(url)\n",
      "    else:\n",
      "        f = feedparser.parse(file_or_subject)\n",
      "    for entry in f['entries']:\n",
      "        \n",
      "        # raw input does not work in Ipython Notebook - using Tkinter\n",
      "        root = tki.Tk()\n",
      "        WINDOW_WIDTH = 1200\n",
      "        WINDOW_HEIGHT = 150\n",
      "        HEIGHT_OFFSET = 250\n",
      "        pos_x = root.winfo_screenwidth() - WINDOW_WIDTH - 100\n",
      "        geometry = '{width}x{height}+{pos_x}+{pos_y}'.format(height=WINDOW_HEIGHT, width=WINDOW_WIDTH, pos_y=HEIGHT_OFFSET, pos_x=pos_x)\n",
      "        root.wm_geometry(geometry)\n",
      "        \n",
      "        fulltext=u'{}\\n{}\\n{}'.format(entry['title'],entry['publisher'],entry['summary'])\n",
      "        \n",
      "        print('\\n-----')\n",
      "        print('Title:     '+ entry['title'].encode('utf-8'))\n",
      "        print('Publisher: '+ entry['publisher'].encode('utf-8'))\n",
      "        print('Date Published: '+ datetime.fromtimestamp(mktime(entry['updated_parsed'])))\n",
      "        print('\\n-----')        \n",
      "        print(entry['summary'].encode('utf-8'))\n",
      "        guess = classifier.classify(entry)\n",
      "        print('Suggested: {}'.format(guess))\n",
      "        \n",
      "        # raw input does not work in Ipython Notebook\n",
      "        #cl = raw_input('Enter category or press <enter> to accept suggestion: ').lower()\n",
      "        txt = 'Title:     '+entry['title'].encode('utf-8')\n",
      "        txt = txt+'\\n'+'Publisher: '+entry['publisher'].encode('utf-8')\n",
      "        txt = txt+'\\n'+entry['summary'].encode('utf-8')\n",
      "        txt = txt+'\\n'+'Suggested: {}'.format(guess)\n",
      "        tki.Button(root, text=txt).grid()\n",
      "        cl = tkSimpleDialog.askstring('Choose Category','Enter category or press <OK> to accept suggestion: ').lower()\n",
      "        root.withdraw()\n",
      "        \n",
      "        if cl == ''.strip() and guess:\n",
      "            cl = guess\n",
      "        print('Category \"{}\" chosen'.format(cl))\n",
      "        classifier.train(entry,cl)"
     ],
     "language": "python",
     "metadata": {},
     "outputs": [],
     "prompt_number": 76
    },
    {
     "cell_type": "markdown",
     "metadata": {},
     "source": [
      "Fourth block of functions: instantiating and training classifiers"
     ]
    },
    {
     "cell_type": "code",
     "collapsed": false,
     "input": [
      "def sampletrain(cl):\n",
      "    print('Running sampletrain to train the classifier...')\n",
      "    cl.train('Nobody owns the water.','good')\n",
      "    cl.train('the quick rabbit jumps fences','good')\n",
      "    cl.train('buy pharmaceuticals now','bad')\n",
      "    cl.train('make quick money at the online casino','bad')\n",
      "    cl.train('the quick brown fox jumps','good')"
     ],
     "language": "python",
     "metadata": {},
     "outputs": [],
     "prompt_number": 77
    },
    {
     "cell_type": "code",
     "collapsed": false,
     "input": [
      "def probabilidades_palavras():\n",
      "    cl = classifier(getwords)\n",
      "    print('\\n')    \n",
      "    sampletrain(cl)\n",
      "    \n",
      "    print('How many times \"quick\" --> \"good\": {}'.format(cl.fcount('quick','good')))\n",
      "    print('How many times \"quick\" --> \"bad\": {}'.format(cl.fcount('quick','bad')))\n",
      "    print('\\nProbability of \"quick\" given that \"good\": {}'.format(cl.fprob('quick','good')))\n",
      "    print('Probability of \"money\" given that \"good\" (fprob): {}'.format(cl.fprob('money','good')))\n",
      "    print('Weighted probability of \"money\" given that \"good\" (weightedprob): {}'.format(cl.weightedprob('money','good',cl.fprob)))\n",
      "\n",
      "    print('\\nTraining again with the same documents...\\n')\n",
      "    sampletrain(cl)\n",
      "\n",
      "    print('\\nProbability of \"money\" given that \"good\" (fprob): {}'.format(cl.fprob('money','good')))\n",
      "    print('Weighted probability of \"money\" given that \"good\" (weightedprob): {}\\n'.format(cl.weightedprob('money','good',cl.fprob)))"
     ],
     "language": "python",
     "metadata": {},
     "outputs": [],
     "prompt_number": 78
    },
    {
     "cell_type": "code",
     "collapsed": false,
     "input": [
      "def probabilidades_documentos_bayes():\n",
      "    cl = naivebayes(getwords)\n",
      "    print('\\n')    \n",
      "    sampletrain(cl)\n",
      "    \n",
      "    print('Classifying \"quick rabbit\": {}'.format(cl.classify('quick rabbit', default='unknown')))\n",
      "    print('Classifying \"quick money\": {}'.format(cl.classify('quick money', default='unknown')))\n",
      "    \n",
      "    print('\\nSetting the threshold up...')\n",
      "    cl.setthreshold('bad',3.0)\n",
      "\n",
      "    print('Classifying \"quick money\": {}'.format(cl.classify('quick money', default='unknown')))\n",
      "    \n",
      "    print('\\nTraining again with the same documents (10x)...')\n",
      "    for i in range(10): sampletrain(cl)\n",
      "    \n",
      "    print('\\nClassifying \"quick money\": {}'.format(cl.classify('quick money', default='unknown')))"
     ],
     "language": "python",
     "metadata": {},
     "outputs": [],
     "prompt_number": 79
    },
    {
     "cell_type": "code",
     "collapsed": false,
     "input": [
      "def probabilidades_palavras_fisher():\n",
      "    cl = fisherclassifier(getwords)\n",
      "    print('\\n')    \n",
      "    sampletrain(cl)\n",
      "    print('\\n')      \n",
      "    print('Probability of \"quick\" given that \"good\": {}'.format(cl.cprob('quick', 'good')))\n",
      "    print('Probability of \"money\" given that \"bad\": {}'.format(cl.cprob('money', 'bad')))\n",
      "    print('Weighted probability of  \"money\" given that \"bad\": {}'.format(cl.weightedprob('money','bad',cl.cprob)))"
     ],
     "language": "python",
     "metadata": {},
     "outputs": [],
     "prompt_number": 80
    },
    {
     "cell_type": "code",
     "collapsed": false,
     "input": [
      "def probabilidades_documentos_fisher():\n",
      "    cl = fisherclassifier(getwords)\n",
      "    print('\\n')    \n",
      "    sampletrain(cl)\n",
      "\n",
      "    print('Classifying \"quick rabbit\": {}'.format(cl.classify('quick rabbit')))\n",
      "    print('Classifying \"quick money\": {}'.format(cl.classify('quick money')))\n",
      "   \n",
      "    print('\\nSetting the threshold up...')\n",
      "    cl.setminimum('bad',0.8)\n",
      "    print('Classifying \"quick money\": {}'.format(cl.classify('quick money')))\n",
      "\n",
      "    print('\\nSetting the threshold down...')\n",
      "    cl.setminimum('bad',0.4)\n",
      "    print('Classifying \"quick money\": {}'.format(cl.classify('quick money')))"
     ],
     "language": "python",
     "metadata": {},
     "outputs": [],
     "prompt_number": 81
    },
    {
     "cell_type": "code",
     "collapsed": false,
     "input": [
      "def using_db_example():\n",
      "    '''Training with a classifier, persisting in a database\n",
      "    using the training data to classify using another classifier'''\n",
      "    print('\\nInstantiating a fisher classifier...')\n",
      "    cl = fisherclassifier(getwords, usedb=True)\n",
      "    cl.setdb(db_teste)\n",
      "    sampletrain(cl)\n",
      "    print('\\nInstantiating a naive bayes classifier...')    \n",
      "    cl2 = naivebayes(getwords, usedb=True)\n",
      "    cl2.setdb(db_teste)\n",
      "    print('Classifying \"quick money\": {}'.format(cl2.classify('quick money')))"
     ],
     "language": "python",
     "metadata": {},
     "outputs": [],
     "prompt_number": 82
    },
    {
     "cell_type": "code",
     "collapsed": false,
     "input": [
      "def classifying_blogs(subject='python'):\n",
      "    '''Instantiating a new classifier using \"entryfeatures\" (for feeds)\n",
      "    Creating the database for the persistance of training data\n",
      "    Using blogread with searching feeds option - no file reading'''\n",
      "    cl = fisherclassifier(entryfeatures, usedb=True)\n",
      "    cl.setdb(db_blog)\n",
      "    if not subject:\n",
      "        # raw input does not work in Ipython Notebook\n",
      "        #subject = raw_input('\\n\\nPlease enter a subject to search for feeds: ').lower()\n",
      "        root = tki.Tk()\n",
      "        root.withdraw()\n",
      "        subject = tkSimpleDialog.askstring('\\n\\nPlease enter a subject to search for feeds: ').lower()\n",
      "    blogread(subject, cl)    \n",
      "    print('\\nList of categories stored in the database:')\n",
      "    for category in cl.categories(): \n",
      "        print(category)\n",
      "    return cl"
     ],
     "language": "python",
     "metadata": {},
     "outputs": [],
     "prompt_number": 83
    },
    {
     "cell_type": "code",
     "collapsed": false,
     "input": [
      "probabilidades_palavras()"
     ],
     "language": "python",
     "metadata": {},
     "outputs": [
      {
       "output_type": "stream",
       "stream": "stdout",
       "text": [
        "\n",
        "\n",
        "Running sampletrain to train the classifier...\n",
        "How many times \"quick\" --> \"good\": 2.0\n",
        "How many times \"quick\" --> \"bad\": 1.0\n",
        "\n",
        "Probability of \"quick\" given that \"good\": 0.666666666667\n",
        "Probability of \"money\" given that \"good\" (fprob): 0.0\n",
        "Weighted probability of \"money\" given that \"good\" (weightedprob): 0.25\n",
        "\n",
        "Training again with the same documents...\n",
        "\n",
        "Running sampletrain to train the classifier...\n",
        "\n",
        "Probability of \"money\" given that \"good\" (fprob): 0.0\n",
        "Weighted probability of \"money\" given that \"good\" (weightedprob): 0.166666666667\n",
        "\n"
       ]
      }
     ],
     "prompt_number": 84
    },
    {
     "cell_type": "code",
     "collapsed": false,
     "input": [
      "probabilidades_documentos_bayes()"
     ],
     "language": "python",
     "metadata": {},
     "outputs": [
      {
       "output_type": "stream",
       "stream": "stdout",
       "text": [
        "\n",
        "\n",
        "Running sampletrain to train the classifier...\n",
        "Classifying \"quick rabbit\": good\n",
        "Classifying \"quick money\": bad\n",
        "\n",
        "Setting the threshold up...\n",
        "Classifying \"quick money\": unknown\n",
        "\n",
        "Training again with the same documents (10x)...\n",
        "Running sampletrain to train the classifier...\n",
        "Running sampletrain to train the classifier...\n",
        "Running sampletrain to train the classifier...\n",
        "Running sampletrain to train the classifier...\n",
        "Running sampletrain to train the classifier...\n",
        "Running sampletrain to train the classifier...\n",
        "Running sampletrain to train the classifier...\n",
        "Running sampletrain to train the classifier...\n",
        "Running sampletrain to train the classifier...\n",
        "Running sampletrain to train the classifier...\n",
        "\n",
        "Classifying \"quick money\": bad\n"
       ]
      }
     ],
     "prompt_number": 85
    },
    {
     "cell_type": "code",
     "collapsed": false,
     "input": [
      "probabilidades_palavras_fisher()"
     ],
     "language": "python",
     "metadata": {},
     "outputs": [
      {
       "output_type": "stream",
       "stream": "stdout",
       "text": [
        "\n",
        "\n",
        "Running sampletrain to train the classifier...\n",
        "\n",
        "\n",
        "Probability of \"quick\" given that \"good\": 0.571428571429\n",
        "Probability of \"money\" given that \"bad\": 1.0\n",
        "Weighted probability of  \"money\" given that \"bad\": 0.75\n"
       ]
      }
     ],
     "prompt_number": 86
    },
    {
     "cell_type": "code",
     "collapsed": false,
     "input": [
      "probabilidades_documentos_fisher()"
     ],
     "language": "python",
     "metadata": {},
     "outputs": [
      {
       "output_type": "stream",
       "stream": "stdout",
       "text": [
        "\n",
        "\n",
        "Running sampletrain to train the classifier...\n",
        "Classifying \"quick rabbit\": good\n",
        "Classifying \"quick money\": bad\n",
        "\n",
        "Setting the threshold up...\n",
        "Classifying \"quick money\": good\n",
        "\n",
        "Setting the threshold down...\n",
        "Classifying \"quick money\": bad\n"
       ]
      }
     ],
     "prompt_number": 87
    },
    {
     "cell_type": "code",
     "collapsed": false,
     "input": [
      "using_db_example()"
     ],
     "language": "python",
     "metadata": {},
     "outputs": [
      {
       "output_type": "stream",
       "stream": "stdout",
       "text": [
        "\n",
        "Instantiating a fisher classifier...\n",
        "Running sampletrain to train the classifier...\n",
        "\n",
        "Instantiating a naive bayes classifier..."
       ]
      },
      {
       "output_type": "stream",
       "stream": "stdout",
       "text": [
        "\n",
        "Classifying \"quick money\": bad\n"
       ]
      }
     ],
     "prompt_number": 88
    },
    {
     "cell_type": "code",
     "collapsed": false,
     "input": [
      "cl = classifying_blogs('Papa')"
     ],
     "language": "python",
     "metadata": {},
     "outputs": [
      {
       "output_type": "stream",
       "stream": "stdout",
       "text": [
        "2013-07-23 22:10:53\n",
        "\n",
        "-----\n",
        "Title:     <b>Papa</b> Francisco envia nova mensagem no Twitter durante JMJ | INFO\n",
        "Publisher: INFO Online - Not\u00edcias\n",
        "()\n",
        "S\u00e3o Paulo - O <em>Papa</em> Francisco parece que decidiu adotar de vez as redes sociais como uma ferramenta para manter o contato com os jovens. No final da tarde desta ter\u00e7a-feira,...\n",
        "Suggested: religiao"
       ]
      },
      {
       "output_type": "stream",
       "stream": "stdout",
       "text": [
        "\n",
        "Category \"religiao\" chosen"
       ]
      },
      {
       "output_type": "stream",
       "stream": "stdout",
       "text": [
        "\n",
        "2013-07-19 23:38:42"
       ]
      },
      {
       "output_type": "stream",
       "stream": "stdout",
       "text": [
        "\n",
        "\n",
        "-----\n",
        "Title:     G1 - Planalto divulga programa\u00e7\u00e3o de Dilma durante visita do <b>Papa</b> <b>...</b>\n",
        "Publisher: G1 > Rio de Janeiro\n",
        "()\n",
        "Presidente tem programados dois encontros no Rio com <em>Papa</em> Francisco. Na pr\u00f3xima segunda (22), ela receber\u00e1 pont\u00edfice na Base A\u00e9rea do Gale\u00e3o.\n",
        "Suggested: politica"
       ]
      },
      {
       "output_type": "stream",
       "stream": "stdout",
       "text": [
        "\n",
        "Category \"politica\" chosen"
       ]
      },
      {
       "output_type": "stream",
       "stream": "stdout",
       "text": [
        "\n",
        "2013-07-22 12:09:54"
       ]
      },
      {
       "output_type": "stream",
       "stream": "stdout",
       "text": [
        "\n",
        "\n",
        "-----\n",
        "Title:     G1 - A caminho do Brasil, <b>Papa</b> se diz preocupado com jovens sem <b>...</b>\n",
        "Publisher: G1 > Mundo\n",
        "()\n",
        "Francisco tamb\u00e9m condenou 'cultura de rejei\u00e7\u00e3o aos idosos'. Pont\u00edfice argentino vem ao Rio para a Jornada Mundial da Juventude.\n",
        "Suggested: nocao"
       ]
      },
      {
       "output_type": "stream",
       "stream": "stdout",
       "text": [
        "\n",
        "Category \"nocao\" chosen"
       ]
      },
      {
       "output_type": "stream",
       "stream": "stdout",
       "text": [
        "\n",
        "2013-07-23 10:06:00"
       ]
      },
      {
       "output_type": "stream",
       "stream": "stdout",
       "text": [
        "\n",
        "\n",
        "-----\n",
        "Title:     <b>Papa</b> Francisco e Dilma Rousseff em sintonia contra as <b>...</b> - P\u00fablico\n",
        "Publisher: Publico.pt - Geral\n",
        "()\n",
        "O <em>Papa</em> foi acolhido por um banho de multid\u00e3o que celebrou a sua primeira visita ao estrangeiro. Nas ruas, houve protestos como uma reac\u00e7\u00e3o \u00e0 pobreza e \u00e0 exclus\u00e3o que ele pr\u00f3prio quer combater. Balan\u00e7o: quatro feridos.\n",
        "Suggested: politica"
       ]
      },
      {
       "output_type": "stream",
       "stream": "stdout",
       "text": [
        "\n",
        "Category \"politica\" chosen"
       ]
      },
      {
       "output_type": "stream",
       "stream": "stdout",
       "text": [
        "\n",
        "2013-07-24 09:19:00"
       ]
      },
      {
       "output_type": "stream",
       "stream": "stdout",
       "text": [
        "\n",
        "\n",
        "-----\n",
        "Title:     <b>Papa</b> celebra hoje missa no maior templo americano - Expresso.pt\n",
        "Publisher: Ler Not\u00edcias - Informa\u00e7\u00e3o Actualizada ao Minuto!\n",
        "()\n",
        "\u00c9 aguardado como um dos pontos altos da visita do <em>Papa</em> Francisco ao Brasil. Cerca de 200 mil fi\u00e9is s\u00e3o esperados no Santu\u00e1rio da Nossa Senhora da Aparecida.\n",
        "Suggested: religiao"
       ]
      },
      {
       "output_type": "stream",
       "stream": "stdout",
       "text": [
        "\n",
        "Category \"religiao\" chosen"
       ]
      },
      {
       "output_type": "stream",
       "stream": "stdout",
       "text": [
        "\n",
        "2013-07-19 10:39:04"
       ]
      },
      {
       "output_type": "stream",
       "stream": "stdout",
       "text": [
        "\n",
        "\n",
        "-----\n",
        "Title:     G1 - No Twitter, <b>Papa</b> Francisco 'conta os dias' para o in\u00edcio da <b>...</b>\n",
        "Publisher: G1 > Mundo\n",
        "()\n",
        "'Faltam apenas tr\u00eas dias para nos vermos', escreveu o pont\u00edfice. Argentino chega ao Rio nesta segunda (22).\n",
        "Suggested: religiao"
       ]
      },
      {
       "output_type": "stream",
       "stream": "stdout",
       "text": [
        "\n",
        "Category \"religiao\" chosen"
       ]
      },
      {
       "output_type": "stream",
       "stream": "stdout",
       "text": [
        "\n",
        "2013-07-21 19:31:27"
       ]
      },
      {
       "output_type": "stream",
       "stream": "stdout",
       "text": [
        "\n",
        "\n",
        "-----\n",
        "Title:     <b>Papa</b> visita um Brasil com cada vez menos cat\u00f3licos - P\u00daBLICO\n",
        "Publisher: Publico.pt - Geral\n",
        "()\n",
        "Ora\u00e7\u00e3o s\u00f3 n\u00e3o chega, defende Francisco. \u00c9 preciso ac\u00e7\u00e3o.\n",
        "Suggested: religiao"
       ]
      },
      {
       "output_type": "stream",
       "stream": "stdout",
       "text": [
        "\n",
        "Category \"religiao\" chosen"
       ]
      },
      {
       "output_type": "stream",
       "stream": "stdout",
       "text": [
        "\n",
        "2013-07-19 14:19:34"
       ]
      },
      {
       "output_type": "stream",
       "stream": "stdout",
       "text": [
        "\n",
        "\n",
        "-----\n",
        "Title:     <b>Papa</b> cria comiss\u00e3o para reforma do Vaticano - P\u00daBLICO\n",
        "Publisher: Publico.pt - Geral\n",
        "()\n",
        "Administra\u00e7\u00e3o do estado vai ser repensada com o objectivo de ser tornar mais simples e transparente.\n",
        "Suggested: religiao"
       ]
      },
      {
       "output_type": "stream",
       "stream": "stdout",
       "text": [
        "\n",
        "Category \"religiao\" chosen"
       ]
      },
      {
       "output_type": "stream",
       "stream": "stdout",
       "text": [
        "\n",
        "2013-07-22 14:44:40"
       ]
      },
      {
       "output_type": "stream",
       "stream": "stdout",
       "text": [
        "\n",
        "\n",
        "-----\n",
        "Title:     Internautas brincam com 'chifres' vermelhos no <b>Papa</b> em capa da\n",
        "Publisher: G1 > Mundo\n",
        "()\n",
        "Impress\u00e3o \u00e9 dada por foto do <em>Papa</em>, sobreposta ao M do nome da revista. Publica\u00e7\u00e3o questiona se pont\u00edfice pode recuperar a Igreja latino-americana.\n",
        "Suggested: nocao"
       ]
      },
      {
       "output_type": "stream",
       "stream": "stdout",
       "text": [
        "\n",
        "Category \"nocao\" chosen"
       ]
      },
      {
       "output_type": "stream",
       "stream": "stdout",
       "text": [
        "\n",
        "2013-07-18 21:29:00"
       ]
      },
      {
       "output_type": "stream",
       "stream": "stdout",
       "text": [
        "\n",
        "\n",
        "-----\n",
        "Title:     'Ele \u00e9 muito simples', diz ga\u00facho que conheceu o <b>Papa</b> ap\u00f3s enviar\n",
        "Publisher: G1 > Brasil\n",
        "()\n",
        "Leandro Martins se encontrou com pont\u00edfice na quarta (17), no Vaticano. Ga\u00facho de Porto Alegre percorre a Europa de bicicleta desde maio.\n",
        "Suggested: miscelanea"
       ]
      },
      {
       "output_type": "stream",
       "stream": "stdout",
       "text": [
        "\n",
        "Category \"miscelanea\" chosen"
       ]
      },
      {
       "output_type": "stream",
       "stream": "stdout",
       "text": [
        "\n",
        "\n",
        "List of categories stored in the database:"
       ]
      },
      {
       "output_type": "stream",
       "stream": "stdout",
       "text": [
        "\n",
        "direito\n",
        "fgv\n",
        "economia\n",
        "concurso\n",
        "emprego\n",
        "ecologia\n",
        "religiao\n",
        "politica\n",
        "nocao\n",
        "miscelanea\n"
       ]
      }
     ],
     "prompt_number": 89
    },
    {
     "cell_type": "raw",
     "metadata": {},
     "source": [
      "Do some tests now:\n",
      "\n",
      "cl.cprob(<category>,<word>)\n",
      "\n",
      "cl.fprob(<word>,<category>)"
     ]
    },
    {
     "cell_type": "code",
     "collapsed": false,
     "input": [
      "print(cl.cprob('fgv','economia'))\n",
      "print(cl.fprob('direito','fgv'))"
     ],
     "language": "python",
     "metadata": {},
     "outputs": [
      {
       "output_type": "stream",
       "stream": "stdout",
       "text": [
        "0\n",
        "0.0549450549451\n"
       ]
      }
     ],
     "prompt_number": 90
    }
   ],
   "metadata": {}
  }
 ]
}