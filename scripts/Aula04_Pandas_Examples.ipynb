{
 "metadata": {
  "name": "Aula04_Pandas_Examples.ipynb"
 },
 "nbformat": 3,
 "nbformat_minor": 0,
 "worksheets": [
  {
   "cells": [
    {
     "cell_type": "heading",
     "level": 2,
     "metadata": {},
     "source": [
      "Introduction to Pandas"
     ]
    },
    {
     "cell_type": "code",
     "collapsed": false,
     "input": [
      "import pandas as pd\n",
      "import numpy as np\n",
      "import matplotlib.pyplot as plt"
     ],
     "language": "python",
     "metadata": {},
     "outputs": [],
     "prompt_number": 1
    },
    {
     "cell_type": "code",
     "collapsed": false,
     "input": [
      "datapath = \"/Users/Luciano/Dropbox/GitHubRepos/MMD/datasets/names/\""
     ],
     "language": "python",
     "metadata": {},
     "outputs": [],
     "prompt_number": 39
    },
    {
     "cell_type": "heading",
     "level": 3,
     "metadata": {},
     "source": [
      "Pandas Data Structures: Series"
     ]
    },
    {
     "cell_type": "code",
     "collapsed": false,
     "input": [
      "obj = pd.Series([4, 7, -5, 3, 5])\n",
      "obj"
     ],
     "language": "python",
     "metadata": {},
     "outputs": [
      {
       "metadata": {},
       "output_type": "pyout",
       "prompt_number": 3,
       "text": [
        "0    4\n",
        "1    7\n",
        "2   -5\n",
        "3    3\n",
        "4    5\n",
        "dtype: int64"
       ]
      }
     ],
     "prompt_number": 3
    },
    {
     "cell_type": "code",
     "collapsed": false,
     "input": [
      "obj.values"
     ],
     "language": "python",
     "metadata": {},
     "outputs": [
      {
       "metadata": {},
       "output_type": "pyout",
       "prompt_number": 4,
       "text": [
        "array([ 4,  7, -5,  3,  5])"
       ]
      }
     ],
     "prompt_number": 4
    },
    {
     "cell_type": "code",
     "collapsed": false,
     "input": [
      "obj.index"
     ],
     "language": "python",
     "metadata": {},
     "outputs": [
      {
       "metadata": {},
       "output_type": "pyout",
       "prompt_number": 5,
       "text": [
        "Int64Index([0, 1, 2, 3, 4], dtype=int64)"
       ]
      }
     ],
     "prompt_number": 5
    },
    {
     "cell_type": "code",
     "collapsed": false,
     "input": [
      "obj.index = ['Bob', 'Steve', 'Jeff', 'Ryan', 'Fernie']\n",
      "obj"
     ],
     "language": "python",
     "metadata": {},
     "outputs": [
      {
       "metadata": {},
       "output_type": "pyout",
       "prompt_number": 6,
       "text": [
        "Bob       4\n",
        "Steve     7\n",
        "Jeff     -5\n",
        "Ryan      3\n",
        "Fernie    5\n",
        "dtype: int64"
       ]
      }
     ],
     "prompt_number": 6
    },
    {
     "cell_type": "code",
     "collapsed": false,
     "input": [
      "obj2 = pd.Series([4, 7, -5, 3], index=['d', 'b', 'a', 'c'])\n",
      "obj2"
     ],
     "language": "python",
     "metadata": {},
     "outputs": [
      {
       "metadata": {},
       "output_type": "pyout",
       "prompt_number": 7,
       "text": [
        "d    4\n",
        "b    7\n",
        "a   -5\n",
        "c    3\n",
        "dtype: int64"
       ]
      }
     ],
     "prompt_number": 7
    },
    {
     "cell_type": "code",
     "collapsed": false,
     "input": [
      "obj2['c']"
     ],
     "language": "python",
     "metadata": {},
     "outputs": [
      {
       "metadata": {},
       "output_type": "pyout",
       "prompt_number": 8,
       "text": [
        "3"
       ]
      }
     ],
     "prompt_number": 8
    },
    {
     "cell_type": "code",
     "collapsed": false,
     "input": [
      "obj2[['c', 'a', 'd']]"
     ],
     "language": "python",
     "metadata": {},
     "outputs": [
      {
       "metadata": {},
       "output_type": "pyout",
       "prompt_number": 9,
       "text": [
        "c    3\n",
        "a   -5\n",
        "d    4\n",
        "dtype: int64"
       ]
      }
     ],
     "prompt_number": 9
    },
    {
     "cell_type": "code",
     "collapsed": false,
     "input": [
      "obj2[obj2 < 0]"
     ],
     "language": "python",
     "metadata": {},
     "outputs": [
      {
       "metadata": {},
       "output_type": "pyout",
       "prompt_number": 10,
       "text": [
        "a   -5\n",
        "dtype: int64"
       ]
      }
     ],
     "prompt_number": 10
    },
    {
     "cell_type": "code",
     "collapsed": false,
     "input": [
      "obj2 * 2"
     ],
     "language": "python",
     "metadata": {},
     "outputs": [
      {
       "metadata": {},
       "output_type": "pyout",
       "prompt_number": 11,
       "text": [
        "d     8\n",
        "b    14\n",
        "a   -10\n",
        "c     6\n",
        "dtype: int64"
       ]
      }
     ],
     "prompt_number": 11
    },
    {
     "cell_type": "code",
     "collapsed": false,
     "input": [
      "np.exp(obj2)"
     ],
     "language": "python",
     "metadata": {},
     "outputs": [
      {
       "metadata": {},
       "output_type": "pyout",
       "prompt_number": 12,
       "text": [
        "d      54.598150\n",
        "b    1096.633158\n",
        "a       0.006738\n",
        "c      20.085537\n",
        "dtype: float64"
       ]
      }
     ],
     "prompt_number": 12
    },
    {
     "cell_type": "code",
     "collapsed": false,
     "input": [
      "sdata = {'Ohio': 35000, 'Texas': 71000, 'Oregon': 16000, 'Utah': 5000}\n",
      "obj3 = pd.Series(sdata)\n",
      "obj3"
     ],
     "language": "python",
     "metadata": {},
     "outputs": [
      {
       "metadata": {},
       "output_type": "pyout",
       "prompt_number": 13,
       "text": [
        "Ohio      35000\n",
        "Oregon    16000\n",
        "Texas     71000\n",
        "Utah       5000\n",
        "dtype: int64"
       ]
      }
     ],
     "prompt_number": 13
    },
    {
     "cell_type": "code",
     "collapsed": false,
     "input": [
      "states = ['California', 'Ohio', 'Oregon', 'Texas']\n",
      "obj4 = pd.Series(sdata, index=states)\n",
      "obj4"
     ],
     "language": "python",
     "metadata": {},
     "outputs": [
      {
       "metadata": {},
       "output_type": "pyout",
       "prompt_number": 14,
       "text": [
        "California      NaN\n",
        "Ohio          35000\n",
        "Oregon        16000\n",
        "Texas         71000\n",
        "dtype: float64"
       ]
      }
     ],
     "prompt_number": 14
    },
    {
     "cell_type": "code",
     "collapsed": false,
     "input": [
      "pd.isnull(obj4)"
     ],
     "language": "python",
     "metadata": {},
     "outputs": [
      {
       "metadata": {},
       "output_type": "pyout",
       "prompt_number": 15,
       "text": [
        "California     True\n",
        "Ohio          False\n",
        "Oregon        False\n",
        "Texas         False\n",
        "dtype: bool"
       ]
      }
     ],
     "prompt_number": 15
    },
    {
     "cell_type": "code",
     "collapsed": false,
     "input": [
      "pd.notnull(obj4)"
     ],
     "language": "python",
     "metadata": {},
     "outputs": [
      {
       "metadata": {},
       "output_type": "pyout",
       "prompt_number": 16,
       "text": [
        "California    False\n",
        "Ohio           True\n",
        "Oregon         True\n",
        "Texas          True\n",
        "dtype: bool"
       ]
      }
     ],
     "prompt_number": 16
    },
    {
     "cell_type": "code",
     "collapsed": false,
     "input": [
      "obj3 + obj4"
     ],
     "language": "python",
     "metadata": {},
     "outputs": [
      {
       "metadata": {},
       "output_type": "pyout",
       "prompt_number": 17,
       "text": [
        "California       NaN\n",
        "Ohio           70000\n",
        "Oregon         32000\n",
        "Texas         142000\n",
        "Utah             NaN\n",
        "dtype: float64"
       ]
      }
     ],
     "prompt_number": 17
    },
    {
     "cell_type": "code",
     "collapsed": false,
     "input": [
      "obj4.name = 'population'\n",
      "obj4.index.name = 'state'\n",
      "obj4"
     ],
     "language": "python",
     "metadata": {},
     "outputs": [
      {
       "metadata": {},
       "output_type": "pyout",
       "prompt_number": 18,
       "text": [
        "state\n",
        "California      NaN\n",
        "Ohio          35000\n",
        "Oregon        16000\n",
        "Texas         71000\n",
        "Name: population, dtype: float64"
       ]
      }
     ],
     "prompt_number": 18
    },
    {
     "cell_type": "heading",
     "level": 3,
     "metadata": {},
     "source": [
      "Pandas Data Structures: Dataframe"
     ]
    },
    {
     "cell_type": "code",
     "collapsed": false,
     "input": [
      "data = {'state': ['Ohio', 'Ohio', 'Ohio', 'Nevada', 'Nevada'],'year': [2000, 2001, 2002, 2001, 2002],'pop': [1.5, 1.7, 3.6, 2.4, 2.9]}\n",
      "frame = pd.DataFrame(data)\n",
      "frame"
     ],
     "language": "python",
     "metadata": {},
     "outputs": [
      {
       "html": [
        "<div style=\"max-height:1000px;max-width:1500px;overflow:auto;\">\n",
        "<table border=\"1\" class=\"dataframe\">\n",
        "  <thead>\n",
        "    <tr style=\"text-align: right;\">\n",
        "      <th></th>\n",
        "      <th>pop</th>\n",
        "      <th>state</th>\n",
        "      <th>year</th>\n",
        "    </tr>\n",
        "  </thead>\n",
        "  <tbody>\n",
        "    <tr>\n",
        "      <th>0</th>\n",
        "      <td> 1.5</td>\n",
        "      <td>   Ohio</td>\n",
        "      <td> 2000</td>\n",
        "    </tr>\n",
        "    <tr>\n",
        "      <th>1</th>\n",
        "      <td> 1.7</td>\n",
        "      <td>   Ohio</td>\n",
        "      <td> 2001</td>\n",
        "    </tr>\n",
        "    <tr>\n",
        "      <th>2</th>\n",
        "      <td> 3.6</td>\n",
        "      <td>   Ohio</td>\n",
        "      <td> 2002</td>\n",
        "    </tr>\n",
        "    <tr>\n",
        "      <th>3</th>\n",
        "      <td> 2.4</td>\n",
        "      <td> Nevada</td>\n",
        "      <td> 2001</td>\n",
        "    </tr>\n",
        "    <tr>\n",
        "      <th>4</th>\n",
        "      <td> 2.9</td>\n",
        "      <td> Nevada</td>\n",
        "      <td> 2002</td>\n",
        "    </tr>\n",
        "  </tbody>\n",
        "</table>\n",
        "</div>"
       ],
       "metadata": {},
       "output_type": "pyout",
       "prompt_number": 19,
       "text": [
        "   pop   state  year\n",
        "0  1.5    Ohio  2000\n",
        "1  1.7    Ohio  2001\n",
        "2  3.6    Ohio  2002\n",
        "3  2.4  Nevada  2001\n",
        "4  2.9  Nevada  2002"
       ]
      }
     ],
     "prompt_number": 19
    },
    {
     "cell_type": "code",
     "collapsed": false,
     "input": [
      "pd.DataFrame(data, columns=['year', 'state', 'pop'])"
     ],
     "language": "python",
     "metadata": {},
     "outputs": [
      {
       "html": [
        "<div style=\"max-height:1000px;max-width:1500px;overflow:auto;\">\n",
        "<table border=\"1\" class=\"dataframe\">\n",
        "  <thead>\n",
        "    <tr style=\"text-align: right;\">\n",
        "      <th></th>\n",
        "      <th>year</th>\n",
        "      <th>state</th>\n",
        "      <th>pop</th>\n",
        "    </tr>\n",
        "  </thead>\n",
        "  <tbody>\n",
        "    <tr>\n",
        "      <th>0</th>\n",
        "      <td> 2000</td>\n",
        "      <td>   Ohio</td>\n",
        "      <td> 1.5</td>\n",
        "    </tr>\n",
        "    <tr>\n",
        "      <th>1</th>\n",
        "      <td> 2001</td>\n",
        "      <td>   Ohio</td>\n",
        "      <td> 1.7</td>\n",
        "    </tr>\n",
        "    <tr>\n",
        "      <th>2</th>\n",
        "      <td> 2002</td>\n",
        "      <td>   Ohio</td>\n",
        "      <td> 3.6</td>\n",
        "    </tr>\n",
        "    <tr>\n",
        "      <th>3</th>\n",
        "      <td> 2001</td>\n",
        "      <td> Nevada</td>\n",
        "      <td> 2.4</td>\n",
        "    </tr>\n",
        "    <tr>\n",
        "      <th>4</th>\n",
        "      <td> 2002</td>\n",
        "      <td> Nevada</td>\n",
        "      <td> 2.9</td>\n",
        "    </tr>\n",
        "  </tbody>\n",
        "</table>\n",
        "</div>"
       ],
       "metadata": {},
       "output_type": "pyout",
       "prompt_number": 20,
       "text": [
        "   year   state  pop\n",
        "0  2000    Ohio  1.5\n",
        "1  2001    Ohio  1.7\n",
        "2  2002    Ohio  3.6\n",
        "3  2001  Nevada  2.4\n",
        "4  2002  Nevada  2.9"
       ]
      }
     ],
     "prompt_number": 20
    },
    {
     "cell_type": "code",
     "collapsed": false,
     "input": [
      "frame2 = pd.DataFrame(data, columns=['year', 'state', 'pop', 'debt'],index=['one', 'two', 'three', 'four', 'five'])\n",
      "frame2"
     ],
     "language": "python",
     "metadata": {},
     "outputs": [
      {
       "html": [
        "<div style=\"max-height:1000px;max-width:1500px;overflow:auto;\">\n",
        "<table border=\"1\" class=\"dataframe\">\n",
        "  <thead>\n",
        "    <tr style=\"text-align: right;\">\n",
        "      <th></th>\n",
        "      <th>year</th>\n",
        "      <th>state</th>\n",
        "      <th>pop</th>\n",
        "      <th>debt</th>\n",
        "    </tr>\n",
        "  </thead>\n",
        "  <tbody>\n",
        "    <tr>\n",
        "      <th>one</th>\n",
        "      <td> 2000</td>\n",
        "      <td>   Ohio</td>\n",
        "      <td> 1.5</td>\n",
        "      <td> NaN</td>\n",
        "    </tr>\n",
        "    <tr>\n",
        "      <th>two</th>\n",
        "      <td> 2001</td>\n",
        "      <td>   Ohio</td>\n",
        "      <td> 1.7</td>\n",
        "      <td> NaN</td>\n",
        "    </tr>\n",
        "    <tr>\n",
        "      <th>three</th>\n",
        "      <td> 2002</td>\n",
        "      <td>   Ohio</td>\n",
        "      <td> 3.6</td>\n",
        "      <td> NaN</td>\n",
        "    </tr>\n",
        "    <tr>\n",
        "      <th>four</th>\n",
        "      <td> 2001</td>\n",
        "      <td> Nevada</td>\n",
        "      <td> 2.4</td>\n",
        "      <td> NaN</td>\n",
        "    </tr>\n",
        "    <tr>\n",
        "      <th>five</th>\n",
        "      <td> 2002</td>\n",
        "      <td> Nevada</td>\n",
        "      <td> 2.9</td>\n",
        "      <td> NaN</td>\n",
        "    </tr>\n",
        "  </tbody>\n",
        "</table>\n",
        "</div>"
       ],
       "metadata": {},
       "output_type": "pyout",
       "prompt_number": 21,
       "text": [
        "       year   state  pop debt\n",
        "one    2000    Ohio  1.5  NaN\n",
        "two    2001    Ohio  1.7  NaN\n",
        "three  2002    Ohio  3.6  NaN\n",
        "four   2001  Nevada  2.4  NaN\n",
        "five   2002  Nevada  2.9  NaN"
       ]
      }
     ],
     "prompt_number": 21
    },
    {
     "cell_type": "code",
     "collapsed": false,
     "input": [
      "frame2['nova'] = 13\n",
      "frame2"
     ],
     "language": "python",
     "metadata": {},
     "outputs": [
      {
       "html": [
        "<div style=\"max-height:1000px;max-width:1500px;overflow:auto;\">\n",
        "<table border=\"1\" class=\"dataframe\">\n",
        "  <thead>\n",
        "    <tr style=\"text-align: right;\">\n",
        "      <th></th>\n",
        "      <th>year</th>\n",
        "      <th>state</th>\n",
        "      <th>pop</th>\n",
        "      <th>debt</th>\n",
        "      <th>nova</th>\n",
        "    </tr>\n",
        "  </thead>\n",
        "  <tbody>\n",
        "    <tr>\n",
        "      <th>one</th>\n",
        "      <td> 2000</td>\n",
        "      <td>   Ohio</td>\n",
        "      <td> 1.5</td>\n",
        "      <td> NaN</td>\n",
        "      <td> 13</td>\n",
        "    </tr>\n",
        "    <tr>\n",
        "      <th>two</th>\n",
        "      <td> 2001</td>\n",
        "      <td>   Ohio</td>\n",
        "      <td> 1.7</td>\n",
        "      <td> NaN</td>\n",
        "      <td> 13</td>\n",
        "    </tr>\n",
        "    <tr>\n",
        "      <th>three</th>\n",
        "      <td> 2002</td>\n",
        "      <td>   Ohio</td>\n",
        "      <td> 3.6</td>\n",
        "      <td> NaN</td>\n",
        "      <td> 13</td>\n",
        "    </tr>\n",
        "    <tr>\n",
        "      <th>four</th>\n",
        "      <td> 2001</td>\n",
        "      <td> Nevada</td>\n",
        "      <td> 2.4</td>\n",
        "      <td> NaN</td>\n",
        "      <td> 13</td>\n",
        "    </tr>\n",
        "    <tr>\n",
        "      <th>five</th>\n",
        "      <td> 2002</td>\n",
        "      <td> Nevada</td>\n",
        "      <td> 2.9</td>\n",
        "      <td> NaN</td>\n",
        "      <td> 13</td>\n",
        "    </tr>\n",
        "  </tbody>\n",
        "</table>\n",
        "</div>"
       ],
       "metadata": {},
       "output_type": "pyout",
       "prompt_number": 22,
       "text": [
        "       year   state  pop debt  nova\n",
        "one    2000    Ohio  1.5  NaN    13\n",
        "two    2001    Ohio  1.7  NaN    13\n",
        "three  2002    Ohio  3.6  NaN    13\n",
        "four   2001  Nevada  2.4  NaN    13\n",
        "five   2002  Nevada  2.9  NaN    13"
       ]
      }
     ],
     "prompt_number": 22
    },
    {
     "cell_type": "code",
     "collapsed": false,
     "input": [
      "frame2.nova = 23\n",
      "frame2"
     ],
     "language": "python",
     "metadata": {},
     "outputs": [
      {
       "html": [
        "<div style=\"max-height:1000px;max-width:1500px;overflow:auto;\">\n",
        "<table border=\"1\" class=\"dataframe\">\n",
        "  <thead>\n",
        "    <tr style=\"text-align: right;\">\n",
        "      <th></th>\n",
        "      <th>year</th>\n",
        "      <th>state</th>\n",
        "      <th>pop</th>\n",
        "      <th>debt</th>\n",
        "      <th>nova</th>\n",
        "    </tr>\n",
        "  </thead>\n",
        "  <tbody>\n",
        "    <tr>\n",
        "      <th>one</th>\n",
        "      <td> 2000</td>\n",
        "      <td>   Ohio</td>\n",
        "      <td> 1.5</td>\n",
        "      <td> NaN</td>\n",
        "      <td> 23</td>\n",
        "    </tr>\n",
        "    <tr>\n",
        "      <th>two</th>\n",
        "      <td> 2001</td>\n",
        "      <td>   Ohio</td>\n",
        "      <td> 1.7</td>\n",
        "      <td> NaN</td>\n",
        "      <td> 23</td>\n",
        "    </tr>\n",
        "    <tr>\n",
        "      <th>three</th>\n",
        "      <td> 2002</td>\n",
        "      <td>   Ohio</td>\n",
        "      <td> 3.6</td>\n",
        "      <td> NaN</td>\n",
        "      <td> 23</td>\n",
        "    </tr>\n",
        "    <tr>\n",
        "      <th>four</th>\n",
        "      <td> 2001</td>\n",
        "      <td> Nevada</td>\n",
        "      <td> 2.4</td>\n",
        "      <td> NaN</td>\n",
        "      <td> 23</td>\n",
        "    </tr>\n",
        "    <tr>\n",
        "      <th>five</th>\n",
        "      <td> 2002</td>\n",
        "      <td> Nevada</td>\n",
        "      <td> 2.9</td>\n",
        "      <td> NaN</td>\n",
        "      <td> 23</td>\n",
        "    </tr>\n",
        "  </tbody>\n",
        "</table>\n",
        "</div>"
       ],
       "metadata": {},
       "output_type": "pyout",
       "prompt_number": 23,
       "text": [
        "       year   state  pop debt  nova\n",
        "one    2000    Ohio  1.5  NaN    23\n",
        "two    2001    Ohio  1.7  NaN    23\n",
        "three  2002    Ohio  3.6  NaN    23\n",
        "four   2001  Nevada  2.4  NaN    23\n",
        "five   2002  Nevada  2.9  NaN    23"
       ]
      }
     ],
     "prompt_number": 23
    },
    {
     "cell_type": "code",
     "collapsed": false,
     "input": [
      "frame2.columns"
     ],
     "language": "python",
     "metadata": {},
     "outputs": [
      {
       "metadata": {},
       "output_type": "pyout",
       "prompt_number": 24,
       "text": [
        "Index([u'year', u'state', u'pop', u'debt', u'nova'], dtype=object)"
       ]
      }
     ],
     "prompt_number": 24
    },
    {
     "cell_type": "code",
     "collapsed": false,
     "input": [
      "frame2['state']"
     ],
     "language": "python",
     "metadata": {},
     "outputs": [
      {
       "metadata": {},
       "output_type": "pyout",
       "prompt_number": 25,
       "text": [
        "one        Ohio\n",
        "two        Ohio\n",
        "three      Ohio\n",
        "four     Nevada\n",
        "five     Nevada\n",
        "Name: state, dtype: object"
       ]
      }
     ],
     "prompt_number": 25
    },
    {
     "cell_type": "code",
     "collapsed": false,
     "input": [
      "frame2.state"
     ],
     "language": "python",
     "metadata": {},
     "outputs": [
      {
       "metadata": {},
       "output_type": "pyout",
       "prompt_number": 26,
       "text": [
        "one        Ohio\n",
        "two        Ohio\n",
        "three      Ohio\n",
        "four     Nevada\n",
        "five     Nevada\n",
        "Name: state, dtype: object"
       ]
      }
     ],
     "prompt_number": 26
    },
    {
     "cell_type": "code",
     "collapsed": false,
     "input": [
      "frame2.ix['three']"
     ],
     "language": "python",
     "metadata": {},
     "outputs": [
      {
       "metadata": {},
       "output_type": "pyout",
       "prompt_number": 27,
       "text": [
        "year     2002\n",
        "state    Ohio\n",
        "pop       3.6\n",
        "debt      NaN\n",
        "nova       23\n",
        "Name: three, dtype: object"
       ]
      }
     ],
     "prompt_number": 27
    },
    {
     "cell_type": "code",
     "collapsed": false,
     "input": [
      "frame2['debt'] = 16.5\n",
      "frame2"
     ],
     "language": "python",
     "metadata": {},
     "outputs": [
      {
       "html": [
        "<div style=\"max-height:1000px;max-width:1500px;overflow:auto;\">\n",
        "<table border=\"1\" class=\"dataframe\">\n",
        "  <thead>\n",
        "    <tr style=\"text-align: right;\">\n",
        "      <th></th>\n",
        "      <th>year</th>\n",
        "      <th>state</th>\n",
        "      <th>pop</th>\n",
        "      <th>debt</th>\n",
        "      <th>nova</th>\n",
        "    </tr>\n",
        "  </thead>\n",
        "  <tbody>\n",
        "    <tr>\n",
        "      <th>one</th>\n",
        "      <td> 2000</td>\n",
        "      <td>   Ohio</td>\n",
        "      <td> 1.5</td>\n",
        "      <td> 16.5</td>\n",
        "      <td> 23</td>\n",
        "    </tr>\n",
        "    <tr>\n",
        "      <th>two</th>\n",
        "      <td> 2001</td>\n",
        "      <td>   Ohio</td>\n",
        "      <td> 1.7</td>\n",
        "      <td> 16.5</td>\n",
        "      <td> 23</td>\n",
        "    </tr>\n",
        "    <tr>\n",
        "      <th>three</th>\n",
        "      <td> 2002</td>\n",
        "      <td>   Ohio</td>\n",
        "      <td> 3.6</td>\n",
        "      <td> 16.5</td>\n",
        "      <td> 23</td>\n",
        "    </tr>\n",
        "    <tr>\n",
        "      <th>four</th>\n",
        "      <td> 2001</td>\n",
        "      <td> Nevada</td>\n",
        "      <td> 2.4</td>\n",
        "      <td> 16.5</td>\n",
        "      <td> 23</td>\n",
        "    </tr>\n",
        "    <tr>\n",
        "      <th>five</th>\n",
        "      <td> 2002</td>\n",
        "      <td> Nevada</td>\n",
        "      <td> 2.9</td>\n",
        "      <td> 16.5</td>\n",
        "      <td> 23</td>\n",
        "    </tr>\n",
        "  </tbody>\n",
        "</table>\n",
        "</div>"
       ],
       "metadata": {},
       "output_type": "pyout",
       "prompt_number": 28,
       "text": [
        "       year   state  pop  debt  nova\n",
        "one    2000    Ohio  1.5  16.5    23\n",
        "two    2001    Ohio  1.7  16.5    23\n",
        "three  2002    Ohio  3.6  16.5    23\n",
        "four   2001  Nevada  2.4  16.5    23\n",
        "five   2002  Nevada  2.9  16.5    23"
       ]
      }
     ],
     "prompt_number": 28
    },
    {
     "cell_type": "code",
     "collapsed": false,
     "input": [
      "frame2['debt'] = np.arange(5.)\n",
      "frame2"
     ],
     "language": "python",
     "metadata": {},
     "outputs": [
      {
       "html": [
        "<div style=\"max-height:1000px;max-width:1500px;overflow:auto;\">\n",
        "<table border=\"1\" class=\"dataframe\">\n",
        "  <thead>\n",
        "    <tr style=\"text-align: right;\">\n",
        "      <th></th>\n",
        "      <th>year</th>\n",
        "      <th>state</th>\n",
        "      <th>pop</th>\n",
        "      <th>debt</th>\n",
        "      <th>nova</th>\n",
        "    </tr>\n",
        "  </thead>\n",
        "  <tbody>\n",
        "    <tr>\n",
        "      <th>one</th>\n",
        "      <td> 2000</td>\n",
        "      <td>   Ohio</td>\n",
        "      <td> 1.5</td>\n",
        "      <td> 0</td>\n",
        "      <td> 23</td>\n",
        "    </tr>\n",
        "    <tr>\n",
        "      <th>two</th>\n",
        "      <td> 2001</td>\n",
        "      <td>   Ohio</td>\n",
        "      <td> 1.7</td>\n",
        "      <td> 1</td>\n",
        "      <td> 23</td>\n",
        "    </tr>\n",
        "    <tr>\n",
        "      <th>three</th>\n",
        "      <td> 2002</td>\n",
        "      <td>   Ohio</td>\n",
        "      <td> 3.6</td>\n",
        "      <td> 2</td>\n",
        "      <td> 23</td>\n",
        "    </tr>\n",
        "    <tr>\n",
        "      <th>four</th>\n",
        "      <td> 2001</td>\n",
        "      <td> Nevada</td>\n",
        "      <td> 2.4</td>\n",
        "      <td> 3</td>\n",
        "      <td> 23</td>\n",
        "    </tr>\n",
        "    <tr>\n",
        "      <th>five</th>\n",
        "      <td> 2002</td>\n",
        "      <td> Nevada</td>\n",
        "      <td> 2.9</td>\n",
        "      <td> 4</td>\n",
        "      <td> 23</td>\n",
        "    </tr>\n",
        "  </tbody>\n",
        "</table>\n",
        "</div>"
       ],
       "metadata": {},
       "output_type": "pyout",
       "prompt_number": 29,
       "text": [
        "       year   state  pop  debt  nova\n",
        "one    2000    Ohio  1.5     0    23\n",
        "two    2001    Ohio  1.7     1    23\n",
        "three  2002    Ohio  3.6     2    23\n",
        "four   2001  Nevada  2.4     3    23\n",
        "five   2002  Nevada  2.9     4    23"
       ]
      }
     ],
     "prompt_number": 29
    },
    {
     "cell_type": "code",
     "collapsed": false,
     "input": [
      "val = pd.Series([-1.2, -1.5, -1.7], index=['two', 'four', 'five'])\n",
      "frame2['debt'] = val\n",
      "frame2"
     ],
     "language": "python",
     "metadata": {},
     "outputs": [
      {
       "html": [
        "<div style=\"max-height:1000px;max-width:1500px;overflow:auto;\">\n",
        "<table border=\"1\" class=\"dataframe\">\n",
        "  <thead>\n",
        "    <tr style=\"text-align: right;\">\n",
        "      <th></th>\n",
        "      <th>year</th>\n",
        "      <th>state</th>\n",
        "      <th>pop</th>\n",
        "      <th>debt</th>\n",
        "      <th>nova</th>\n",
        "    </tr>\n",
        "  </thead>\n",
        "  <tbody>\n",
        "    <tr>\n",
        "      <th>one</th>\n",
        "      <td> 2000</td>\n",
        "      <td>   Ohio</td>\n",
        "      <td> 1.5</td>\n",
        "      <td> NaN</td>\n",
        "      <td> 23</td>\n",
        "    </tr>\n",
        "    <tr>\n",
        "      <th>two</th>\n",
        "      <td> 2001</td>\n",
        "      <td>   Ohio</td>\n",
        "      <td> 1.7</td>\n",
        "      <td>-1.2</td>\n",
        "      <td> 23</td>\n",
        "    </tr>\n",
        "    <tr>\n",
        "      <th>three</th>\n",
        "      <td> 2002</td>\n",
        "      <td>   Ohio</td>\n",
        "      <td> 3.6</td>\n",
        "      <td> NaN</td>\n",
        "      <td> 23</td>\n",
        "    </tr>\n",
        "    <tr>\n",
        "      <th>four</th>\n",
        "      <td> 2001</td>\n",
        "      <td> Nevada</td>\n",
        "      <td> 2.4</td>\n",
        "      <td>-1.5</td>\n",
        "      <td> 23</td>\n",
        "    </tr>\n",
        "    <tr>\n",
        "      <th>five</th>\n",
        "      <td> 2002</td>\n",
        "      <td> Nevada</td>\n",
        "      <td> 2.9</td>\n",
        "      <td>-1.7</td>\n",
        "      <td> 23</td>\n",
        "    </tr>\n",
        "  </tbody>\n",
        "</table>\n",
        "</div>"
       ],
       "metadata": {},
       "output_type": "pyout",
       "prompt_number": 30,
       "text": [
        "       year   state  pop  debt  nova\n",
        "one    2000    Ohio  1.5   NaN    23\n",
        "two    2001    Ohio  1.7  -1.2    23\n",
        "three  2002    Ohio  3.6   NaN    23\n",
        "four   2001  Nevada  2.4  -1.5    23\n",
        "five   2002  Nevada  2.9  -1.7    23"
       ]
      }
     ],
     "prompt_number": 30
    },
    {
     "cell_type": "code",
     "collapsed": false,
     "input": [
      "frame2['eastern'] = frame2.state == 'Ohio'\n",
      "frame2"
     ],
     "language": "python",
     "metadata": {},
     "outputs": [
      {
       "html": [
        "<div style=\"max-height:1000px;max-width:1500px;overflow:auto;\">\n",
        "<table border=\"1\" class=\"dataframe\">\n",
        "  <thead>\n",
        "    <tr style=\"text-align: right;\">\n",
        "      <th></th>\n",
        "      <th>year</th>\n",
        "      <th>state</th>\n",
        "      <th>pop</th>\n",
        "      <th>debt</th>\n",
        "      <th>nova</th>\n",
        "      <th>eastern</th>\n",
        "    </tr>\n",
        "  </thead>\n",
        "  <tbody>\n",
        "    <tr>\n",
        "      <th>one</th>\n",
        "      <td> 2000</td>\n",
        "      <td>   Ohio</td>\n",
        "      <td> 1.5</td>\n",
        "      <td> NaN</td>\n",
        "      <td> 23</td>\n",
        "      <td>  True</td>\n",
        "    </tr>\n",
        "    <tr>\n",
        "      <th>two</th>\n",
        "      <td> 2001</td>\n",
        "      <td>   Ohio</td>\n",
        "      <td> 1.7</td>\n",
        "      <td>-1.2</td>\n",
        "      <td> 23</td>\n",
        "      <td>  True</td>\n",
        "    </tr>\n",
        "    <tr>\n",
        "      <th>three</th>\n",
        "      <td> 2002</td>\n",
        "      <td>   Ohio</td>\n",
        "      <td> 3.6</td>\n",
        "      <td> NaN</td>\n",
        "      <td> 23</td>\n",
        "      <td>  True</td>\n",
        "    </tr>\n",
        "    <tr>\n",
        "      <th>four</th>\n",
        "      <td> 2001</td>\n",
        "      <td> Nevada</td>\n",
        "      <td> 2.4</td>\n",
        "      <td>-1.5</td>\n",
        "      <td> 23</td>\n",
        "      <td> False</td>\n",
        "    </tr>\n",
        "    <tr>\n",
        "      <th>five</th>\n",
        "      <td> 2002</td>\n",
        "      <td> Nevada</td>\n",
        "      <td> 2.9</td>\n",
        "      <td>-1.7</td>\n",
        "      <td> 23</td>\n",
        "      <td> False</td>\n",
        "    </tr>\n",
        "  </tbody>\n",
        "</table>\n",
        "</div>"
       ],
       "metadata": {},
       "output_type": "pyout",
       "prompt_number": 31,
       "text": [
        "       year   state  pop  debt  nova eastern\n",
        "one    2000    Ohio  1.5   NaN    23    True\n",
        "two    2001    Ohio  1.7  -1.2    23    True\n",
        "three  2002    Ohio  3.6   NaN    23    True\n",
        "four   2001  Nevada  2.4  -1.5    23   False\n",
        "five   2002  Nevada  2.9  -1.7    23   False"
       ]
      }
     ],
     "prompt_number": 31
    },
    {
     "cell_type": "code",
     "collapsed": false,
     "input": [
      "del frame2['nova']\n",
      "frame2.columns"
     ],
     "language": "python",
     "metadata": {},
     "outputs": [
      {
       "metadata": {},
       "output_type": "pyout",
       "prompt_number": 32,
       "text": [
        "Index([u'year', u'state', u'pop', u'debt', u'eastern'], dtype=object)"
       ]
      }
     ],
     "prompt_number": 32
    },
    {
     "cell_type": "code",
     "collapsed": false,
     "input": [
      "pop = {'Nevada': {2001: 2.4, 2002: 2.9},'Ohio': {2000: 1.5, 2001: 1.7, 2002: 3.6}}\n",
      "frame3 = pd.DataFrame(pop)\n",
      "frame3"
     ],
     "language": "python",
     "metadata": {},
     "outputs": [
      {
       "html": [
        "<div style=\"max-height:1000px;max-width:1500px;overflow:auto;\">\n",
        "<table border=\"1\" class=\"dataframe\">\n",
        "  <thead>\n",
        "    <tr style=\"text-align: right;\">\n",
        "      <th></th>\n",
        "      <th>Nevada</th>\n",
        "      <th>Ohio</th>\n",
        "    </tr>\n",
        "  </thead>\n",
        "  <tbody>\n",
        "    <tr>\n",
        "      <th>2000</th>\n",
        "      <td> NaN</td>\n",
        "      <td> 1.5</td>\n",
        "    </tr>\n",
        "    <tr>\n",
        "      <th>2001</th>\n",
        "      <td> 2.4</td>\n",
        "      <td> 1.7</td>\n",
        "    </tr>\n",
        "    <tr>\n",
        "      <th>2002</th>\n",
        "      <td> 2.9</td>\n",
        "      <td> 3.6</td>\n",
        "    </tr>\n",
        "  </tbody>\n",
        "</table>\n",
        "</div>"
       ],
       "metadata": {},
       "output_type": "pyout",
       "prompt_number": 33,
       "text": [
        "      Nevada  Ohio\n",
        "2000     NaN   1.5\n",
        "2001     2.4   1.7\n",
        "2002     2.9   3.6"
       ]
      }
     ],
     "prompt_number": 33
    },
    {
     "cell_type": "code",
     "collapsed": false,
     "input": [
      "frame3.T"
     ],
     "language": "python",
     "metadata": {},
     "outputs": [
      {
       "html": [
        "<div style=\"max-height:1000px;max-width:1500px;overflow:auto;\">\n",
        "<table border=\"1\" class=\"dataframe\">\n",
        "  <thead>\n",
        "    <tr style=\"text-align: right;\">\n",
        "      <th></th>\n",
        "      <th>2000</th>\n",
        "      <th>2001</th>\n",
        "      <th>2002</th>\n",
        "    </tr>\n",
        "  </thead>\n",
        "  <tbody>\n",
        "    <tr>\n",
        "      <th>Nevada</th>\n",
        "      <td> NaN</td>\n",
        "      <td> 2.4</td>\n",
        "      <td> 2.9</td>\n",
        "    </tr>\n",
        "    <tr>\n",
        "      <th>Ohio</th>\n",
        "      <td> 1.5</td>\n",
        "      <td> 1.7</td>\n",
        "      <td> 3.6</td>\n",
        "    </tr>\n",
        "  </tbody>\n",
        "</table>\n",
        "</div>"
       ],
       "metadata": {},
       "output_type": "pyout",
       "prompt_number": 34,
       "text": [
        "        2000  2001  2002\n",
        "Nevada   NaN   2.4   2.9\n",
        "Ohio     1.5   1.7   3.6"
       ]
      }
     ],
     "prompt_number": 34
    },
    {
     "cell_type": "code",
     "collapsed": false,
     "input": [
      "pd.DataFrame(pop, index=[2001, 2002, 2003])"
     ],
     "language": "python",
     "metadata": {},
     "outputs": [
      {
       "html": [
        "<div style=\"max-height:1000px;max-width:1500px;overflow:auto;\">\n",
        "<table border=\"1\" class=\"dataframe\">\n",
        "  <thead>\n",
        "    <tr style=\"text-align: right;\">\n",
        "      <th></th>\n",
        "      <th>Nevada</th>\n",
        "      <th>Ohio</th>\n",
        "    </tr>\n",
        "  </thead>\n",
        "  <tbody>\n",
        "    <tr>\n",
        "      <th>2001</th>\n",
        "      <td> 2.4</td>\n",
        "      <td> 1.7</td>\n",
        "    </tr>\n",
        "    <tr>\n",
        "      <th>2002</th>\n",
        "      <td> 2.9</td>\n",
        "      <td> 3.6</td>\n",
        "    </tr>\n",
        "    <tr>\n",
        "      <th>2003</th>\n",
        "      <td> NaN</td>\n",
        "      <td> NaN</td>\n",
        "    </tr>\n",
        "  </tbody>\n",
        "</table>\n",
        "</div>"
       ],
       "metadata": {},
       "output_type": "pyout",
       "prompt_number": 35,
       "text": [
        "      Nevada  Ohio\n",
        "2001     2.4   1.7\n",
        "2002     2.9   3.6\n",
        "2003     NaN   NaN"
       ]
      }
     ],
     "prompt_number": 35
    },
    {
     "cell_type": "code",
     "collapsed": false,
     "input": [
      "pdata = {'Ohio': frame3['Ohio'][:-1],'Nevada': frame3['Nevada'][:2]}\n",
      "pd.DataFrame(pdata)"
     ],
     "language": "python",
     "metadata": {},
     "outputs": [
      {
       "html": [
        "<div style=\"max-height:1000px;max-width:1500px;overflow:auto;\">\n",
        "<table border=\"1\" class=\"dataframe\">\n",
        "  <thead>\n",
        "    <tr style=\"text-align: right;\">\n",
        "      <th></th>\n",
        "      <th>Nevada</th>\n",
        "      <th>Ohio</th>\n",
        "    </tr>\n",
        "  </thead>\n",
        "  <tbody>\n",
        "    <tr>\n",
        "      <th>2000</th>\n",
        "      <td> NaN</td>\n",
        "      <td> 1.5</td>\n",
        "    </tr>\n",
        "    <tr>\n",
        "      <th>2001</th>\n",
        "      <td> 2.4</td>\n",
        "      <td> 1.7</td>\n",
        "    </tr>\n",
        "  </tbody>\n",
        "</table>\n",
        "</div>"
       ],
       "metadata": {},
       "output_type": "pyout",
       "prompt_number": 36,
       "text": [
        "      Nevada  Ohio\n",
        "2000     NaN   1.5\n",
        "2001     2.4   1.7"
       ]
      }
     ],
     "prompt_number": 36
    },
    {
     "cell_type": "code",
     "collapsed": false,
     "input": [
      "frame3.index.name = 'year'; frame3.columns.name = 'state'\n",
      "frame3"
     ],
     "language": "python",
     "metadata": {},
     "outputs": [
      {
       "html": [
        "<div style=\"max-height:1000px;max-width:1500px;overflow:auto;\">\n",
        "<table border=\"1\" class=\"dataframe\">\n",
        "  <thead>\n",
        "    <tr style=\"text-align: right;\">\n",
        "      <th>state</th>\n",
        "      <th>Nevada</th>\n",
        "      <th>Ohio</th>\n",
        "    </tr>\n",
        "    <tr>\n",
        "      <th>year</th>\n",
        "      <th></th>\n",
        "      <th></th>\n",
        "    </tr>\n",
        "  </thead>\n",
        "  <tbody>\n",
        "    <tr>\n",
        "      <th>2000</th>\n",
        "      <td> NaN</td>\n",
        "      <td> 1.5</td>\n",
        "    </tr>\n",
        "    <tr>\n",
        "      <th>2001</th>\n",
        "      <td> 2.4</td>\n",
        "      <td> 1.7</td>\n",
        "    </tr>\n",
        "    <tr>\n",
        "      <th>2002</th>\n",
        "      <td> 2.9</td>\n",
        "      <td> 3.6</td>\n",
        "    </tr>\n",
        "  </tbody>\n",
        "</table>\n",
        "</div>"
       ],
       "metadata": {},
       "output_type": "pyout",
       "prompt_number": 37,
       "text": [
        "state  Nevada  Ohio\n",
        "year               \n",
        "2000      NaN   1.5\n",
        "2001      2.4   1.7\n",
        "2002      2.9   3.6"
       ]
      }
     ],
     "prompt_number": 37
    },
    {
     "cell_type": "heading",
     "level": 2,
     "metadata": {},
     "source": [
      "An example: Baby names in the USA"
     ]
    },
    {
     "cell_type": "code",
     "collapsed": false,
     "input": [
      "names1880 = pd.read_csv(datapath+'yob1880.txt', names=['name', 'sex', 'births'])"
     ],
     "language": "python",
     "metadata": {},
     "outputs": [],
     "prompt_number": 41
    },
    {
     "cell_type": "code",
     "collapsed": false,
     "input": [
      "names1880"
     ],
     "language": "python",
     "metadata": {},
     "outputs": [
      {
       "html": [
        "<pre>\n",
        "&lt;class 'pandas.core.frame.DataFrame'&gt;\n",
        "Int64Index: 2000 entries, 0 to 1999\n",
        "Data columns (total 3 columns):\n",
        "name      2000  non-null values\n",
        "sex       2000  non-null values\n",
        "births    2000  non-null values\n",
        "dtypes: int64(1), object(2)\n",
        "</pre>"
       ],
       "metadata": {},
       "output_type": "pyout",
       "prompt_number": 42,
       "text": [
        "<class 'pandas.core.frame.DataFrame'>\n",
        "Int64Index: 2000 entries, 0 to 1999\n",
        "Data columns (total 3 columns):\n",
        "name      2000  non-null values\n",
        "sex       2000  non-null values\n",
        "births    2000  non-null values\n",
        "dtypes: int64(1), object(2)"
       ]
      }
     ],
     "prompt_number": 42
    },
    {
     "cell_type": "code",
     "collapsed": false,
     "input": [
      "names1880.head()\n",
      "#names1880.tail()"
     ],
     "language": "python",
     "metadata": {},
     "outputs": [
      {
       "html": [
        "<div style=\"max-height:1000px;max-width:1500px;overflow:auto;\">\n",
        "<table border=\"1\" class=\"dataframe\">\n",
        "  <thead>\n",
        "    <tr style=\"text-align: right;\">\n",
        "      <th></th>\n",
        "      <th>name</th>\n",
        "      <th>sex</th>\n",
        "      <th>births</th>\n",
        "    </tr>\n",
        "  </thead>\n",
        "  <tbody>\n",
        "    <tr>\n",
        "      <th>0</th>\n",
        "      <td>      Mary</td>\n",
        "      <td> F</td>\n",
        "      <td> 7065</td>\n",
        "    </tr>\n",
        "    <tr>\n",
        "      <th>1</th>\n",
        "      <td>      Anna</td>\n",
        "      <td> F</td>\n",
        "      <td> 2604</td>\n",
        "    </tr>\n",
        "    <tr>\n",
        "      <th>2</th>\n",
        "      <td>      Emma</td>\n",
        "      <td> F</td>\n",
        "      <td> 2003</td>\n",
        "    </tr>\n",
        "    <tr>\n",
        "      <th>3</th>\n",
        "      <td> Elizabeth</td>\n",
        "      <td> F</td>\n",
        "      <td> 1939</td>\n",
        "    </tr>\n",
        "    <tr>\n",
        "      <th>4</th>\n",
        "      <td>    Minnie</td>\n",
        "      <td> F</td>\n",
        "      <td> 1746</td>\n",
        "    </tr>\n",
        "  </tbody>\n",
        "</table>\n",
        "</div>"
       ],
       "metadata": {},
       "output_type": "pyout",
       "prompt_number": 45,
       "text": [
        "        name sex  births\n",
        "0       Mary   F    7065\n",
        "1       Anna   F    2604\n",
        "2       Emma   F    2003\n",
        "3  Elizabeth   F    1939\n",
        "4     Minnie   F    1746"
       ]
      }
     ],
     "prompt_number": 45
    },
    {
     "cell_type": "code",
     "collapsed": false,
     "input": [
      "names1880.groupby('sex').births.sum()"
     ],
     "language": "python",
     "metadata": {},
     "outputs": [
      {
       "metadata": {},
       "output_type": "pyout",
       "prompt_number": 46,
       "text": [
        "sex\n",
        "F       90993\n",
        "M      110491\n",
        "Name: births, dtype: int64"
       ]
      }
     ],
     "prompt_number": 46
    },
    {
     "cell_type": "code",
     "collapsed": false,
     "input": [
      "years = range(1880, 2013)\n",
      "pieces = []\n",
      "columns = ['name', 'sex', 'births']\n",
      "for year in years:\n",
      "    path = datapath+'yob{}.txt'.format(year)\n",
      "    frame = pd.read_csv(path, names=columns)\n",
      "    frame['year'] = year\n",
      "    pieces.append(frame)\n",
      "# Concatenate everything into a single DataFrame\n",
      "names = pd.concat(pieces, ignore_index=True)"
     ],
     "language": "python",
     "metadata": {},
     "outputs": [],
     "prompt_number": 58
    },
    {
     "cell_type": "code",
     "collapsed": false,
     "input": [
      "names.tail()\n",
      "#[2500:2520]"
     ],
     "language": "python",
     "metadata": {},
     "outputs": [
      {
       "html": [
        "<div style=\"max-height:1000px;max-width:1500px;overflow:auto;\">\n",
        "<table border=\"1\" class=\"dataframe\">\n",
        "  <thead>\n",
        "    <tr style=\"text-align: right;\">\n",
        "      <th></th>\n",
        "      <th>name</th>\n",
        "      <th>sex</th>\n",
        "      <th>births</th>\n",
        "      <th>year</th>\n",
        "    </tr>\n",
        "  </thead>\n",
        "  <tbody>\n",
        "    <tr>\n",
        "      <th>1758725</th>\n",
        "      <td>     Zylin</td>\n",
        "      <td> M</td>\n",
        "      <td> 5</td>\n",
        "      <td> 2012</td>\n",
        "    </tr>\n",
        "    <tr>\n",
        "      <th>1758726</th>\n",
        "      <td>    Zymari</td>\n",
        "      <td> M</td>\n",
        "      <td> 5</td>\n",
        "      <td> 2012</td>\n",
        "    </tr>\n",
        "    <tr>\n",
        "      <th>1758727</th>\n",
        "      <td>     Zyrin</td>\n",
        "      <td> M</td>\n",
        "      <td> 5</td>\n",
        "      <td> 2012</td>\n",
        "    </tr>\n",
        "    <tr>\n",
        "      <th>1758728</th>\n",
        "      <td>     Zyrus</td>\n",
        "      <td> M</td>\n",
        "      <td> 5</td>\n",
        "      <td> 2012</td>\n",
        "    </tr>\n",
        "    <tr>\n",
        "      <th>1758729</th>\n",
        "      <td> Zytaevius</td>\n",
        "      <td> M</td>\n",
        "      <td> 5</td>\n",
        "      <td> 2012</td>\n",
        "    </tr>\n",
        "  </tbody>\n",
        "</table>\n",
        "</div>"
       ],
       "metadata": {},
       "output_type": "pyout",
       "prompt_number": 59,
       "text": [
        "              name sex  births  year\n",
        "1758725      Zylin   M       5  2012\n",
        "1758726     Zymari   M       5  2012\n",
        "1758727      Zyrin   M       5  2012\n",
        "1758728      Zyrus   M       5  2012\n",
        "1758729  Zytaevius   M       5  2012"
       ]
      }
     ],
     "prompt_number": 59
    },
    {
     "cell_type": "code",
     "collapsed": false,
     "input": [
      "names\n",
      "names[:10]\n",
      "names.groupby('sex').births.sum()"
     ],
     "language": "python",
     "metadata": {},
     "outputs": [
      {
       "metadata": {},
       "output_type": "pyout",
       "prompt_number": 60,
       "text": [
        "sex\n",
        "F      163523367\n",
        "M      166237398\n",
        "Name: births, dtype: int64"
       ]
      }
     ],
     "prompt_number": 60
    },
    {
     "cell_type": "code",
     "collapsed": false,
     "input": [
      "t_births = names.groupby('year').births.sum()"
     ],
     "language": "python",
     "metadata": {},
     "outputs": [],
     "prompt_number": 61
    },
    {
     "cell_type": "code",
     "collapsed": false,
     "input": [
      "t_births[30:40]"
     ],
     "language": "python",
     "metadata": {},
     "outputs": [
      {
       "metadata": {},
       "output_type": "pyout",
       "prompt_number": 62,
       "text": [
        "year\n",
        "1910     590696\n",
        "1911     644242\n",
        "1912     987950\n",
        "1913    1136990\n",
        "1914    1416254\n",
        "1915    1832497\n",
        "1916    1934414\n",
        "1917    2006750\n",
        "1918    2171217\n",
        "1919    2110293\n",
        "Name: births, dtype: int64"
       ]
      }
     ],
     "prompt_number": 62
    },
    {
     "cell_type": "code",
     "collapsed": false,
     "input": [
      "total_births = names.pivot_table('births', rows='year', cols='sex', aggfunc=sum)"
     ],
     "language": "python",
     "metadata": {},
     "outputs": [],
     "prompt_number": 63
    },
    {
     "cell_type": "code",
     "collapsed": false,
     "input": [
      "total_births"
     ],
     "language": "python",
     "metadata": {},
     "outputs": [
      {
       "html": [
        "<pre>\n",
        "&lt;class 'pandas.core.frame.DataFrame'&gt;\n",
        "Int64Index: 133 entries, 1880 to 2012\n",
        "Data columns (total 2 columns):\n",
        "F    133  non-null values\n",
        "M    133  non-null values\n",
        "dtypes: int64(2)\n",
        "</pre>"
       ],
       "metadata": {},
       "output_type": "pyout",
       "prompt_number": 64,
       "text": [
        "<class 'pandas.core.frame.DataFrame'>\n",
        "Int64Index: 133 entries, 1880 to 2012\n",
        "Data columns (total 2 columns):\n",
        "F    133  non-null values\n",
        "M    133  non-null values\n",
        "dtypes: int64(2)"
       ]
      }
     ],
     "prompt_number": 64
    },
    {
     "cell_type": "code",
     "collapsed": false,
     "input": [
      "total_births.tail()"
     ],
     "language": "python",
     "metadata": {},
     "outputs": [
      {
       "html": [
        "<div style=\"max-height:1000px;max-width:1500px;overflow:auto;\">\n",
        "<table border=\"1\" class=\"dataframe\">\n",
        "  <thead>\n",
        "    <tr style=\"text-align: right;\">\n",
        "      <th>sex</th>\n",
        "      <th>F</th>\n",
        "      <th>M</th>\n",
        "    </tr>\n",
        "    <tr>\n",
        "      <th>year</th>\n",
        "      <th></th>\n",
        "      <th></th>\n",
        "    </tr>\n",
        "  </thead>\n",
        "  <tbody>\n",
        "    <tr>\n",
        "      <th>2008</th>\n",
        "      <td> 1886109</td>\n",
        "      <td> 2035075</td>\n",
        "    </tr>\n",
        "    <tr>\n",
        "      <th>2009</th>\n",
        "      <td> 1831382</td>\n",
        "      <td> 1977632</td>\n",
        "    </tr>\n",
        "    <tr>\n",
        "      <th>2010</th>\n",
        "      <td> 1770632</td>\n",
        "      <td> 1911572</td>\n",
        "    </tr>\n",
        "    <tr>\n",
        "      <th>2011</th>\n",
        "      <td> 1750078</td>\n",
        "      <td> 1889557</td>\n",
        "    </tr>\n",
        "    <tr>\n",
        "      <th>2012</th>\n",
        "      <td> 1743626</td>\n",
        "      <td> 1877705</td>\n",
        "    </tr>\n",
        "  </tbody>\n",
        "</table>\n",
        "</div>"
       ],
       "metadata": {},
       "output_type": "pyout",
       "prompt_number": 65,
       "text": [
        "sex         F        M\n",
        "year                  \n",
        "2008  1886109  2035075\n",
        "2009  1831382  1977632\n",
        "2010  1770632  1911572\n",
        "2011  1750078  1889557\n",
        "2012  1743626  1877705"
       ]
      }
     ],
     "prompt_number": 65
    },
    {
     "cell_type": "code",
     "collapsed": false,
     "input": [
      "total_births.plot(title='Total births by sex and year')"
     ],
     "language": "python",
     "metadata": {},
     "outputs": [
      {
       "metadata": {},
       "output_type": "pyout",
       "prompt_number": 66,
       "text": [
        "<matplotlib.axes.AxesSubplot at 0x116179b90>"
       ]
      },
      {
       "metadata": {},
       "output_type": "display_data",
       "png": "[encoded data removed]",
       "text": [
        "<matplotlib.figure.Figure at 0x115c59810>"
       ]
      }
     ],
     "prompt_number": 66
    },
    {
     "cell_type": "code",
     "collapsed": false,
     "input": [
      "def add_prop(group):\n",
      "    # Integer division floors\n",
      "    births = group.births.astype(float)\n",
      "    group['percent'] = births / births.sum()\n",
      "    return group\n",
      "names = names.groupby(['year', 'sex']).apply(add_prop)"
     ],
     "language": "python",
     "metadata": {},
     "outputs": [],
     "prompt_number": 67
    },
    {
     "cell_type": "code",
     "collapsed": false,
     "input": [
      "#names\n",
      "names[:10]"
     ],
     "language": "python",
     "metadata": {},
     "outputs": [
      {
       "html": [
        "<div style=\"max-height:1000px;max-width:1500px;overflow:auto;\">\n",
        "<table border=\"1\" class=\"dataframe\">\n",
        "  <thead>\n",
        "    <tr style=\"text-align: right;\">\n",
        "      <th></th>\n",
        "      <th>name</th>\n",
        "      <th>sex</th>\n",
        "      <th>births</th>\n",
        "      <th>year</th>\n",
        "      <th>percent</th>\n",
        "    </tr>\n",
        "  </thead>\n",
        "  <tbody>\n",
        "    <tr>\n",
        "      <th>0</th>\n",
        "      <td>      Mary</td>\n",
        "      <td> F</td>\n",
        "      <td> 7065</td>\n",
        "      <td> 1880</td>\n",
        "      <td> 0.077643</td>\n",
        "    </tr>\n",
        "    <tr>\n",
        "      <th>1</th>\n",
        "      <td>      Anna</td>\n",
        "      <td> F</td>\n",
        "      <td> 2604</td>\n",
        "      <td> 1880</td>\n",
        "      <td> 0.028618</td>\n",
        "    </tr>\n",
        "    <tr>\n",
        "      <th>2</th>\n",
        "      <td>      Emma</td>\n",
        "      <td> F</td>\n",
        "      <td> 2003</td>\n",
        "      <td> 1880</td>\n",
        "      <td> 0.022013</td>\n",
        "    </tr>\n",
        "    <tr>\n",
        "      <th>3</th>\n",
        "      <td> Elizabeth</td>\n",
        "      <td> F</td>\n",
        "      <td> 1939</td>\n",
        "      <td> 1880</td>\n",
        "      <td> 0.021309</td>\n",
        "    </tr>\n",
        "    <tr>\n",
        "      <th>4</th>\n",
        "      <td>    Minnie</td>\n",
        "      <td> F</td>\n",
        "      <td> 1746</td>\n",
        "      <td> 1880</td>\n",
        "      <td> 0.019188</td>\n",
        "    </tr>\n",
        "    <tr>\n",
        "      <th>5</th>\n",
        "      <td>  Margaret</td>\n",
        "      <td> F</td>\n",
        "      <td> 1578</td>\n",
        "      <td> 1880</td>\n",
        "      <td> 0.017342</td>\n",
        "    </tr>\n",
        "    <tr>\n",
        "      <th>6</th>\n",
        "      <td>       Ida</td>\n",
        "      <td> F</td>\n",
        "      <td> 1472</td>\n",
        "      <td> 1880</td>\n",
        "      <td> 0.016177</td>\n",
        "    </tr>\n",
        "    <tr>\n",
        "      <th>7</th>\n",
        "      <td>     Alice</td>\n",
        "      <td> F</td>\n",
        "      <td> 1414</td>\n",
        "      <td> 1880</td>\n",
        "      <td> 0.015540</td>\n",
        "    </tr>\n",
        "    <tr>\n",
        "      <th>8</th>\n",
        "      <td>    Bertha</td>\n",
        "      <td> F</td>\n",
        "      <td> 1320</td>\n",
        "      <td> 1880</td>\n",
        "      <td> 0.014507</td>\n",
        "    </tr>\n",
        "    <tr>\n",
        "      <th>9</th>\n",
        "      <td>     Sarah</td>\n",
        "      <td> F</td>\n",
        "      <td> 1288</td>\n",
        "      <td> 1880</td>\n",
        "      <td> 0.014155</td>\n",
        "    </tr>\n",
        "  </tbody>\n",
        "</table>\n",
        "</div>"
       ],
       "metadata": {},
       "output_type": "pyout",
       "prompt_number": 68,
       "text": [
        "        name sex  births  year   percent\n",
        "0       Mary   F    7065  1880  0.077643\n",
        "1       Anna   F    2604  1880  0.028618\n",
        "2       Emma   F    2003  1880  0.022013\n",
        "3  Elizabeth   F    1939  1880  0.021309\n",
        "4     Minnie   F    1746  1880  0.019188\n",
        "5   Margaret   F    1578  1880  0.017342\n",
        "6        Ida   F    1472  1880  0.016177\n",
        "7      Alice   F    1414  1880  0.015540\n",
        "8     Bertha   F    1320  1880  0.014507\n",
        "9      Sarah   F    1288  1880  0.014155"
       ]
      }
     ],
     "prompt_number": 68
    },
    {
     "cell_type": "code",
     "collapsed": false,
     "input": [
      "np.allclose(names.groupby(['year', 'sex']).percent.sum(), 1)"
     ],
     "language": "python",
     "metadata": {},
     "outputs": [
      {
       "metadata": {},
       "output_type": "pyout",
       "prompt_number": 69,
       "text": [
        "True"
       ]
      }
     ],
     "prompt_number": 69
    },
    {
     "cell_type": "code",
     "collapsed": false,
     "input": [
      "def get_top1000(group):\n",
      "    return group.sort_index(by='births', ascending=False)[:1000]\n",
      "grouped = names.groupby(['year', 'sex'])\n",
      "top1000 = grouped.apply(get_top1000)"
     ],
     "language": "python",
     "metadata": {},
     "outputs": [],
     "prompt_number": 70
    },
    {
     "cell_type": "code",
     "collapsed": false,
     "input": [
      "top1000\n",
      "top1000[:15]"
     ],
     "language": "python",
     "metadata": {},
     "outputs": [
      {
       "html": [
        "<div style=\"max-height:1000px;max-width:1500px;overflow:auto;\">\n",
        "<table border=\"1\" class=\"dataframe\">\n",
        "  <thead>\n",
        "    <tr style=\"text-align: right;\">\n",
        "      <th></th>\n",
        "      <th></th>\n",
        "      <th></th>\n",
        "      <th>name</th>\n",
        "      <th>sex</th>\n",
        "      <th>births</th>\n",
        "      <th>year</th>\n",
        "      <th>percent</th>\n",
        "    </tr>\n",
        "    <tr>\n",
        "      <th>year</th>\n",
        "      <th>sex</th>\n",
        "      <th></th>\n",
        "      <th></th>\n",
        "      <th></th>\n",
        "      <th></th>\n",
        "      <th></th>\n",
        "      <th></th>\n",
        "    </tr>\n",
        "  </thead>\n",
        "  <tbody>\n",
        "    <tr>\n",
        "      <th rowspan=\"15\" valign=\"top\">1880</th>\n",
        "      <th rowspan=\"15\" valign=\"top\">F</th>\n",
        "      <th>0 </th>\n",
        "      <td>      Mary</td>\n",
        "      <td> F</td>\n",
        "      <td> 7065</td>\n",
        "      <td> 1880</td>\n",
        "      <td> 0.077643</td>\n",
        "    </tr>\n",
        "    <tr>\n",
        "      <th>1 </th>\n",
        "      <td>      Anna</td>\n",
        "      <td> F</td>\n",
        "      <td> 2604</td>\n",
        "      <td> 1880</td>\n",
        "      <td> 0.028618</td>\n",
        "    </tr>\n",
        "    <tr>\n",
        "      <th>2 </th>\n",
        "      <td>      Emma</td>\n",
        "      <td> F</td>\n",
        "      <td> 2003</td>\n",
        "      <td> 1880</td>\n",
        "      <td> 0.022013</td>\n",
        "    </tr>\n",
        "    <tr>\n",
        "      <th>3 </th>\n",
        "      <td> Elizabeth</td>\n",
        "      <td> F</td>\n",
        "      <td> 1939</td>\n",
        "      <td> 1880</td>\n",
        "      <td> 0.021309</td>\n",
        "    </tr>\n",
        "    <tr>\n",
        "      <th>4 </th>\n",
        "      <td>    Minnie</td>\n",
        "      <td> F</td>\n",
        "      <td> 1746</td>\n",
        "      <td> 1880</td>\n",
        "      <td> 0.019188</td>\n",
        "    </tr>\n",
        "    <tr>\n",
        "      <th>5 </th>\n",
        "      <td>  Margaret</td>\n",
        "      <td> F</td>\n",
        "      <td> 1578</td>\n",
        "      <td> 1880</td>\n",
        "      <td> 0.017342</td>\n",
        "    </tr>\n",
        "    <tr>\n",
        "      <th>6 </th>\n",
        "      <td>       Ida</td>\n",
        "      <td> F</td>\n",
        "      <td> 1472</td>\n",
        "      <td> 1880</td>\n",
        "      <td> 0.016177</td>\n",
        "    </tr>\n",
        "    <tr>\n",
        "      <th>7 </th>\n",
        "      <td>     Alice</td>\n",
        "      <td> F</td>\n",
        "      <td> 1414</td>\n",
        "      <td> 1880</td>\n",
        "      <td> 0.015540</td>\n",
        "    </tr>\n",
        "    <tr>\n",
        "      <th>8 </th>\n",
        "      <td>    Bertha</td>\n",
        "      <td> F</td>\n",
        "      <td> 1320</td>\n",
        "      <td> 1880</td>\n",
        "      <td> 0.014507</td>\n",
        "    </tr>\n",
        "    <tr>\n",
        "      <th>9 </th>\n",
        "      <td>     Sarah</td>\n",
        "      <td> F</td>\n",
        "      <td> 1288</td>\n",
        "      <td> 1880</td>\n",
        "      <td> 0.014155</td>\n",
        "    </tr>\n",
        "    <tr>\n",
        "      <th>10</th>\n",
        "      <td>     Annie</td>\n",
        "      <td> F</td>\n",
        "      <td> 1258</td>\n",
        "      <td> 1880</td>\n",
        "      <td> 0.013825</td>\n",
        "    </tr>\n",
        "    <tr>\n",
        "      <th>11</th>\n",
        "      <td>     Clara</td>\n",
        "      <td> F</td>\n",
        "      <td> 1226</td>\n",
        "      <td> 1880</td>\n",
        "      <td> 0.013474</td>\n",
        "    </tr>\n",
        "    <tr>\n",
        "      <th>12</th>\n",
        "      <td>      Ella</td>\n",
        "      <td> F</td>\n",
        "      <td> 1156</td>\n",
        "      <td> 1880</td>\n",
        "      <td> 0.012704</td>\n",
        "    </tr>\n",
        "    <tr>\n",
        "      <th>13</th>\n",
        "      <td>  Florence</td>\n",
        "      <td> F</td>\n",
        "      <td> 1063</td>\n",
        "      <td> 1880</td>\n",
        "      <td> 0.011682</td>\n",
        "    </tr>\n",
        "    <tr>\n",
        "      <th>14</th>\n",
        "      <td>      Cora</td>\n",
        "      <td> F</td>\n",
        "      <td> 1045</td>\n",
        "      <td> 1880</td>\n",
        "      <td> 0.011484</td>\n",
        "    </tr>\n",
        "  </tbody>\n",
        "</table>\n",
        "</div>"
       ],
       "metadata": {},
       "output_type": "pyout",
       "prompt_number": 71,
       "text": [
        "                  name sex  births  year   percent\n",
        "year sex                                          \n",
        "1880 F   0        Mary   F    7065  1880  0.077643\n",
        "         1        Anna   F    2604  1880  0.028618\n",
        "         2        Emma   F    2003  1880  0.022013\n",
        "         3   Elizabeth   F    1939  1880  0.021309\n",
        "         4      Minnie   F    1746  1880  0.019188\n",
        "         5    Margaret   F    1578  1880  0.017342\n",
        "         6         Ida   F    1472  1880  0.016177\n",
        "         7       Alice   F    1414  1880  0.015540\n",
        "         8      Bertha   F    1320  1880  0.014507\n",
        "         9       Sarah   F    1288  1880  0.014155\n",
        "         10      Annie   F    1258  1880  0.013825\n",
        "         11      Clara   F    1226  1880  0.013474\n",
        "         12       Ella   F    1156  1880  0.012704\n",
        "         13   Florence   F    1063  1880  0.011682\n",
        "         14       Cora   F    1045  1880  0.011484"
       ]
      }
     ],
     "prompt_number": 71
    },
    {
     "cell_type": "code",
     "collapsed": false,
     "input": [
      "boys = top1000[top1000.sex == 'M']\n",
      "girls = top1000[top1000.sex == 'F']"
     ],
     "language": "python",
     "metadata": {},
     "outputs": [],
     "prompt_number": 72
    },
    {
     "cell_type": "code",
     "collapsed": false,
     "input": [
      "Pablo_names = boys[boys.name=='Pablo']\n",
      "Pablo_names[:10]"
     ],
     "language": "python",
     "metadata": {},
     "outputs": [
      {
       "html": [
        "<div style=\"max-height:1000px;max-width:1500px;overflow:auto;\">\n",
        "<table border=\"1\" class=\"dataframe\">\n",
        "  <thead>\n",
        "    <tr style=\"text-align: right;\">\n",
        "      <th></th>\n",
        "      <th></th>\n",
        "      <th></th>\n",
        "      <th>name</th>\n",
        "      <th>sex</th>\n",
        "      <th>births</th>\n",
        "      <th>year</th>\n",
        "      <th>percent</th>\n",
        "    </tr>\n",
        "    <tr>\n",
        "      <th>year</th>\n",
        "      <th>sex</th>\n",
        "      <th></th>\n",
        "      <th></th>\n",
        "      <th></th>\n",
        "      <th></th>\n",
        "      <th></th>\n",
        "      <th></th>\n",
        "    </tr>\n",
        "  </thead>\n",
        "  <tbody>\n",
        "    <tr>\n",
        "      <th>1880</th>\n",
        "      <th>M</th>\n",
        "      <th>1535 </th>\n",
        "      <td> Pablo</td>\n",
        "      <td> M</td>\n",
        "      <td> 11</td>\n",
        "      <td> 1880</td>\n",
        "      <td> 0.000100</td>\n",
        "    </tr>\n",
        "    <tr>\n",
        "      <th>1882</th>\n",
        "      <th>M</th>\n",
        "      <th>5703 </th>\n",
        "      <td> Pablo</td>\n",
        "      <td> M</td>\n",
        "      <td>  8</td>\n",
        "      <td> 1882</td>\n",
        "      <td> 0.000070</td>\n",
        "    </tr>\n",
        "    <tr>\n",
        "      <th>1883</th>\n",
        "      <th>M</th>\n",
        "      <th>7746 </th>\n",
        "      <td> Pablo</td>\n",
        "      <td> M</td>\n",
        "      <td> 10</td>\n",
        "      <td> 1883</td>\n",
        "      <td> 0.000096</td>\n",
        "    </tr>\n",
        "    <tr>\n",
        "      <th>1884</th>\n",
        "      <th>M</th>\n",
        "      <th>10011</th>\n",
        "      <td> Pablo</td>\n",
        "      <td> M</td>\n",
        "      <td>  9</td>\n",
        "      <td> 1884</td>\n",
        "      <td> 0.000079</td>\n",
        "    </tr>\n",
        "    <tr>\n",
        "      <th>1885</th>\n",
        "      <th>M</th>\n",
        "      <th>12114</th>\n",
        "      <td> Pablo</td>\n",
        "      <td> M</td>\n",
        "      <td> 16</td>\n",
        "      <td> 1885</td>\n",
        "      <td> 0.000148</td>\n",
        "    </tr>\n",
        "    <tr>\n",
        "      <th>1886</th>\n",
        "      <th>M</th>\n",
        "      <th>14843</th>\n",
        "      <td> Pablo</td>\n",
        "      <td> M</td>\n",
        "      <td>  7</td>\n",
        "      <td> 1886</td>\n",
        "      <td> 0.000063</td>\n",
        "    </tr>\n",
        "    <tr>\n",
        "      <th>1887</th>\n",
        "      <th>M</th>\n",
        "      <th>16970</th>\n",
        "      <td> Pablo</td>\n",
        "      <td> M</td>\n",
        "      <td> 12</td>\n",
        "      <td> 1887</td>\n",
        "      <td> 0.000118</td>\n",
        "    </tr>\n",
        "    <tr>\n",
        "      <th>1888</th>\n",
        "      <th>M</th>\n",
        "      <th>19612</th>\n",
        "      <td> Pablo</td>\n",
        "      <td> M</td>\n",
        "      <td> 11</td>\n",
        "      <td> 1888</td>\n",
        "      <td> 0.000091</td>\n",
        "    </tr>\n",
        "    <tr>\n",
        "      <th>1889</th>\n",
        "      <th>M</th>\n",
        "      <th>22246</th>\n",
        "      <td> Pablo</td>\n",
        "      <td> M</td>\n",
        "      <td> 11</td>\n",
        "      <td> 1889</td>\n",
        "      <td> 0.000099</td>\n",
        "    </tr>\n",
        "    <tr>\n",
        "      <th>1890</th>\n",
        "      <th>M</th>\n",
        "      <th>24705</th>\n",
        "      <td> Pablo</td>\n",
        "      <td> M</td>\n",
        "      <td> 18</td>\n",
        "      <td> 1890</td>\n",
        "      <td> 0.000162</td>\n",
        "    </tr>\n",
        "  </tbody>\n",
        "</table>\n",
        "</div>"
       ],
       "metadata": {},
       "output_type": "pyout",
       "prompt_number": 73,
       "text": [
        "                 name sex  births  year   percent\n",
        "year sex                                         \n",
        "1880 M   1535   Pablo   M      11  1880  0.000100\n",
        "1882 M   5703   Pablo   M       8  1882  0.000070\n",
        "1883 M   7746   Pablo   M      10  1883  0.000096\n",
        "1884 M   10011  Pablo   M       9  1884  0.000079\n",
        "1885 M   12114  Pablo   M      16  1885  0.000148\n",
        "1886 M   14843  Pablo   M       7  1886  0.000063\n",
        "1887 M   16970  Pablo   M      12  1887  0.000118\n",
        "1888 M   19612  Pablo   M      11  1888  0.000091\n",
        "1889 M   22246  Pablo   M      11  1889  0.000099\n",
        "1890 M   24705  Pablo   M      18  1890  0.000162"
       ]
      }
     ],
     "prompt_number": 73
    },
    {
     "cell_type": "code",
     "collapsed": false,
     "input": [
      "total_births_top1000 = top1000.pivot_table('births', rows='year', cols='name',aggfunc=sum)"
     ],
     "language": "python",
     "metadata": {},
     "outputs": [],
     "prompt_number": 74
    },
    {
     "cell_type": "code",
     "collapsed": false,
     "input": [
      "subset = total_births_top1000[['Elisa', 'Antonio', 'Mary', 'Marilyn']]\n",
      "subset.plot(subplots=True, figsize=(12, 10), grid=False,\n",
      "title=\"Number of births per year\")"
     ],
     "language": "python",
     "metadata": {},
     "outputs": [
      {
       "metadata": {},
       "output_type": "pyout",
       "prompt_number": 83,
       "text": [
        "array([<matplotlib.axes.AxesSubplot object at 0x11cd17610>,\n",
        "       <matplotlib.axes.AxesSubplot object at 0x11cd2e990>,\n",
        "       <matplotlib.axes.AxesSubplot object at 0x11cd3e510>,\n",
        "       <matplotlib.axes.AxesSubplot object at 0x11d0b3bd0>], dtype=object)"
       ]
      },
      {
       "metadata": {},
       "output_type": "display_data",
       "png": "[encoded data removed]",
       "text": [
        "<matplotlib.figure.Figure at 0x11cd12b90>"
       ]
      }
     ],
     "prompt_number": 83
    },
    {
     "cell_type": "code",
     "collapsed": false,
     "input": [
      "table = top1000.pivot_table('percent', rows='year', cols='sex', aggfunc=sum)\n",
      "table.plot(title='Sum of table1000.percent by year and sex', yticks=np.linspace(0, 1.2, 13), xticks=range(1880, 2020, 10))"
     ],
     "language": "python",
     "metadata": {},
     "outputs": [
      {
       "metadata": {},
       "output_type": "pyout",
       "prompt_number": 84,
       "text": [
        "<matplotlib.axes.AxesSubplot at 0x11cd856d0>"
       ]
      },
      {
       "metadata": {},
       "output_type": "display_data",
       "png": "[encoded data removed]",
       "text": [
        "<matplotlib.figure.Figure at 0x11cd77790>"
       ]
      }
     ],
     "prompt_number": 84
    },
    {
     "cell_type": "code",
     "collapsed": false,
     "input": [
      "df = boys[boys.year == 2010]\n",
      "prop_cumsum = df.sort_index(by='percent', ascending=False).percent.cumsum()"
     ],
     "language": "python",
     "metadata": {},
     "outputs": [],
     "prompt_number": 85
    },
    {
     "cell_type": "code",
     "collapsed": false,
     "input": [
      "def get_quantile_count(group, q=0.5):\n",
      "    group = group.sort_index(by='percent', ascending=False)\n",
      "    return group.percent.cumsum().searchsorted(q) + 1"
     ],
     "language": "python",
     "metadata": {},
     "outputs": [],
     "prompt_number": 86
    },
    {
     "cell_type": "code",
     "collapsed": false,
     "input": [
      "diversity = top1000.groupby(['year', 'sex']).apply(get_quantile_count)\n",
      "diversity = diversity.unstack('sex')\n",
      "diversity.head()"
     ],
     "language": "python",
     "metadata": {},
     "outputs": [
      {
       "html": [
        "<div style=\"max-height:1000px;max-width:1500px;overflow:auto;\">\n",
        "<table border=\"1\" class=\"dataframe\">\n",
        "  <thead>\n",
        "    <tr style=\"text-align: right;\">\n",
        "      <th>sex</th>\n",
        "      <th>F</th>\n",
        "      <th>M</th>\n",
        "    </tr>\n",
        "    <tr>\n",
        "      <th>year</th>\n",
        "      <th></th>\n",
        "      <th></th>\n",
        "    </tr>\n",
        "  </thead>\n",
        "  <tbody>\n",
        "    <tr>\n",
        "      <th>1880</th>\n",
        "      <td> 38</td>\n",
        "      <td> 14</td>\n",
        "    </tr>\n",
        "    <tr>\n",
        "      <th>1881</th>\n",
        "      <td> 38</td>\n",
        "      <td> 14</td>\n",
        "    </tr>\n",
        "    <tr>\n",
        "      <th>1882</th>\n",
        "      <td> 38</td>\n",
        "      <td> 15</td>\n",
        "    </tr>\n",
        "    <tr>\n",
        "      <th>1883</th>\n",
        "      <td> 39</td>\n",
        "      <td> 15</td>\n",
        "    </tr>\n",
        "    <tr>\n",
        "      <th>1884</th>\n",
        "      <td> 39</td>\n",
        "      <td> 16</td>\n",
        "    </tr>\n",
        "  </tbody>\n",
        "</table>\n",
        "</div>"
       ],
       "metadata": {},
       "output_type": "pyout",
       "prompt_number": 87,
       "text": [
        "sex    F   M\n",
        "year        \n",
        "1880  38  14\n",
        "1881  38  14\n",
        "1882  38  15\n",
        "1883  39  15\n",
        "1884  39  16"
       ]
      }
     ],
     "prompt_number": 87
    },
    {
     "cell_type": "code",
     "collapsed": false,
     "input": [
      "diversity.plot(title=\"Number of popular names in top 50%\")"
     ],
     "language": "python",
     "metadata": {},
     "outputs": [
      {
       "metadata": {},
       "output_type": "pyout",
       "prompt_number": 88,
       "text": [
        "<matplotlib.axes.AxesSubplot at 0x11d131bd0>"
       ]
      },
      {
       "metadata": {},
       "output_type": "display_data",
       "png": "[encoded data removed]",
       "text": [
        "<matplotlib.figure.Figure at 0x11c2c2550>"
       ]
      }
     ],
     "prompt_number": 88
    },
    {
     "cell_type": "code",
     "collapsed": false,
     "input": [
      "# extract last letter from name column\n",
      "get_last_letter = lambda x: x[-1]\n",
      "last_letters = names.name.map(get_last_letter)\n",
      "last_letters.name = 'last_letter'\n",
      "table = names.pivot_table('births', rows=last_letters, cols=['sex', 'year'], aggfunc=sum)\n",
      "subtable = table.reindex(columns=[1910, 1960, 2010], level='year')\n",
      "subtable.head()"
     ],
     "language": "python",
     "metadata": {},
     "outputs": [
      {
       "html": [
        "<div style=\"max-height:1000px;max-width:1500px;overflow:auto;\">\n",
        "<table border=\"1\" class=\"dataframe\">\n",
        "  <thead>\n",
        "    <tr>\n",
        "      <th>sex</th>\n",
        "      <th colspan=\"3\" halign=\"left\">F</th>\n",
        "      <th colspan=\"3\" halign=\"left\">M</th>\n",
        "    </tr>\n",
        "    <tr>\n",
        "      <th>year</th>\n",
        "      <th>1910</th>\n",
        "      <th>1960</th>\n",
        "      <th>2010</th>\n",
        "      <th>1910</th>\n",
        "      <th>1960</th>\n",
        "      <th>2010</th>\n",
        "    </tr>\n",
        "    <tr>\n",
        "      <th>last_letter</th>\n",
        "      <th></th>\n",
        "      <th></th>\n",
        "      <th></th>\n",
        "      <th></th>\n",
        "      <th></th>\n",
        "      <th></th>\n",
        "    </tr>\n",
        "  </thead>\n",
        "  <tbody>\n",
        "    <tr>\n",
        "      <th>a</th>\n",
        "      <td> 108395</td>\n",
        "      <td> 691251</td>\n",
        "      <td> 675059</td>\n",
        "      <td>   977</td>\n",
        "      <td>   5207</td>\n",
        "      <td>  28772</td>\n",
        "    </tr>\n",
        "    <tr>\n",
        "      <th>b</th>\n",
        "      <td>    NaN</td>\n",
        "      <td>    694</td>\n",
        "      <td>    454</td>\n",
        "      <td>   411</td>\n",
        "      <td>   3914</td>\n",
        "      <td>  39149</td>\n",
        "    </tr>\n",
        "    <tr>\n",
        "      <th>c</th>\n",
        "      <td>      5</td>\n",
        "      <td>     49</td>\n",
        "      <td>    953</td>\n",
        "      <td>   482</td>\n",
        "      <td>  15472</td>\n",
        "      <td>  23279</td>\n",
        "    </tr>\n",
        "    <tr>\n",
        "      <th>d</th>\n",
        "      <td>   6751</td>\n",
        "      <td>   3732</td>\n",
        "      <td>   2633</td>\n",
        "      <td> 22114</td>\n",
        "      <td> 262140</td>\n",
        "      <td>  44690</td>\n",
        "    </tr>\n",
        "    <tr>\n",
        "      <th>e</th>\n",
        "      <td> 133592</td>\n",
        "      <td> 435050</td>\n",
        "      <td> 315891</td>\n",
        "      <td> 28662</td>\n",
        "      <td> 178814</td>\n",
        "      <td> 129916</td>\n",
        "    </tr>\n",
        "  </tbody>\n",
        "</table>\n",
        "</div>"
       ],
       "metadata": {},
       "output_type": "pyout",
       "prompt_number": 89,
       "text": [
        "sex               F                      M                \n",
        "year           1910    1960    2010   1910    1960    2010\n",
        "last_letter                                               \n",
        "a            108395  691251  675059    977    5207   28772\n",
        "b               NaN     694     454    411    3914   39149\n",
        "c                 5      49     953    482   15472   23279\n",
        "d              6751    3732    2633  22114  262140   44690\n",
        "e            133592  435050  315891  28662  178814  129916"
       ]
      }
     ],
     "prompt_number": 89
    },
    {
     "cell_type": "code",
     "collapsed": false,
     "input": [
      "subtable.sum()"
     ],
     "language": "python",
     "metadata": {},
     "outputs": [
      {
       "metadata": {},
       "output_type": "pyout",
       "prompt_number": 90,
       "text": [
        "sex  year\n",
        "F    1910     396482\n",
        "     1960    2022126\n",
        "     2010    1770632\n",
        "M    1910     194214\n",
        "     1960    2132733\n",
        "     2010    1911572\n",
        "dtype: float64"
       ]
      }
     ],
     "prompt_number": 90
    },
    {
     "cell_type": "code",
     "collapsed": false,
     "input": [
      "letter_prop = subtable / subtable.sum().astype(float)"
     ],
     "language": "python",
     "metadata": {},
     "outputs": [],
     "prompt_number": 91
    },
    {
     "cell_type": "code",
     "collapsed": false,
     "input": [
      "fig, axes = plt.subplots(2, 1, figsize=(10, 8))\n",
      "letter_prop['M'].plot(kind='bar', rot=0, ax=axes[0], title='Male')\n",
      "letter_prop['F'].plot(kind='bar', rot=0, ax=axes[1], title='Female',legend=False)"
     ],
     "language": "python",
     "metadata": {},
     "outputs": [
      {
       "metadata": {},
       "output_type": "pyout",
       "prompt_number": 92,
       "text": [
        "<matplotlib.axes.AxesSubplot at 0x11f20ef90>"
       ]
      },
      {
       "metadata": {},
       "output_type": "display_data",
       "png": "[encoded data removed]",
       "text": [
        "<matplotlib.figure.Figure at 0x11d143d90>"
       ]
      }
     ],
     "prompt_number": 92
    },
    {
     "cell_type": "code",
     "collapsed": false,
     "input": [
      "letter_prop = table / table.sum().astype(float)\n",
      "dny_ts = letter_prop.ix[['d', 'n', 'y'], 'M'].T\n",
      "dny_ts.head()"
     ],
     "language": "python",
     "metadata": {},
     "outputs": [
      {
       "html": [
        "<div style=\"max-height:1000px;max-width:1500px;overflow:auto;\">\n",
        "<table border=\"1\" class=\"dataframe\">\n",
        "  <thead>\n",
        "    <tr style=\"text-align: right;\">\n",
        "      <th></th>\n",
        "      <th>d</th>\n",
        "      <th>n</th>\n",
        "      <th>y</th>\n",
        "    </tr>\n",
        "    <tr>\n",
        "      <th>year</th>\n",
        "      <th></th>\n",
        "      <th></th>\n",
        "      <th></th>\n",
        "    </tr>\n",
        "  </thead>\n",
        "  <tbody>\n",
        "    <tr>\n",
        "      <th>1880</th>\n",
        "      <td> 0.083057</td>\n",
        "      <td> 0.153216</td>\n",
        "      <td> 0.075762</td>\n",
        "    </tr>\n",
        "    <tr>\n",
        "      <th>1881</th>\n",
        "      <td> 0.083249</td>\n",
        "      <td> 0.153207</td>\n",
        "      <td> 0.077452</td>\n",
        "    </tr>\n",
        "    <tr>\n",
        "      <th>1882</th>\n",
        "      <td> 0.085340</td>\n",
        "      <td> 0.149560</td>\n",
        "      <td> 0.077537</td>\n",
        "    </tr>\n",
        "    <tr>\n",
        "      <th>1883</th>\n",
        "      <td> 0.084058</td>\n",
        "      <td> 0.151649</td>\n",
        "      <td> 0.079146</td>\n",
        "    </tr>\n",
        "    <tr>\n",
        "      <th>1884</th>\n",
        "      <td> 0.086120</td>\n",
        "      <td> 0.149915</td>\n",
        "      <td> 0.080405</td>\n",
        "    </tr>\n",
        "  </tbody>\n",
        "</table>\n",
        "</div>"
       ],
       "metadata": {},
       "output_type": "pyout",
       "prompt_number": 118,
       "text": [
        "             d         n         y\n",
        "year                              \n",
        "1880  0.083057  0.153216  0.075762\n",
        "1881  0.083249  0.153207  0.077452\n",
        "1882  0.085340  0.149560  0.077537\n",
        "1883  0.084058  0.151649  0.079146\n",
        "1884  0.086120  0.149915  0.080405"
       ]
      }
     ],
     "prompt_number": 118
    },
    {
     "cell_type": "code",
     "collapsed": false,
     "input": [
      "dny_ts.plot()"
     ],
     "language": "python",
     "metadata": {},
     "outputs": [
      {
       "metadata": {},
       "output_type": "pyout",
       "prompt_number": 119,
       "text": [
        "<matplotlib.axes.AxesSubplot at 0xe1c62d0>"
       ]
      },
      {
       "metadata": {},
       "output_type": "display_data",
       "png": "[encoded data removed]",
       "text": [
        "<matplotlib.figure.Figure at 0xd75ba10>"
       ]
      }
     ],
     "prompt_number": 119
    },
    {
     "cell_type": "code",
     "collapsed": false,
     "input": [
      "all_names = top1000.name.unique()\n",
      "mask = np.array(['lesl' in x.lower() for x in all_names])\n",
      "lesley_like = all_names[mask]\n",
      "lesley_like"
     ],
     "language": "python",
     "metadata": {},
     "outputs": [
      {
       "metadata": {},
       "output_type": "pyout",
       "prompt_number": 132,
       "text": [
        "array([Leslie, Lesley, Leslee, Lesli, Lesly], dtype=object)"
       ]
      }
     ],
     "prompt_number": 132
    },
    {
     "cell_type": "code",
     "collapsed": false,
     "input": [
      "filtered = top1000[top1000.name.isin(lesley_like)]\n",
      "filtered.groupby('name').births.sum()"
     ],
     "language": "python",
     "metadata": {},
     "outputs": [
      {
       "metadata": {},
       "output_type": "pyout",
       "prompt_number": 133,
       "text": [
        "name\n",
        "Leslee       993\n",
        "Lesley     35028\n",
        "Lesli        929\n",
        "Leslie    371764\n",
        "Lesly      10472\n",
        "Name: births, dtype: int64"
       ]
      }
     ],
     "prompt_number": 133
    },
    {
     "cell_type": "code",
     "collapsed": false,
     "input": [
      "table = filtered.pivot_table('births', rows='year', cols='sex', aggfunc='sum')\n",
      "table = table.div(table.sum(1), axis=0)\n",
      "table.tail()"
     ],
     "language": "python",
     "metadata": {},
     "outputs": [
      {
       "html": [
        "<div style=\"max-height:1000px;max-width:1500px;overflow:auto;\">\n",
        "<table border=\"1\" class=\"dataframe\">\n",
        "  <thead>\n",
        "    <tr style=\"text-align: right;\">\n",
        "      <th>sex</th>\n",
        "      <th>F</th>\n",
        "      <th>M</th>\n",
        "    </tr>\n",
        "    <tr>\n",
        "      <th>year</th>\n",
        "      <th></th>\n",
        "      <th></th>\n",
        "    </tr>\n",
        "  </thead>\n",
        "  <tbody>\n",
        "    <tr>\n",
        "      <th>2007</th>\n",
        "      <td> 1</td>\n",
        "      <td>NaN</td>\n",
        "    </tr>\n",
        "    <tr>\n",
        "      <th>2008</th>\n",
        "      <td> 1</td>\n",
        "      <td>NaN</td>\n",
        "    </tr>\n",
        "    <tr>\n",
        "      <th>2009</th>\n",
        "      <td> 1</td>\n",
        "      <td>NaN</td>\n",
        "    </tr>\n",
        "    <tr>\n",
        "      <th>2010</th>\n",
        "      <td> 1</td>\n",
        "      <td>NaN</td>\n",
        "    </tr>\n",
        "    <tr>\n",
        "      <th>2011</th>\n",
        "      <td> 1</td>\n",
        "      <td>NaN</td>\n",
        "    </tr>\n",
        "  </tbody>\n",
        "</table>\n",
        "</div>"
       ],
       "metadata": {},
       "output_type": "pyout",
       "prompt_number": 134,
       "text": [
        "sex   F   M\n",
        "year       \n",
        "2007  1 NaN\n",
        "2008  1 NaN\n",
        "2009  1 NaN\n",
        "2010  1 NaN\n",
        "2011  1 NaN"
       ]
      }
     ],
     "prompt_number": 134
    },
    {
     "cell_type": "code",
     "collapsed": false,
     "input": [
      "table.plot(style={'M': 'k-', 'F': 'k--'})"
     ],
     "language": "python",
     "metadata": {},
     "outputs": [
      {
       "metadata": {},
       "output_type": "pyout",
       "prompt_number": 135,
       "text": [
        "<matplotlib.axes.AxesSubplot at 0x7f404c2eb090>"
       ]
      },
      {
       "metadata": {},
       "output_type": "display_data",
       "png": "[encoded data removed]",
       "text": [
        "<matplotlib.figure.Figure at 0x7f404c2f4390>"
       ]
      }
     ],
     "prompt_number": 135
    }
   ],
   "metadata": {}
  }
 ]
}